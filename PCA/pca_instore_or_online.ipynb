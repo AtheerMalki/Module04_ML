{
  "nbformat": 4,
  "nbformat_minor": 0,
  "metadata": {
    "colab": {
      "name": "pca_riyadh_park.ipynb",
      "provenance": [],
      "toc_visible": true,
      "authorship_tag": "ABX9TyNxxrpDGrCWUKk6NMKeYNpB",
      "include_colab_link": true
    },
    "kernelspec": {
      "name": "python3",
      "display_name": "Python 3"
    }
  },
  "cells": [
    {
      "cell_type": "markdown",
      "metadata": {
        "id": "view-in-github",
        "colab_type": "text"
      },
      "source": [
        "<a href=\"https://colab.research.google.com/github/AtheerMalki/Module04_ML/blob/main/PCA/pca_instore_or_online.ipynb\" target=\"_parent\"><img src=\"https://colab.research.google.com/assets/colab-badge.svg\" alt=\"Open In Colab\"/></a>"
      ]
    },
    {
      "cell_type": "markdown",
      "metadata": {
        "id": "W2gtTBt9OqUM"
      },
      "source": [
        "## Experimenting with PCA"
      ]
    },
    {
      "cell_type": "markdown",
      "metadata": {
        "id": "13UXeJJgrUbN"
      },
      "source": [
        "Work through the notebooks in the [Data Science Handbook with Python](https://jakevdp.github.io/PythonDataScienceHandbook/05.09-principal-component-analysis.html). Use PCA to reduce the number of features in a dataset.\n",
        "\n"
      ]
    },
    {
      "cell_type": "code",
      "metadata": {
        "id": "WUPq-cVEDHH_"
      },
      "source": [
        "import pandas as pd\n",
        "import numpy as np\n",
        "import matplotlib.pyplot as plt\n",
        "import seaborn as sns; sns.set()\n",
        "from sklearn.preprocessing import StandardScaler\n",
        "from sklearn.decomposition import PCA\n",
        "\n",
        "%matplotlib inline"
      ],
      "execution_count": 57,
      "outputs": []
    },
    {
      "cell_type": "code",
      "metadata": {
        "colab": {
          "base_uri": "https://localhost:8080/",
          "height": 1000
        },
        "id": "9Gdiad8_IJVJ",
        "outputId": "0224943d-790d-492d-a484-e7eb10714d4e"
      },
      "source": [
        "df = pd.read_csv('https://raw.githubusercontent.com/AtheerMalki/Module04_ML/main/PCA/riyadh_park_pca.csv', nrows=30, index_col='Respondent_ID')\n",
        "print(df.shape)\n",
        "df"
      ],
      "execution_count": 58,
      "outputs": [
        {
          "output_type": "stream",
          "text": [
            "(30, 5)\n"
          ],
          "name": "stdout"
        },
        {
          "output_type": "execute_result",
          "data": {
            "text/html": [
              "<div>\n",
              "<style scoped>\n",
              "    .dataframe tbody tr th:only-of-type {\n",
              "        vertical-align: middle;\n",
              "    }\n",
              "\n",
              "    .dataframe tbody tr th {\n",
              "        vertical-align: top;\n",
              "    }\n",
              "\n",
              "    .dataframe thead th {\n",
              "        text-align: right;\n",
              "    }\n",
              "</style>\n",
              "<table border=\"1\" class=\"dataframe\">\n",
              "  <thead>\n",
              "    <tr style=\"text-align: right;\">\n",
              "      <th></th>\n",
              "      <th>gender</th>\n",
              "      <th>purchase_satisfaction</th>\n",
              "      <th>product_understandability</th>\n",
              "      <th>num_of_childern</th>\n",
              "      <th>instore_or_online</th>\n",
              "    </tr>\n",
              "    <tr>\n",
              "      <th>Respondent_ID</th>\n",
              "      <th></th>\n",
              "      <th></th>\n",
              "      <th></th>\n",
              "      <th></th>\n",
              "      <th></th>\n",
              "    </tr>\n",
              "  </thead>\n",
              "  <tbody>\n",
              "    <tr>\n",
              "      <th>1</th>\n",
              "      <td>1</td>\n",
              "      <td>2</td>\n",
              "      <td>2</td>\n",
              "      <td>0</td>\n",
              "      <td>0</td>\n",
              "    </tr>\n",
              "    <tr>\n",
              "      <th>2</th>\n",
              "      <td>1</td>\n",
              "      <td>2</td>\n",
              "      <td>2</td>\n",
              "      <td>0</td>\n",
              "      <td>0</td>\n",
              "    </tr>\n",
              "    <tr>\n",
              "      <th>3</th>\n",
              "      <td>2</td>\n",
              "      <td>3</td>\n",
              "      <td>3</td>\n",
              "      <td>3</td>\n",
              "      <td>1</td>\n",
              "    </tr>\n",
              "    <tr>\n",
              "      <th>4</th>\n",
              "      <td>1</td>\n",
              "      <td>5</td>\n",
              "      <td>5</td>\n",
              "      <td>0</td>\n",
              "      <td>0</td>\n",
              "    </tr>\n",
              "    <tr>\n",
              "      <th>5</th>\n",
              "      <td>1</td>\n",
              "      <td>7</td>\n",
              "      <td>7</td>\n",
              "      <td>0</td>\n",
              "      <td>0</td>\n",
              "    </tr>\n",
              "    <tr>\n",
              "      <th>6</th>\n",
              "      <td>2</td>\n",
              "      <td>5</td>\n",
              "      <td>5</td>\n",
              "      <td>1</td>\n",
              "      <td>1</td>\n",
              "    </tr>\n",
              "    <tr>\n",
              "      <th>7</th>\n",
              "      <td>2</td>\n",
              "      <td>7</td>\n",
              "      <td>7</td>\n",
              "      <td>0</td>\n",
              "      <td>1</td>\n",
              "    </tr>\n",
              "    <tr>\n",
              "      <th>8</th>\n",
              "      <td>2</td>\n",
              "      <td>4</td>\n",
              "      <td>5</td>\n",
              "      <td>3</td>\n",
              "      <td>1</td>\n",
              "    </tr>\n",
              "    <tr>\n",
              "      <th>9</th>\n",
              "      <td>1</td>\n",
              "      <td>6</td>\n",
              "      <td>7</td>\n",
              "      <td>2</td>\n",
              "      <td>0</td>\n",
              "    </tr>\n",
              "    <tr>\n",
              "      <th>10</th>\n",
              "      <td>2</td>\n",
              "      <td>6</td>\n",
              "      <td>7</td>\n",
              "      <td>0</td>\n",
              "      <td>1</td>\n",
              "    </tr>\n",
              "    <tr>\n",
              "      <th>11</th>\n",
              "      <td>1</td>\n",
              "      <td>6</td>\n",
              "      <td>7</td>\n",
              "      <td>2</td>\n",
              "      <td>0</td>\n",
              "    </tr>\n",
              "    <tr>\n",
              "      <th>12</th>\n",
              "      <td>1</td>\n",
              "      <td>7</td>\n",
              "      <td>6</td>\n",
              "      <td>1</td>\n",
              "      <td>0</td>\n",
              "    </tr>\n",
              "    <tr>\n",
              "      <th>13</th>\n",
              "      <td>1</td>\n",
              "      <td>7</td>\n",
              "      <td>6</td>\n",
              "      <td>0</td>\n",
              "      <td>0</td>\n",
              "    </tr>\n",
              "    <tr>\n",
              "      <th>14</th>\n",
              "      <td>2</td>\n",
              "      <td>6</td>\n",
              "      <td>6</td>\n",
              "      <td>0</td>\n",
              "      <td>1</td>\n",
              "    </tr>\n",
              "    <tr>\n",
              "      <th>15</th>\n",
              "      <td>3</td>\n",
              "      <td>6</td>\n",
              "      <td>6</td>\n",
              "      <td>2</td>\n",
              "      <td>1</td>\n",
              "    </tr>\n",
              "    <tr>\n",
              "      <th>16</th>\n",
              "      <td>1</td>\n",
              "      <td>7</td>\n",
              "      <td>7</td>\n",
              "      <td>0</td>\n",
              "      <td>0</td>\n",
              "    </tr>\n",
              "    <tr>\n",
              "      <th>17</th>\n",
              "      <td>2</td>\n",
              "      <td>6</td>\n",
              "      <td>5</td>\n",
              "      <td>0</td>\n",
              "      <td>0</td>\n",
              "    </tr>\n",
              "    <tr>\n",
              "      <th>18</th>\n",
              "      <td>2</td>\n",
              "      <td>6</td>\n",
              "      <td>5</td>\n",
              "      <td>0</td>\n",
              "      <td>1</td>\n",
              "    </tr>\n",
              "    <tr>\n",
              "      <th>19</th>\n",
              "      <td>1</td>\n",
              "      <td>6</td>\n",
              "      <td>5</td>\n",
              "      <td>1</td>\n",
              "      <td>0</td>\n",
              "    </tr>\n",
              "    <tr>\n",
              "      <th>20</th>\n",
              "      <td>2</td>\n",
              "      <td>6</td>\n",
              "      <td>5</td>\n",
              "      <td>0</td>\n",
              "      <td>1</td>\n",
              "    </tr>\n",
              "    <tr>\n",
              "      <th>21</th>\n",
              "      <td>2</td>\n",
              "      <td>4</td>\n",
              "      <td>4</td>\n",
              "      <td>2</td>\n",
              "      <td>1</td>\n",
              "    </tr>\n",
              "    <tr>\n",
              "      <th>22</th>\n",
              "      <td>1</td>\n",
              "      <td>7</td>\n",
              "      <td>7</td>\n",
              "      <td>0</td>\n",
              "      <td>0</td>\n",
              "    </tr>\n",
              "    <tr>\n",
              "      <th>23</th>\n",
              "      <td>2</td>\n",
              "      <td>6</td>\n",
              "      <td>6</td>\n",
              "      <td>0</td>\n",
              "      <td>1</td>\n",
              "    </tr>\n",
              "    <tr>\n",
              "      <th>24</th>\n",
              "      <td>1</td>\n",
              "      <td>7</td>\n",
              "      <td>7</td>\n",
              "      <td>1</td>\n",
              "      <td>0</td>\n",
              "    </tr>\n",
              "    <tr>\n",
              "      <th>25</th>\n",
              "      <td>2</td>\n",
              "      <td>6</td>\n",
              "      <td>6</td>\n",
              "      <td>0</td>\n",
              "      <td>1</td>\n",
              "    </tr>\n",
              "    <tr>\n",
              "      <th>26</th>\n",
              "      <td>2</td>\n",
              "      <td>7</td>\n",
              "      <td>7</td>\n",
              "      <td>0</td>\n",
              "      <td>0</td>\n",
              "    </tr>\n",
              "    <tr>\n",
              "      <th>27</th>\n",
              "      <td>2</td>\n",
              "      <td>3</td>\n",
              "      <td>3</td>\n",
              "      <td>0</td>\n",
              "      <td>0</td>\n",
              "    </tr>\n",
              "    <tr>\n",
              "      <th>28</th>\n",
              "      <td>2</td>\n",
              "      <td>6</td>\n",
              "      <td>6</td>\n",
              "      <td>1</td>\n",
              "      <td>0</td>\n",
              "    </tr>\n",
              "    <tr>\n",
              "      <th>29</th>\n",
              "      <td>2</td>\n",
              "      <td>5</td>\n",
              "      <td>5</td>\n",
              "      <td>2</td>\n",
              "      <td>1</td>\n",
              "    </tr>\n",
              "    <tr>\n",
              "      <th>30</th>\n",
              "      <td>1</td>\n",
              "      <td>7</td>\n",
              "      <td>7</td>\n",
              "      <td>2</td>\n",
              "      <td>0</td>\n",
              "    </tr>\n",
              "  </tbody>\n",
              "</table>\n",
              "</div>"
            ],
            "text/plain": [
              "               gender  ...  instore_or_online\n",
              "Respondent_ID          ...                   \n",
              "1                   1  ...                  0\n",
              "2                   1  ...                  0\n",
              "3                   2  ...                  1\n",
              "4                   1  ...                  0\n",
              "5                   1  ...                  0\n",
              "6                   2  ...                  1\n",
              "7                   2  ...                  1\n",
              "8                   2  ...                  1\n",
              "9                   1  ...                  0\n",
              "10                  2  ...                  1\n",
              "11                  1  ...                  0\n",
              "12                  1  ...                  0\n",
              "13                  1  ...                  0\n",
              "14                  2  ...                  1\n",
              "15                  3  ...                  1\n",
              "16                  1  ...                  0\n",
              "17                  2  ...                  0\n",
              "18                  2  ...                  1\n",
              "19                  1  ...                  0\n",
              "20                  2  ...                  1\n",
              "21                  2  ...                  1\n",
              "22                  1  ...                  0\n",
              "23                  2  ...                  1\n",
              "24                  1  ...                  0\n",
              "25                  2  ...                  1\n",
              "26                  2  ...                  0\n",
              "27                  2  ...                  0\n",
              "28                  2  ...                  0\n",
              "29                  2  ...                  1\n",
              "30                  1  ...                  0\n",
              "\n",
              "[30 rows x 5 columns]"
            ]
          },
          "metadata": {
            "tags": []
          },
          "execution_count": 58
        }
      ]
    },
    {
      "cell_type": "markdown",
      "metadata": {
        "id": "QjYPzcPYO0TL"
      },
      "source": [
        "Key \n",
        "\n",
        "Completely disagree\t------------ 1\n",
        "\n",
        "\n",
        "Disagree ------------------------------- 2\n",
        "\n",
        "Somewhat disagree\t------------- 3 \n",
        "\n",
        "Neither agree nor disagree -- 4 \n",
        "\n",
        "Somewhat agree ------------------ 5  \n",
        "\n",
        "Agree\t------------------------------------ 6 \n",
        "\n",
        "Completely agree ----------------- 7"
      ]
    },
    {
      "cell_type": "markdown",
      "metadata": {
        "id": "kFCGV11vsD_-"
      },
      "source": [
        "# Prediction / no pca"
      ]
    },
    {
      "cell_type": "code",
      "metadata": {
        "id": "osBS1PtUsCFd"
      },
      "source": [
        "from sklearn.linear_model import LinearRegression, LogisticRegression\n",
        "from sklearn.model_selection import train_test_split\n",
        "from sklearn.metrics import classification_report, confusion_matrix"
      ],
      "execution_count": 59,
      "outputs": []
    },
    {
      "cell_type": "code",
      "metadata": {
        "id": "CuExqtFywdeO"
      },
      "source": [
        "def pred_and_eval(X_train, X_test, y_train, y_test):\n",
        "  \n",
        "  lr = LogisticRegression()\n",
        "  lr.fit(X_train,y_train)\n",
        "  prediction = lr.predict(X_test)\n",
        "  matrix = confusion_matrix(y_test,prediction)\n",
        "\n",
        "  TP = matrix[0][0]\n",
        "  FP = matrix[0][1]\n",
        "  FN = matrix[1][0]\n",
        "  TN = matrix[1][1]\n",
        "\n",
        "  print(\"Accuracy: __ %1.3f\" % ((TP+TN)/(TP+FP+FN+TN))) # (true positive + true negative)/ number of guesses\n",
        "  print(\"Precision: %1.3f\" % (TP/(TP+FP))) # (num true positive)/(num tru positive + num false positive)\n",
        "  print(\"Recall: %1.3f\" % (TP/(TP+FN))) # (num true positive)/(num tru positive + num false negative)\n",
        "  print(\"Confusion matrix:\\n\", matrix)\n",
        "\n",
        "  classification_report(y_test,prediction)"
      ],
      "execution_count": 60,
      "outputs": []
    },
    {
      "cell_type": "code",
      "metadata": {
        "id": "ZF0S2hM6tBKu",
        "outputId": "af89ed43-d89b-4ec8-98e0-36aa36fb6e48",
        "colab": {
          "base_uri": "https://localhost:8080/"
        }
      },
      "source": [
        "X = df[['gender', 'purchase_satisfaction', 'product_understandability', 'num_of_childern']]\n",
        "y = df['instore_or_online']\n",
        "X_train, X_test, y_train, y_test = model_selection.train_test_split(X, y, train_size=0.70,test_size=0.30, random_state=42)\n",
        "pred_and_eval(X_train, X_test, y_train, y_test)"
      ],
      "execution_count": 61,
      "outputs": [
        {
          "output_type": "stream",
          "text": [
            "Accuracy: __ 0.667\n",
            "Precision: 0.800\n",
            "Recall: 0.667\n",
            "Confusion matrix:\n",
            " [[4 1]\n",
            " [2 2]]\n"
          ],
          "name": "stdout"
        }
      ]
    },
    {
      "cell_type": "markdown",
      "metadata": {
        "id": "APTgzKkLtOsA"
      },
      "source": [
        "# Conducting PCA"
      ]
    },
    {
      "cell_type": "code",
      "metadata": {
        "colab": {
          "base_uri": "https://localhost:8080/"
        },
        "id": "mtJZc1r5MVtM",
        "outputId": "6378db20-783a-4e8f-f235-5e6639dce153"
      },
      "source": [
        "# Standardization\n",
        "df_standarized = StandardScaler().fit_transform(df)\n",
        "df_standarized.shape\n",
        "df_standarized"
      ],
      "execution_count": 62,
      "outputs": [
        {
          "output_type": "execute_result",
          "data": {
            "text/plain": [
              "array([[-1.08347268, -2.44196441, -2.39185652, -0.77488969, -0.87447463],\n",
              "       [-1.08347268, -2.44196441, -2.39185652, -0.77488969, -0.87447463],\n",
              "       [ 0.72231512, -1.76364096, -1.71491599,  2.25728735,  1.14354375],\n",
              "       [-1.08347268, -0.40699407, -0.36103495, -0.77488969, -0.87447463],\n",
              "       [-1.08347268,  0.94965283,  0.9928461 , -0.77488969, -0.87447463],\n",
              "       [ 0.72231512, -0.40699407, -0.36103495,  0.23583599,  1.14354375],\n",
              "       [ 0.72231512,  0.94965283,  0.9928461 , -0.77488969,  1.14354375],\n",
              "       [ 0.72231512, -1.08531752, -0.36103495,  2.25728735,  1.14354375],\n",
              "       [-1.08347268,  0.27132938,  0.9928461 ,  1.24656167, -0.87447463],\n",
              "       [ 0.72231512,  0.27132938,  0.9928461 , -0.77488969,  1.14354375],\n",
              "       [-1.08347268,  0.27132938,  0.9928461 ,  1.24656167, -0.87447463],\n",
              "       [-1.08347268,  0.94965283,  0.31590558,  0.23583599, -0.87447463],\n",
              "       [-1.08347268,  0.94965283,  0.31590558, -0.77488969, -0.87447463],\n",
              "       [ 0.72231512,  0.27132938,  0.31590558, -0.77488969,  1.14354375],\n",
              "       [ 2.52810291,  0.27132938,  0.31590558,  1.24656167,  1.14354375],\n",
              "       [-1.08347268,  0.94965283,  0.9928461 , -0.77488969, -0.87447463],\n",
              "       [ 0.72231512,  0.27132938, -0.36103495, -0.77488969, -0.87447463],\n",
              "       [ 0.72231512,  0.27132938, -0.36103495, -0.77488969,  1.14354375],\n",
              "       [-1.08347268,  0.27132938, -0.36103495,  0.23583599, -0.87447463],\n",
              "       [ 0.72231512,  0.27132938, -0.36103495, -0.77488969,  1.14354375],\n",
              "       [ 0.72231512, -1.08531752, -1.03797547,  1.24656167,  1.14354375],\n",
              "       [-1.08347268,  0.94965283,  0.9928461 , -0.77488969, -0.87447463],\n",
              "       [ 0.72231512,  0.27132938,  0.31590558, -0.77488969,  1.14354375],\n",
              "       [-1.08347268,  0.94965283,  0.9928461 ,  0.23583599, -0.87447463],\n",
              "       [ 0.72231512,  0.27132938,  0.31590558, -0.77488969,  1.14354375],\n",
              "       [ 0.72231512,  0.94965283,  0.9928461 , -0.77488969, -0.87447463],\n",
              "       [ 0.72231512, -1.76364096, -1.71491599, -0.77488969, -0.87447463],\n",
              "       [ 0.72231512,  0.27132938,  0.31590558,  0.23583599, -0.87447463],\n",
              "       [ 0.72231512, -0.40699407, -0.36103495,  1.24656167,  1.14354375],\n",
              "       [-1.08347268,  0.94965283,  0.9928461 ,  1.24656167, -0.87447463]])"
            ]
          },
          "metadata": {
            "tags": []
          },
          "execution_count": 62
        }
      ]
    },
    {
      "cell_type": "code",
      "metadata": {
        "colab": {
          "base_uri": "https://localhost:8080/"
        },
        "id": "D9mNgGp1WCRA",
        "outputId": "4617014d-9a92-41b4-c060-bb083219e366"
      },
      "source": [
        "# check mean and std\n",
        "np.mean(df_standarized), np.std(df_standarized)"
      ],
      "execution_count": 63,
      "outputs": [
        {
          "output_type": "execute_result",
          "data": {
            "text/plain": [
              "(2.3684757858670008e-17, 1.0)"
            ]
          },
          "metadata": {
            "tags": []
          },
          "execution_count": 63
        }
      ]
    },
    {
      "cell_type": "code",
      "metadata": {
        "colab": {
          "base_uri": "https://localhost:8080/",
          "height": 979
        },
        "id": "wX99URmkYBMD",
        "outputId": "a9c80518-e86f-40f5-fc21-0971574c4c0f"
      },
      "source": [
        "df_standarized = pd.DataFrame(df_standarized, \n",
        "                              columns =[\"gender\", \"purchase_satisfaction\", \"product_understandability\", \"num_of_children\", \"instore_or_online\"])\n",
        "df_standarized"
      ],
      "execution_count": 64,
      "outputs": [
        {
          "output_type": "execute_result",
          "data": {
            "text/html": [
              "<div>\n",
              "<style scoped>\n",
              "    .dataframe tbody tr th:only-of-type {\n",
              "        vertical-align: middle;\n",
              "    }\n",
              "\n",
              "    .dataframe tbody tr th {\n",
              "        vertical-align: top;\n",
              "    }\n",
              "\n",
              "    .dataframe thead th {\n",
              "        text-align: right;\n",
              "    }\n",
              "</style>\n",
              "<table border=\"1\" class=\"dataframe\">\n",
              "  <thead>\n",
              "    <tr style=\"text-align: right;\">\n",
              "      <th></th>\n",
              "      <th>gender</th>\n",
              "      <th>purchase_satisfaction</th>\n",
              "      <th>product_understandability</th>\n",
              "      <th>num_of_children</th>\n",
              "      <th>instore_or_online</th>\n",
              "    </tr>\n",
              "  </thead>\n",
              "  <tbody>\n",
              "    <tr>\n",
              "      <th>0</th>\n",
              "      <td>-1.083473</td>\n",
              "      <td>-2.441964</td>\n",
              "      <td>-2.391857</td>\n",
              "      <td>-0.774890</td>\n",
              "      <td>-0.874475</td>\n",
              "    </tr>\n",
              "    <tr>\n",
              "      <th>1</th>\n",
              "      <td>-1.083473</td>\n",
              "      <td>-2.441964</td>\n",
              "      <td>-2.391857</td>\n",
              "      <td>-0.774890</td>\n",
              "      <td>-0.874475</td>\n",
              "    </tr>\n",
              "    <tr>\n",
              "      <th>2</th>\n",
              "      <td>0.722315</td>\n",
              "      <td>-1.763641</td>\n",
              "      <td>-1.714916</td>\n",
              "      <td>2.257287</td>\n",
              "      <td>1.143544</td>\n",
              "    </tr>\n",
              "    <tr>\n",
              "      <th>3</th>\n",
              "      <td>-1.083473</td>\n",
              "      <td>-0.406994</td>\n",
              "      <td>-0.361035</td>\n",
              "      <td>-0.774890</td>\n",
              "      <td>-0.874475</td>\n",
              "    </tr>\n",
              "    <tr>\n",
              "      <th>4</th>\n",
              "      <td>-1.083473</td>\n",
              "      <td>0.949653</td>\n",
              "      <td>0.992846</td>\n",
              "      <td>-0.774890</td>\n",
              "      <td>-0.874475</td>\n",
              "    </tr>\n",
              "    <tr>\n",
              "      <th>5</th>\n",
              "      <td>0.722315</td>\n",
              "      <td>-0.406994</td>\n",
              "      <td>-0.361035</td>\n",
              "      <td>0.235836</td>\n",
              "      <td>1.143544</td>\n",
              "    </tr>\n",
              "    <tr>\n",
              "      <th>6</th>\n",
              "      <td>0.722315</td>\n",
              "      <td>0.949653</td>\n",
              "      <td>0.992846</td>\n",
              "      <td>-0.774890</td>\n",
              "      <td>1.143544</td>\n",
              "    </tr>\n",
              "    <tr>\n",
              "      <th>7</th>\n",
              "      <td>0.722315</td>\n",
              "      <td>-1.085318</td>\n",
              "      <td>-0.361035</td>\n",
              "      <td>2.257287</td>\n",
              "      <td>1.143544</td>\n",
              "    </tr>\n",
              "    <tr>\n",
              "      <th>8</th>\n",
              "      <td>-1.083473</td>\n",
              "      <td>0.271329</td>\n",
              "      <td>0.992846</td>\n",
              "      <td>1.246562</td>\n",
              "      <td>-0.874475</td>\n",
              "    </tr>\n",
              "    <tr>\n",
              "      <th>9</th>\n",
              "      <td>0.722315</td>\n",
              "      <td>0.271329</td>\n",
              "      <td>0.992846</td>\n",
              "      <td>-0.774890</td>\n",
              "      <td>1.143544</td>\n",
              "    </tr>\n",
              "    <tr>\n",
              "      <th>10</th>\n",
              "      <td>-1.083473</td>\n",
              "      <td>0.271329</td>\n",
              "      <td>0.992846</td>\n",
              "      <td>1.246562</td>\n",
              "      <td>-0.874475</td>\n",
              "    </tr>\n",
              "    <tr>\n",
              "      <th>11</th>\n",
              "      <td>-1.083473</td>\n",
              "      <td>0.949653</td>\n",
              "      <td>0.315906</td>\n",
              "      <td>0.235836</td>\n",
              "      <td>-0.874475</td>\n",
              "    </tr>\n",
              "    <tr>\n",
              "      <th>12</th>\n",
              "      <td>-1.083473</td>\n",
              "      <td>0.949653</td>\n",
              "      <td>0.315906</td>\n",
              "      <td>-0.774890</td>\n",
              "      <td>-0.874475</td>\n",
              "    </tr>\n",
              "    <tr>\n",
              "      <th>13</th>\n",
              "      <td>0.722315</td>\n",
              "      <td>0.271329</td>\n",
              "      <td>0.315906</td>\n",
              "      <td>-0.774890</td>\n",
              "      <td>1.143544</td>\n",
              "    </tr>\n",
              "    <tr>\n",
              "      <th>14</th>\n",
              "      <td>2.528103</td>\n",
              "      <td>0.271329</td>\n",
              "      <td>0.315906</td>\n",
              "      <td>1.246562</td>\n",
              "      <td>1.143544</td>\n",
              "    </tr>\n",
              "    <tr>\n",
              "      <th>15</th>\n",
              "      <td>-1.083473</td>\n",
              "      <td>0.949653</td>\n",
              "      <td>0.992846</td>\n",
              "      <td>-0.774890</td>\n",
              "      <td>-0.874475</td>\n",
              "    </tr>\n",
              "    <tr>\n",
              "      <th>16</th>\n",
              "      <td>0.722315</td>\n",
              "      <td>0.271329</td>\n",
              "      <td>-0.361035</td>\n",
              "      <td>-0.774890</td>\n",
              "      <td>-0.874475</td>\n",
              "    </tr>\n",
              "    <tr>\n",
              "      <th>17</th>\n",
              "      <td>0.722315</td>\n",
              "      <td>0.271329</td>\n",
              "      <td>-0.361035</td>\n",
              "      <td>-0.774890</td>\n",
              "      <td>1.143544</td>\n",
              "    </tr>\n",
              "    <tr>\n",
              "      <th>18</th>\n",
              "      <td>-1.083473</td>\n",
              "      <td>0.271329</td>\n",
              "      <td>-0.361035</td>\n",
              "      <td>0.235836</td>\n",
              "      <td>-0.874475</td>\n",
              "    </tr>\n",
              "    <tr>\n",
              "      <th>19</th>\n",
              "      <td>0.722315</td>\n",
              "      <td>0.271329</td>\n",
              "      <td>-0.361035</td>\n",
              "      <td>-0.774890</td>\n",
              "      <td>1.143544</td>\n",
              "    </tr>\n",
              "    <tr>\n",
              "      <th>20</th>\n",
              "      <td>0.722315</td>\n",
              "      <td>-1.085318</td>\n",
              "      <td>-1.037975</td>\n",
              "      <td>1.246562</td>\n",
              "      <td>1.143544</td>\n",
              "    </tr>\n",
              "    <tr>\n",
              "      <th>21</th>\n",
              "      <td>-1.083473</td>\n",
              "      <td>0.949653</td>\n",
              "      <td>0.992846</td>\n",
              "      <td>-0.774890</td>\n",
              "      <td>-0.874475</td>\n",
              "    </tr>\n",
              "    <tr>\n",
              "      <th>22</th>\n",
              "      <td>0.722315</td>\n",
              "      <td>0.271329</td>\n",
              "      <td>0.315906</td>\n",
              "      <td>-0.774890</td>\n",
              "      <td>1.143544</td>\n",
              "    </tr>\n",
              "    <tr>\n",
              "      <th>23</th>\n",
              "      <td>-1.083473</td>\n",
              "      <td>0.949653</td>\n",
              "      <td>0.992846</td>\n",
              "      <td>0.235836</td>\n",
              "      <td>-0.874475</td>\n",
              "    </tr>\n",
              "    <tr>\n",
              "      <th>24</th>\n",
              "      <td>0.722315</td>\n",
              "      <td>0.271329</td>\n",
              "      <td>0.315906</td>\n",
              "      <td>-0.774890</td>\n",
              "      <td>1.143544</td>\n",
              "    </tr>\n",
              "    <tr>\n",
              "      <th>25</th>\n",
              "      <td>0.722315</td>\n",
              "      <td>0.949653</td>\n",
              "      <td>0.992846</td>\n",
              "      <td>-0.774890</td>\n",
              "      <td>-0.874475</td>\n",
              "    </tr>\n",
              "    <tr>\n",
              "      <th>26</th>\n",
              "      <td>0.722315</td>\n",
              "      <td>-1.763641</td>\n",
              "      <td>-1.714916</td>\n",
              "      <td>-0.774890</td>\n",
              "      <td>-0.874475</td>\n",
              "    </tr>\n",
              "    <tr>\n",
              "      <th>27</th>\n",
              "      <td>0.722315</td>\n",
              "      <td>0.271329</td>\n",
              "      <td>0.315906</td>\n",
              "      <td>0.235836</td>\n",
              "      <td>-0.874475</td>\n",
              "    </tr>\n",
              "    <tr>\n",
              "      <th>28</th>\n",
              "      <td>0.722315</td>\n",
              "      <td>-0.406994</td>\n",
              "      <td>-0.361035</td>\n",
              "      <td>1.246562</td>\n",
              "      <td>1.143544</td>\n",
              "    </tr>\n",
              "    <tr>\n",
              "      <th>29</th>\n",
              "      <td>-1.083473</td>\n",
              "      <td>0.949653</td>\n",
              "      <td>0.992846</td>\n",
              "      <td>1.246562</td>\n",
              "      <td>-0.874475</td>\n",
              "    </tr>\n",
              "  </tbody>\n",
              "</table>\n",
              "</div>"
            ],
            "text/plain": [
              "      gender  purchase_satisfaction  ...  num_of_children  instore_or_online\n",
              "0  -1.083473              -2.441964  ...        -0.774890          -0.874475\n",
              "1  -1.083473              -2.441964  ...        -0.774890          -0.874475\n",
              "2   0.722315              -1.763641  ...         2.257287           1.143544\n",
              "3  -1.083473              -0.406994  ...        -0.774890          -0.874475\n",
              "4  -1.083473               0.949653  ...        -0.774890          -0.874475\n",
              "5   0.722315              -0.406994  ...         0.235836           1.143544\n",
              "6   0.722315               0.949653  ...        -0.774890           1.143544\n",
              "7   0.722315              -1.085318  ...         2.257287           1.143544\n",
              "8  -1.083473               0.271329  ...         1.246562          -0.874475\n",
              "9   0.722315               0.271329  ...        -0.774890           1.143544\n",
              "10 -1.083473               0.271329  ...         1.246562          -0.874475\n",
              "11 -1.083473               0.949653  ...         0.235836          -0.874475\n",
              "12 -1.083473               0.949653  ...        -0.774890          -0.874475\n",
              "13  0.722315               0.271329  ...        -0.774890           1.143544\n",
              "14  2.528103               0.271329  ...         1.246562           1.143544\n",
              "15 -1.083473               0.949653  ...        -0.774890          -0.874475\n",
              "16  0.722315               0.271329  ...        -0.774890          -0.874475\n",
              "17  0.722315               0.271329  ...        -0.774890           1.143544\n",
              "18 -1.083473               0.271329  ...         0.235836          -0.874475\n",
              "19  0.722315               0.271329  ...        -0.774890           1.143544\n",
              "20  0.722315              -1.085318  ...         1.246562           1.143544\n",
              "21 -1.083473               0.949653  ...        -0.774890          -0.874475\n",
              "22  0.722315               0.271329  ...        -0.774890           1.143544\n",
              "23 -1.083473               0.949653  ...         0.235836          -0.874475\n",
              "24  0.722315               0.271329  ...        -0.774890           1.143544\n",
              "25  0.722315               0.949653  ...        -0.774890          -0.874475\n",
              "26  0.722315              -1.763641  ...        -0.774890          -0.874475\n",
              "27  0.722315               0.271329  ...         0.235836          -0.874475\n",
              "28  0.722315              -0.406994  ...         1.246562           1.143544\n",
              "29 -1.083473               0.949653  ...         1.246562          -0.874475\n",
              "\n",
              "[30 rows x 5 columns]"
            ]
          },
          "metadata": {
            "tags": []
          },
          "execution_count": 64
        }
      ]
    },
    {
      "cell_type": "code",
      "metadata": {
        "colab": {
          "base_uri": "https://localhost:8080/",
          "height": 285
        },
        "id": "rvC9jVkrIab7",
        "outputId": "a1a1a74d-52dd-4b24-9358-60bc5bf3d1b2"
      },
      "source": [
        "x=df_standarized['purchase_satisfaction']\n",
        "y=df_standarized['product_understandability']\n",
        "plt.scatter(x, y)"
      ],
      "execution_count": 65,
      "outputs": [
        {
          "output_type": "execute_result",
          "data": {
            "text/plain": [
              "<matplotlib.collections.PathCollection at 0x7f6cb3a1a828>"
            ]
          },
          "metadata": {
            "tags": []
          },
          "execution_count": 65
        },
        {
          "output_type": "display_data",
          "data": {
            "image/png": "[encoded data removed]",
            "text/plain": [
              "<Figure size 432x288 with 1 Axes>"
            ]
          },
          "metadata": {
            "tags": [],
            "needs_background": "light"
          }
        }
      ]
    },
    {
      "cell_type": "code",
      "metadata": {
        "colab": {
          "base_uri": "https://localhost:8080/"
        },
        "id": "4VZa5eO1Kfcs",
        "outputId": "0795ad16-1289-46b7-d385-d12b19fc9223"
      },
      "source": [
        "# PCA\n",
        "pca = PCA(n_components=2)\n",
        "principalComponents_df = pca.fit_transform(df_standarized)\n",
        "principalComponents_df"
      ],
      "execution_count": 66,
      "outputs": [
        {
          "output_type": "execute_result",
          "data": {
            "text/plain": [
              "array([[ 1.65250196,  3.29010697],\n",
              "       [ 1.65250196,  3.29010697],\n",
              "       [ 3.23009867,  0.22404949],\n",
              "       [-0.5744994 ,  1.50318643],\n",
              "       [-2.05916697,  0.31190607],\n",
              "       [ 1.24953524, -0.7142539 ],\n",
              "       [-0.48308026, -1.77904577],\n",
              "       [ 2.12624315, -0.67902284],\n",
              "       [-1.18245906,  0.34713712],\n",
              "       [-0.10226821, -1.49083775],\n",
              "       [-1.18245906,  0.34713712],\n",
              "       [-1.44969731,  0.49284974],\n",
              "       [-1.69764524,  0.61933822],\n",
              "       [ 0.25925352, -1.18340559],\n",
              "       [ 1.49155279, -2.41584753],\n",
              "       [-2.05916697,  0.31190607],\n",
              "       [-0.21890804,  0.23551344],\n",
              "       [ 0.62077525, -0.87597344],\n",
              "       [-0.70736352,  1.08848992],\n",
              "       [ 0.62077525, -0.87597344],\n",
              "       [ 2.23981695, -0.2451022 ],\n",
              "       [-2.05916697,  0.31190607],\n",
              "       [ 0.25925352, -1.18340559],\n",
              "       [-1.81121904,  0.18541758],\n",
              "       [ 0.25925352, -1.18340559],\n",
              "       [-1.32276356, -0.6675589 ],\n",
              "       [ 1.64657159,  1.71500182],\n",
              "       [-0.33248184, -0.1984072 ],\n",
              "       [ 1.49748317, -0.84074238],\n",
              "       [-1.56327111,  0.0589291 ]])"
            ]
          },
          "metadata": {
            "tags": []
          },
          "execution_count": 66
        }
      ]
    },
    {
      "cell_type": "code",
      "metadata": {
        "colab": {
          "base_uri": "https://localhost:8080/",
          "height": 979
        },
        "id": "6AoREEW4aSN0",
        "outputId": "a5d3d6f3-d30e-4110-cc65-3fdfcdf5c355"
      },
      "source": [
        "df_pcs = pd.DataFrame(data = principalComponents_df,\n",
        "                      columns = ['pc_1', 'pc_2'])\n",
        "df_pcs"
      ],
      "execution_count": 67,
      "outputs": [
        {
          "output_type": "execute_result",
          "data": {
            "text/html": [
              "<div>\n",
              "<style scoped>\n",
              "    .dataframe tbody tr th:only-of-type {\n",
              "        vertical-align: middle;\n",
              "    }\n",
              "\n",
              "    .dataframe tbody tr th {\n",
              "        vertical-align: top;\n",
              "    }\n",
              "\n",
              "    .dataframe thead th {\n",
              "        text-align: right;\n",
              "    }\n",
              "</style>\n",
              "<table border=\"1\" class=\"dataframe\">\n",
              "  <thead>\n",
              "    <tr style=\"text-align: right;\">\n",
              "      <th></th>\n",
              "      <th>pc_1</th>\n",
              "      <th>pc_2</th>\n",
              "    </tr>\n",
              "  </thead>\n",
              "  <tbody>\n",
              "    <tr>\n",
              "      <th>0</th>\n",
              "      <td>1.652502</td>\n",
              "      <td>3.290107</td>\n",
              "    </tr>\n",
              "    <tr>\n",
              "      <th>1</th>\n",
              "      <td>1.652502</td>\n",
              "      <td>3.290107</td>\n",
              "    </tr>\n",
              "    <tr>\n",
              "      <th>2</th>\n",
              "      <td>3.230099</td>\n",
              "      <td>0.224049</td>\n",
              "    </tr>\n",
              "    <tr>\n",
              "      <th>3</th>\n",
              "      <td>-0.574499</td>\n",
              "      <td>1.503186</td>\n",
              "    </tr>\n",
              "    <tr>\n",
              "      <th>4</th>\n",
              "      <td>-2.059167</td>\n",
              "      <td>0.311906</td>\n",
              "    </tr>\n",
              "    <tr>\n",
              "      <th>5</th>\n",
              "      <td>1.249535</td>\n",
              "      <td>-0.714254</td>\n",
              "    </tr>\n",
              "    <tr>\n",
              "      <th>6</th>\n",
              "      <td>-0.483080</td>\n",
              "      <td>-1.779046</td>\n",
              "    </tr>\n",
              "    <tr>\n",
              "      <th>7</th>\n",
              "      <td>2.126243</td>\n",
              "      <td>-0.679023</td>\n",
              "    </tr>\n",
              "    <tr>\n",
              "      <th>8</th>\n",
              "      <td>-1.182459</td>\n",
              "      <td>0.347137</td>\n",
              "    </tr>\n",
              "    <tr>\n",
              "      <th>9</th>\n",
              "      <td>-0.102268</td>\n",
              "      <td>-1.490838</td>\n",
              "    </tr>\n",
              "    <tr>\n",
              "      <th>10</th>\n",
              "      <td>-1.182459</td>\n",
              "      <td>0.347137</td>\n",
              "    </tr>\n",
              "    <tr>\n",
              "      <th>11</th>\n",
              "      <td>-1.449697</td>\n",
              "      <td>0.492850</td>\n",
              "    </tr>\n",
              "    <tr>\n",
              "      <th>12</th>\n",
              "      <td>-1.697645</td>\n",
              "      <td>0.619338</td>\n",
              "    </tr>\n",
              "    <tr>\n",
              "      <th>13</th>\n",
              "      <td>0.259254</td>\n",
              "      <td>-1.183406</td>\n",
              "    </tr>\n",
              "    <tr>\n",
              "      <th>14</th>\n",
              "      <td>1.491553</td>\n",
              "      <td>-2.415848</td>\n",
              "    </tr>\n",
              "    <tr>\n",
              "      <th>15</th>\n",
              "      <td>-2.059167</td>\n",
              "      <td>0.311906</td>\n",
              "    </tr>\n",
              "    <tr>\n",
              "      <th>16</th>\n",
              "      <td>-0.218908</td>\n",
              "      <td>0.235513</td>\n",
              "    </tr>\n",
              "    <tr>\n",
              "      <th>17</th>\n",
              "      <td>0.620775</td>\n",
              "      <td>-0.875973</td>\n",
              "    </tr>\n",
              "    <tr>\n",
              "      <th>18</th>\n",
              "      <td>-0.707364</td>\n",
              "      <td>1.088490</td>\n",
              "    </tr>\n",
              "    <tr>\n",
              "      <th>19</th>\n",
              "      <td>0.620775</td>\n",
              "      <td>-0.875973</td>\n",
              "    </tr>\n",
              "    <tr>\n",
              "      <th>20</th>\n",
              "      <td>2.239817</td>\n",
              "      <td>-0.245102</td>\n",
              "    </tr>\n",
              "    <tr>\n",
              "      <th>21</th>\n",
              "      <td>-2.059167</td>\n",
              "      <td>0.311906</td>\n",
              "    </tr>\n",
              "    <tr>\n",
              "      <th>22</th>\n",
              "      <td>0.259254</td>\n",
              "      <td>-1.183406</td>\n",
              "    </tr>\n",
              "    <tr>\n",
              "      <th>23</th>\n",
              "      <td>-1.811219</td>\n",
              "      <td>0.185418</td>\n",
              "    </tr>\n",
              "    <tr>\n",
              "      <th>24</th>\n",
              "      <td>0.259254</td>\n",
              "      <td>-1.183406</td>\n",
              "    </tr>\n",
              "    <tr>\n",
              "      <th>25</th>\n",
              "      <td>-1.322764</td>\n",
              "      <td>-0.667559</td>\n",
              "    </tr>\n",
              "    <tr>\n",
              "      <th>26</th>\n",
              "      <td>1.646572</td>\n",
              "      <td>1.715002</td>\n",
              "    </tr>\n",
              "    <tr>\n",
              "      <th>27</th>\n",
              "      <td>-0.332482</td>\n",
              "      <td>-0.198407</td>\n",
              "    </tr>\n",
              "    <tr>\n",
              "      <th>28</th>\n",
              "      <td>1.497483</td>\n",
              "      <td>-0.840742</td>\n",
              "    </tr>\n",
              "    <tr>\n",
              "      <th>29</th>\n",
              "      <td>-1.563271</td>\n",
              "      <td>0.058929</td>\n",
              "    </tr>\n",
              "  </tbody>\n",
              "</table>\n",
              "</div>"
            ],
            "text/plain": [
              "        pc_1      pc_2\n",
              "0   1.652502  3.290107\n",
              "1   1.652502  3.290107\n",
              "2   3.230099  0.224049\n",
              "3  -0.574499  1.503186\n",
              "4  -2.059167  0.311906\n",
              "5   1.249535 -0.714254\n",
              "6  -0.483080 -1.779046\n",
              "7   2.126243 -0.679023\n",
              "8  -1.182459  0.347137\n",
              "9  -0.102268 -1.490838\n",
              "10 -1.182459  0.347137\n",
              "11 -1.449697  0.492850\n",
              "12 -1.697645  0.619338\n",
              "13  0.259254 -1.183406\n",
              "14  1.491553 -2.415848\n",
              "15 -2.059167  0.311906\n",
              "16 -0.218908  0.235513\n",
              "17  0.620775 -0.875973\n",
              "18 -0.707364  1.088490\n",
              "19  0.620775 -0.875973\n",
              "20  2.239817 -0.245102\n",
              "21 -2.059167  0.311906\n",
              "22  0.259254 -1.183406\n",
              "23 -1.811219  0.185418\n",
              "24  0.259254 -1.183406\n",
              "25 -1.322764 -0.667559\n",
              "26  1.646572  1.715002\n",
              "27 -0.332482 -0.198407\n",
              "28  1.497483 -0.840742\n",
              "29 -1.563271  0.058929"
            ]
          },
          "metadata": {
            "tags": []
          },
          "execution_count": 67
        }
      ]
    },
    {
      "cell_type": "code",
      "metadata": {
        "colab": {
          "base_uri": "https://localhost:8080/"
        },
        "id": "7w6TEOwma5lv",
        "outputId": "7f1081d1-d25a-4cb3-f4f0-655beb008895"
      },
      "source": [
        "print('Explained variation per principal component: {}'.format(pca.explained_variance_ratio_))"
      ],
      "execution_count": 68,
      "outputs": [
        {
          "output_type": "stream",
          "text": [
            "Explained variation per principal component: [0.42901413 0.3234744 ]\n"
          ],
          "name": "stdout"
        }
      ]
    },
    {
      "cell_type": "markdown",
      "metadata": {
        "id": "NKxbrIt1b_SP"
      },
      "source": [
        "**pc 4** (*num_of_children*) and **pc 1**: (*gender*) hold 48% and 42% of information about the data, respectively.\n",
        "**pc 2** (*purchase_satisfaction*) comes 3rd with 32% of info."
      ]
    },
    {
      "cell_type": "code",
      "metadata": {
        "colab": {
          "base_uri": "https://localhost:8080/",
          "height": 285
        },
        "id": "2upIPR_JbJyr",
        "outputId": "a03d1c49-045f-4ee9-d9ea-83eeab8ff5c6"
      },
      "source": [
        "sns.lineplot(data=df_pcs)"
      ],
      "execution_count": 69,
      "outputs": [
        {
          "output_type": "execute_result",
          "data": {
            "text/plain": [
              "<matplotlib.axes._subplots.AxesSubplot at 0x7f6cb39f8fd0>"
            ]
          },
          "metadata": {
            "tags": []
          },
          "execution_count": 69
        },
        {
          "output_type": "display_data",
          "data": {
            "image/png": "[encoded data removed]",
            "text/plain": [
              "<Figure size 432x288 with 1 Axes>"
            ]
          },
          "metadata": {
            "tags": [],
            "needs_background": "light"
          }
        }
      ]
    },
    {
      "cell_type": "code",
      "metadata": {
        "colab": {
          "base_uri": "https://localhost:8080/",
          "height": 658
        },
        "id": "O5YdXvY4drLA",
        "outputId": "ee56fdbc-3631-4054-ce29-baef67e42958"
      },
      "source": [
        "plt.figure(figsize=(10,10), )\n",
        "\n",
        "plt.xticks(fontsize=12)\n",
        "plt.yticks(fontsize=14)\n",
        "\n",
        "plt.xlabel('pc 1',fontsize=20)\n",
        "plt.ylabel('pc 2',fontsize=20)\n",
        "\n",
        "plt.title(\"Principal Component Analysis\",fontsize=20)\n",
        "\n",
        "targets = [0, 1] # 0:instore 1:online\n",
        "colors = ['b', 'y']\n",
        "\n",
        "for target, color in zip(targets,colors):\n",
        "    mergedDf = df_pcs.merge(df, left_index=True, right_index=True) \n",
        "    indicesToKeep = mergedDf.loc[mergedDf['instore_or_online'] == target]\n",
        "    \n",
        "    x = indicesToKeep['pc_1']\n",
        "    y = indicesToKeep['pc_2']\n",
        "    \n",
        "    plt.scatter(x, y, c = color, s = 50)\n",
        "    \n",
        "    z = np.polyfit(x, y, 1)\n",
        "    p = np.poly1d(z)\n",
        "    plt.plot(x,p(x),\"r--\", color=color)\n",
        "\n",
        "plt.legend(targets,prop={'size': 15})\n",
        "plt.show"
      ],
      "execution_count": 70,
      "outputs": [
        {
          "output_type": "execute_result",
          "data": {
            "text/plain": [
              "<function matplotlib.pyplot.show>"
            ]
          },
          "metadata": {
            "tags": []
          },
          "execution_count": 70
        },
        {
          "output_type": "display_data",
          "data": {
            "image/png": "[encoded data removed]",
            "text/plain": [
              "<Figure size 720x720 with 1 Axes>"
            ]
          },
          "metadata": {
            "tags": [],
            "needs_background": "light"
          }
        }
      ]
    },
    {
      "cell_type": "markdown",
      "metadata": {
        "id": "hsX6WJKGvI5j"
      },
      "source": [
        "# Prediction / with pca"
      ]
    },
    {
      "cell_type": "code",
      "metadata": {
        "id": "xMEDXWD4e__n",
        "outputId": "34eefca1-643f-4ba3-9f45-0d3a81ad73db",
        "colab": {
          "base_uri": "https://localhost:8080/"
        }
      },
      "source": [
        "X = df[['gender', 'purchase_satisfaction']]\n",
        "y = df['instore_or_online']\n",
        "X_train, X_test, y_train, y_test = model_selection.train_test_split(X, y, train_size=0.70,test_size=0.30, random_state=42)\n",
        "pred_and_eval(X_train, X_test, y_train, y_test)"
      ],
      "execution_count": 73,
      "outputs": [
        {
          "output_type": "stream",
          "text": [
            "Accuracy: __ 0.889\n",
            "Precision: 0.800\n",
            "Recall: 1.000\n",
            "Confusion matrix:\n",
            " [[4 1]\n",
            " [0 4]]\n"
          ],
          "name": "stdout"
        }
      ]
    },
    {
      "cell_type": "code",
      "metadata": {
        "id": "c-_NtsVaxL4N"
      },
      "source": [
        ""
      ],
      "execution_count": 71,
      "outputs": []
    }
  ]
}