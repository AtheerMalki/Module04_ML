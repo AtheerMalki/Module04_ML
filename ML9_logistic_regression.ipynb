{
  "nbformat": 4,
  "nbformat_minor": 0,
  "metadata": {
    "kernelspec": {
      "display_name": "Python 3",
      "language": "python",
      "name": "python3"
    },
    "language_info": {
      "codemirror_mode": {
        "name": "ipython",
        "version": 3
      },
      "file_extension": ".py",
      "mimetype": "text/x-python",
      "name": "python",
      "nbconvert_exporter": "python",
      "pygments_lexer": "ipython3",
      "version": "3.5.6"
    },
    "colab": {
      "name": "ML9_logistic_regression.ipynb",
      "provenance": [],
      "include_colab_link": true
    }
  },
  "cells": [
    {
      "cell_type": "markdown",
      "metadata": {
        "id": "view-in-github",
        "colab_type": "text"
      },
      "source": [
        "<a href=\"https://colab.research.google.com/github/AtheerMalki/Module04_ML/blob/main/ML9_logistic_regression.ipynb\" target=\"_parent\"><img src=\"https://colab.research.google.com/assets/colab-badge.svg\" alt=\"Open In Colab\"/></a>"
      ]
    },
    {
      "cell_type": "markdown",
      "metadata": {
        "id": "WqhJwIQ9y2XQ"
      },
      "source": [
        "### Logistic Regression\n",
        "Use scikit-learn and build a logistic regression prediction model, with at least three input variables, for the Seattle Weather data or any data you choose.\n",
        "\n",
        "Predict if it is going to rain tomorrow (true or false). Iterate on your feature set until you have a performance that you are happy with."
      ]
    },
    {
      "cell_type": "code",
      "metadata": {
        "id": "TJBvKZjMy2XR"
      },
      "source": [
        "#import the packages that we will need\n",
        "import pandas as pd\n",
        "import matplotlib.pyplot as plt\n",
        "import seaborn as sns\n",
        "import numpy as np\n",
        "import sklearn\n",
        "from sklearn.linear_model import LinearRegression \n",
        "from sklearn.model_selection import train_test_split "
      ],
      "execution_count": 1,
      "outputs": []
    },
    {
      "cell_type": "code",
      "metadata": {
        "id": "g6sdO80szupD"
      },
      "source": [
        "df = pd.read_csv('https://raw.githubusercontent.com/russellromney/seattle-weather/master/seattleWeather_1948-2017.csv')"
      ],
      "execution_count": 2,
      "outputs": []
    },
    {
      "cell_type": "code",
      "metadata": {
        "colab": {
          "base_uri": "https://localhost:8080/",
          "height": 204
        },
        "id": "wxl2m-wNXXNQ",
        "outputId": "3f6fddbf-63a8-426a-f94e-24e5c9743415"
      },
      "source": [
        "df.head()"
      ],
      "execution_count": 4,
      "outputs": [
        {
          "output_type": "execute_result",
          "data": {
            "text/html": [
              "<div>\n",
              "<style scoped>\n",
              "    .dataframe tbody tr th:only-of-type {\n",
              "        vertical-align: middle;\n",
              "    }\n",
              "\n",
              "    .dataframe tbody tr th {\n",
              "        vertical-align: top;\n",
              "    }\n",
              "\n",
              "    .dataframe thead th {\n",
              "        text-align: right;\n",
              "    }\n",
              "</style>\n",
              "<table border=\"1\" class=\"dataframe\">\n",
              "  <thead>\n",
              "    <tr style=\"text-align: right;\">\n",
              "      <th></th>\n",
              "      <th>DATE</th>\n",
              "      <th>PRCP</th>\n",
              "      <th>TMAX</th>\n",
              "      <th>TMIN</th>\n",
              "      <th>RAIN</th>\n",
              "    </tr>\n",
              "  </thead>\n",
              "  <tbody>\n",
              "    <tr>\n",
              "      <th>0</th>\n",
              "      <td>1948-01-01</td>\n",
              "      <td>0.47</td>\n",
              "      <td>51</td>\n",
              "      <td>42</td>\n",
              "      <td>True</td>\n",
              "    </tr>\n",
              "    <tr>\n",
              "      <th>1</th>\n",
              "      <td>1948-01-02</td>\n",
              "      <td>0.59</td>\n",
              "      <td>45</td>\n",
              "      <td>36</td>\n",
              "      <td>True</td>\n",
              "    </tr>\n",
              "    <tr>\n",
              "      <th>2</th>\n",
              "      <td>1948-01-03</td>\n",
              "      <td>0.42</td>\n",
              "      <td>45</td>\n",
              "      <td>35</td>\n",
              "      <td>True</td>\n",
              "    </tr>\n",
              "    <tr>\n",
              "      <th>3</th>\n",
              "      <td>1948-01-04</td>\n",
              "      <td>0.31</td>\n",
              "      <td>45</td>\n",
              "      <td>34</td>\n",
              "      <td>True</td>\n",
              "    </tr>\n",
              "    <tr>\n",
              "      <th>4</th>\n",
              "      <td>1948-01-05</td>\n",
              "      <td>0.17</td>\n",
              "      <td>45</td>\n",
              "      <td>32</td>\n",
              "      <td>True</td>\n",
              "    </tr>\n",
              "  </tbody>\n",
              "</table>\n",
              "</div>"
            ],
            "text/plain": [
              "         DATE  PRCP  TMAX  TMIN  RAIN\n",
              "0  1948-01-01  0.47    51    42  True\n",
              "1  1948-01-02  0.59    45    36  True\n",
              "2  1948-01-03  0.42    45    35  True\n",
              "3  1948-01-04  0.31    45    34  True\n",
              "4  1948-01-05  0.17    45    32  True"
            ]
          },
          "metadata": {
            "tags": []
          },
          "execution_count": 4
        }
      ]
    },
    {
      "cell_type": "code",
      "metadata": {
        "colab": {
          "base_uri": "https://localhost:8080/",
          "height": 204
        },
        "id": "uGzeGDyiXfuZ",
        "outputId": "0d5395a7-b411-48e5-f8a9-3c14e33e8542"
      },
      "source": [
        "numrows = 25549 # can be as large as 25549\n",
        "\n",
        "#create an empty dataframe to hold values\n",
        "regression_df = pd.DataFrame({'intercept':[1.0] * numrows,\n",
        "                             'yesterday':[0.0] * numrows,\n",
        "                             'today':[0.0] * numrows,\n",
        "                             'tomorrow':[0.0] * numrows})\n",
        "\n",
        "#sort columns for convience\n",
        "seq = ['intercept',\n",
        "       'yesterday',\n",
        "       'today',\n",
        "       'tomorrow']\n",
        "regression_df = regression_df.reindex(columns=seq)\n",
        "\n",
        "regression_df.head()"
      ],
      "execution_count": 93,
      "outputs": [
        {
          "output_type": "execute_result",
          "data": {
            "text/html": [
              "<div>\n",
              "<style scoped>\n",
              "    .dataframe tbody tr th:only-of-type {\n",
              "        vertical-align: middle;\n",
              "    }\n",
              "\n",
              "    .dataframe tbody tr th {\n",
              "        vertical-align: top;\n",
              "    }\n",
              "\n",
              "    .dataframe thead th {\n",
              "        text-align: right;\n",
              "    }\n",
              "</style>\n",
              "<table border=\"1\" class=\"dataframe\">\n",
              "  <thead>\n",
              "    <tr style=\"text-align: right;\">\n",
              "      <th></th>\n",
              "      <th>intercept</th>\n",
              "      <th>yesterday</th>\n",
              "      <th>today</th>\n",
              "      <th>tomorrow</th>\n",
              "    </tr>\n",
              "  </thead>\n",
              "  <tbody>\n",
              "    <tr>\n",
              "      <th>0</th>\n",
              "      <td>1.0</td>\n",
              "      <td>0.0</td>\n",
              "      <td>0.0</td>\n",
              "      <td>0.0</td>\n",
              "    </tr>\n",
              "    <tr>\n",
              "      <th>1</th>\n",
              "      <td>1.0</td>\n",
              "      <td>0.0</td>\n",
              "      <td>0.0</td>\n",
              "      <td>0.0</td>\n",
              "    </tr>\n",
              "    <tr>\n",
              "      <th>2</th>\n",
              "      <td>1.0</td>\n",
              "      <td>0.0</td>\n",
              "      <td>0.0</td>\n",
              "      <td>0.0</td>\n",
              "    </tr>\n",
              "    <tr>\n",
              "      <th>3</th>\n",
              "      <td>1.0</td>\n",
              "      <td>0.0</td>\n",
              "      <td>0.0</td>\n",
              "      <td>0.0</td>\n",
              "    </tr>\n",
              "    <tr>\n",
              "      <th>4</th>\n",
              "      <td>1.0</td>\n",
              "      <td>0.0</td>\n",
              "      <td>0.0</td>\n",
              "      <td>0.0</td>\n",
              "    </tr>\n",
              "  </tbody>\n",
              "</table>\n",
              "</div>"
            ],
            "text/plain": [
              "   intercept  yesterday  today  tomorrow\n",
              "0        1.0        0.0    0.0       0.0\n",
              "1        1.0        0.0    0.0       0.0\n",
              "2        1.0        0.0    0.0       0.0\n",
              "3        1.0        0.0    0.0       0.0\n",
              "4        1.0        0.0    0.0       0.0"
            ]
          },
          "metadata": {
            "tags": []
          },
          "execution_count": 93
        }
      ]
    },
    {
      "cell_type": "code",
      "metadata": {
        "id": "nIHYHLqry2XS",
        "colab": {
          "base_uri": "https://localhost:8080/",
          "height": 204
        },
        "outputId": "ac0818c9-8d1e-4359-945b-d62ad569d035"
      },
      "source": [
        "for i in range(0 , numrows):\n",
        "    yesterday = df.iloc[i,1] #df[row_0, prcp]\n",
        "    today = df.iloc[i+1,1] #df[row_1, prcp]\n",
        "    tomorrow = df.iloc[(i+2),1] #df[row_2, prcp]\n",
        "    regression_df.iat[i,1] = yesterday\n",
        "    regression_df.iat[i,2] = today\n",
        "    regression_df.iat[i,3] = tomorrow\n",
        "\n",
        "regression_df = regression_df.dropna() #exclude any rows with missing data\n",
        "\n",
        "regression_df.head()"
      ],
      "execution_count": 94,
      "outputs": [
        {
          "output_type": "execute_result",
          "data": {
            "text/html": [
              "<div>\n",
              "<style scoped>\n",
              "    .dataframe tbody tr th:only-of-type {\n",
              "        vertical-align: middle;\n",
              "    }\n",
              "\n",
              "    .dataframe tbody tr th {\n",
              "        vertical-align: top;\n",
              "    }\n",
              "\n",
              "    .dataframe thead th {\n",
              "        text-align: right;\n",
              "    }\n",
              "</style>\n",
              "<table border=\"1\" class=\"dataframe\">\n",
              "  <thead>\n",
              "    <tr style=\"text-align: right;\">\n",
              "      <th></th>\n",
              "      <th>intercept</th>\n",
              "      <th>yesterday</th>\n",
              "      <th>today</th>\n",
              "      <th>tomorrow</th>\n",
              "    </tr>\n",
              "  </thead>\n",
              "  <tbody>\n",
              "    <tr>\n",
              "      <th>0</th>\n",
              "      <td>1.0</td>\n",
              "      <td>0.47</td>\n",
              "      <td>0.59</td>\n",
              "      <td>0.42</td>\n",
              "    </tr>\n",
              "    <tr>\n",
              "      <th>1</th>\n",
              "      <td>1.0</td>\n",
              "      <td>0.59</td>\n",
              "      <td>0.42</td>\n",
              "      <td>0.31</td>\n",
              "    </tr>\n",
              "    <tr>\n",
              "      <th>2</th>\n",
              "      <td>1.0</td>\n",
              "      <td>0.42</td>\n",
              "      <td>0.31</td>\n",
              "      <td>0.17</td>\n",
              "    </tr>\n",
              "    <tr>\n",
              "      <th>3</th>\n",
              "      <td>1.0</td>\n",
              "      <td>0.31</td>\n",
              "      <td>0.17</td>\n",
              "      <td>0.44</td>\n",
              "    </tr>\n",
              "    <tr>\n",
              "      <th>4</th>\n",
              "      <td>1.0</td>\n",
              "      <td>0.17</td>\n",
              "      <td>0.44</td>\n",
              "      <td>0.41</td>\n",
              "    </tr>\n",
              "  </tbody>\n",
              "</table>\n",
              "</div>"
            ],
            "text/plain": [
              "   intercept  yesterday  today  tomorrow\n",
              "0        1.0       0.47   0.59      0.42\n",
              "1        1.0       0.59   0.42      0.31\n",
              "2        1.0       0.42   0.31      0.17\n",
              "3        1.0       0.31   0.17      0.44\n",
              "4        1.0       0.17   0.44      0.41"
            ]
          },
          "metadata": {
            "tags": []
          },
          "execution_count": 94
        }
      ]
    },
    {
      "cell_type": "code",
      "metadata": {
        "id": "ljj_ma3Dy2XT",
        "colab": {
          "base_uri": "https://localhost:8080/"
        },
        "outputId": "ccb10a00-bdc1-4652-da1f-4ade8f6f9378"
      },
      "source": [
        "#this makes a simple dataframe with a relationship that we can now plot\n",
        "regression_df.info()"
      ],
      "execution_count": 70,
      "outputs": [
        {
          "output_type": "stream",
          "text": [
            "<class 'pandas.core.frame.DataFrame'>\n",
            "Int64Index: 25542 entries, 0 to 25548\n",
            "Data columns (total 4 columns):\n",
            " #   Column     Non-Null Count  Dtype  \n",
            "---  ------     --------------  -----  \n",
            " 0   intercept  25542 non-null  float64\n",
            " 1   yesterday  25542 non-null  float64\n",
            " 2   today      25542 non-null  float64\n",
            " 3   tomorrow   25542 non-null  float64\n",
            "dtypes: float64(4)\n",
            "memory usage: 997.7 KB\n"
          ],
          "name": "stdout"
        }
      ]
    },
    {
      "cell_type": "code",
      "metadata": {
        "id": "R7TfVOy4y2XT",
        "colab": {
          "base_uri": "https://localhost:8080/",
          "height": 296
        },
        "outputId": "cd7e1d0d-e6ea-4226-a071-fb87865225aa"
      },
      "source": [
        "sns.scatterplot(x='today',y='tomorrow',data=regression_df)"
      ],
      "execution_count": 71,
      "outputs": [
        {
          "output_type": "execute_result",
          "data": {
            "text/plain": [
              "<matplotlib.axes._subplots.AxesSubplot at 0x7f85b0c8a710>"
            ]
          },
          "metadata": {
            "tags": []
          },
          "execution_count": 71
        },
        {
          "output_type": "display_data",
          "data": {
            "image/png": "[encoded data removed]",
            "text/plain": [
              "<Figure size 432x288 with 1 Axes>"
            ]
          },
          "metadata": {
            "tags": [],
            "needs_background": "light"
          }
        }
      ]
    },
    {
      "cell_type": "code",
      "metadata": {
        "id": "C8RbvIiz2meh",
        "colab": {
          "base_uri": "https://localhost:8080/"
        },
        "outputId": "98a05a51-f82d-4b9d-8035-cb609d68548e"
      },
      "source": [
        "regression_df.loc[regression_df.tomorrow > 0.0, \"tomorrow\"] = \"Rain\"\n",
        "regression_df.loc[regression_df.tomorrow == 0.0, \"tomorrow\"] = \"No Rain\"\n",
        "regression_df['tomorrow'].value_counts()"
      ],
      "execution_count": 95,
      "outputs": [
        {
          "output_type": "execute_result",
          "data": {
            "text/plain": [
              "No Rain    14644\n",
              "Rain       10898\n",
              "Name: tomorrow, dtype: int64"
            ]
          },
          "metadata": {
            "tags": []
          },
          "execution_count": 95
        }
      ]
    },
    {
      "cell_type": "code",
      "metadata": {
        "colab": {
          "base_uri": "https://localhost:8080/",
          "height": 400
        },
        "id": "COBuZ8F3heLg",
        "outputId": "29bd6675-5210-49a3-8bc9-36d49410eeb2"
      },
      "source": [
        "sns.catplot(x=\"tomorrow\", kind=\"count\", data=regression_df)"
      ],
      "execution_count": 103,
      "outputs": [
        {
          "output_type": "execute_result",
          "data": {
            "text/plain": [
              "<seaborn.axisgrid.FacetGrid at 0x7f85b0bfe518>"
            ]
          },
          "metadata": {
            "tags": []
          },
          "execution_count": 103
        },
        {
          "output_type": "display_data",
          "data": {
            "image/png": "[encoded data removed]",
            "text/plain": [
              "<Figure size 360x360 with 1 Axes>"
            ]
          },
          "metadata": {
            "tags": [],
            "needs_background": "light"
          }
        }
      ]
    },
    {
      "cell_type": "markdown",
      "metadata": {
        "id": "2n_AHuz30q-f"
      },
      "source": [
        "# Logistic Regression Model"
      ]
    },
    {
      "cell_type": "code",
      "metadata": {
        "id": "Pf1yR_6B0o_G"
      },
      "source": [
        "X=regression_df[['yesterday', 'today']]\n",
        "y=regression_df['tomorrow']\n",
        "X_train, X_test, y_train, y_test = train_test_split(X, y, test_size=0.25, random_state=0)"
      ],
      "execution_count": 104,
      "outputs": []
    },
    {
      "cell_type": "code",
      "metadata": {
        "id": "wUVzKj_KbLHE"
      },
      "source": [
        "from sklearn.linear_model import LogisticRegression\n",
        "lr = LogisticRegression()"
      ],
      "execution_count": 105,
      "outputs": []
    },
    {
      "cell_type": "code",
      "metadata": {
        "colab": {
          "base_uri": "https://localhost:8080/"
        },
        "id": "J2vdPza8bLEE",
        "outputId": "2115196e-3b2b-43ac-e417-a0fb0761ccd5"
      },
      "source": [
        "lr.fit(X_train, y_train)"
      ],
      "execution_count": 106,
      "outputs": [
        {
          "output_type": "execute_result",
          "data": {
            "text/plain": [
              "LogisticRegression(C=1.0, class_weight=None, dual=False, fit_intercept=True,\n",
              "                   intercept_scaling=1, l1_ratio=None, max_iter=100,\n",
              "                   multi_class='auto', n_jobs=None, penalty='l2',\n",
              "                   random_state=None, solver='lbfgs', tol=0.0001, verbose=0,\n",
              "                   warm_start=False)"
            ]
          },
          "metadata": {
            "tags": []
          },
          "execution_count": 106
        }
      ]
    },
    {
      "cell_type": "code",
      "metadata": {
        "id": "kGNiqtsRbK-4"
      },
      "source": [
        "predictions = lr.predict(X_test)"
      ],
      "execution_count": 107,
      "outputs": []
    },
    {
      "cell_type": "code",
      "metadata": {
        "colab": {
          "base_uri": "https://localhost:8080/"
        },
        "id": "e2J1iWKWiVyI",
        "outputId": "9b3de737-a7b3-4132-bc94-89fab59fd1c1"
      },
      "source": [
        "score = lr.score(X_test, y_test)\n",
        "print(score)"
      ],
      "execution_count": 109,
      "outputs": [
        {
          "output_type": "stream",
          "text": [
            "0.6774193548387096\n"
          ],
          "name": "stdout"
        }
      ]
    },
    {
      "cell_type": "markdown",
      "metadata": {
        "id": "y0z9vCx470qr"
      },
      "source": [
        "# New Section"
      ]
    },
    {
      "cell_type": "markdown",
      "metadata": {
        "id": "UZICts9fy2XT"
      },
      "source": [
        "Creating a basic linear model to best predict these values. Start with a slope and intercept values of 1 and then iterate through gradient descent."
      ]
    },
    {
      "cell_type": "code",
      "metadata": {
        "id": "YgiL5oKdy2XT"
      },
      "source": [
        "def gradientDescent(X, y, param, alpha, num_iters):\n",
        "    \"\"\"\n",
        "       Performs gradient descent to learn param\n",
        "    \"\"\"\n",
        "    for i in range(num_iters):\n",
        "        y_hat = np.dot(X, param) # notice we use numpy here to efficently calculate the values\n",
        "        param = param - alpha * np.dot(X.T, y_hat-y)\n",
        "    return param"
      ],
      "execution_count": null,
      "outputs": []
    },
    {
      "cell_type": "markdown",
      "metadata": {
        "id": "uLFVuzOky2XU"
      },
      "source": [
        "In this fucntion *param* is the initial guess of the values of the linear function and \n",
        "*X* is the vector of data values and y is the realization"
      ]
    },
    {
      "cell_type": "code",
      "metadata": {
        "id": "1cynK7fAy2XU",
        "colab": {
          "base_uri": "https://localhost:8080/"
        },
        "outputId": "e06e7dc4-9695-4e0d-c2b9-436e7998703e"
      },
      "source": [
        "X = regression_df.iloc[0:200:,0:2]\n",
        "y = regression_df.iloc[0:200:,2]\n",
        "param = np.array([1,1])\n",
        "alpha = 0.0001\n",
        "num_iters = 1000\n",
        "\n",
        "solution = gradientDescent(X, y, param, alpha, num_iters)\n",
        "solution"
      ],
      "execution_count": null,
      "outputs": [
        {
          "output_type": "execute_result",
          "data": {
            "text/plain": [
              "array([0.08776347, 0.24539117])"
            ]
          },
          "metadata": {
            "tags": []
          },
          "execution_count": 45
        }
      ]
    },
    {
      "cell_type": "code",
      "metadata": {
        "id": "cmPpArFsy2XU",
        "colab": {
          "base_uri": "https://localhost:8080/",
          "height": 458
        },
        "outputId": "a6a2c64c-c64a-4b23-fb23-a2d8516e868f"
      },
      "source": [
        "grid = sns.JointGrid(x=regression_df.today,y=regression_df.tomorrow)\n",
        "grid.plot_joint(plt.scatter, color=\"g\")\n",
        "plt.plot([0, 5], [0.0811, 1.77], linewidth=2)"
      ],
      "execution_count": null,
      "outputs": [
        {
          "output_type": "execute_result",
          "data": {
            "text/plain": [
              "[<matplotlib.lines.Line2D at 0x7fa0f400b470>]"
            ]
          },
          "metadata": {
            "tags": []
          },
          "execution_count": 46
        },
        {
          "output_type": "display_data",
          "data": {
            "image/png": "[encoded data removed]",
            "text/plain": [
              "<Figure size 432x432 with 3 Axes>"
            ]
          },
          "metadata": {
            "tags": [],
            "needs_background": "light"
          }
        }
      ]
    },
    {
      "cell_type": "markdown",
      "metadata": {
        "id": "okF13JHYy2XU"
      },
      "source": [
        "However, building models from scratch is hard! Lucky for us there is a very popular library that trains models for us!"
      ]
    },
    {
      "cell_type": "code",
      "metadata": {
        "id": "t4kMjPATy2XU"
      },
      "source": [
        "from sklearn import linear_model\n",
        "#modify the data to work with this library\n",
        "x = regression_df.today.values\n",
        "y = regression_df.tomorrow.values\n",
        "x = x.reshape(regression_df.shape[0], 1)\n",
        "y = y.reshape(regression_df.shape[0], 1)"
      ],
      "execution_count": null,
      "outputs": []
    },
    {
      "cell_type": "code",
      "metadata": {
        "id": "DWzCVLY-y2XU"
      },
      "source": [
        "mymodel = linear_model.LinearRegression().fit(x,y)"
      ],
      "execution_count": null,
      "outputs": []
    },
    {
      "cell_type": "code",
      "metadata": {
        "id": "IRhXPajgy2XV",
        "colab": {
          "base_uri": "https://localhost:8080/",
          "height": 265
        },
        "outputId": "7f14f1b2-445a-43e1-f6ec-ebca88756b5a"
      },
      "source": [
        "plt.scatter(x, y,  color='black')\n",
        "plt.plot(x, mymodel.predict(x), color='blue', linewidth=3)\n",
        "plt.xlim(-0.1,2.1)\n",
        "plt.ylim(-0.1,2.1)\n",
        "plt.show()"
      ],
      "execution_count": null,
      "outputs": [
        {
          "output_type": "display_data",
          "data": {
            "image/png": "[encoded data removed]",
            "text/plain": [
              "<Figure size 432x288 with 1 Axes>"
            ]
          },
          "metadata": {
            "tags": [],
            "needs_background": "light"
          }
        }
      ]
    },
    {
      "cell_type": "code",
      "metadata": {
        "id": "1hoZ9R7yy2XV",
        "colab": {
          "base_uri": "https://localhost:8080/"
        },
        "outputId": "5158570c-08d1-4eb3-e207-08f603dddf00"
      },
      "source": [
        "# using the r2 (pronounced r squared) value we can get a basic measure of model quality\n",
        "from sklearn.metrics import r2_score\n",
        "r2_score(y,mymodel.predict(x))"
      ],
      "execution_count": null,
      "outputs": [
        {
          "output_type": "execute_result",
          "data": {
            "text/plain": [
              "0.09365441125285323"
            ]
          },
          "metadata": {
            "tags": []
          },
          "execution_count": 50
        }
      ]
    },
    {
      "cell_type": "markdown",
      "metadata": {
        "id": "V6tuk0ipy2XV"
      },
      "source": [
        "We can plot the difference between the predictions and the actual values for a visual estimate of performance. A perfect model would result in this being a straight line with a slope of 1. Notice how the model predicts only lower values, meaning that it tends to under predict the actual amount of rain."
      ]
    },
    {
      "cell_type": "code",
      "metadata": {
        "id": "CxyolW02y2XV",
        "colab": {
          "base_uri": "https://localhost:8080/",
          "height": 265
        },
        "outputId": "d5576167-e0cc-4bb7-b858-abb1f3bcbc39"
      },
      "source": [
        "plt.scatter(mymodel.predict(x), y,  color='black')\n",
        "plt.xlim(-0.1,2.1) #to keep the same scale as the previous plot\n",
        "plt.ylim(-0.1,2.1) # same reason as xlim\n",
        "plt.show()"
      ],
      "execution_count": null,
      "outputs": [
        {
          "output_type": "display_data",
          "data": {
            "image/png": "[encoded data removed]",
            "text/plain": [
              "<Figure size 432x288 with 1 Axes>"
            ]
          },
          "metadata": {
            "tags": [],
            "needs_background": "light"
          }
        }
      ]
    },
    {
      "cell_type": "code",
      "metadata": {
        "id": "3yV5VWpZy2XV"
      },
      "source": [
        ""
      ],
      "execution_count": null,
      "outputs": []
    }
  ]
}