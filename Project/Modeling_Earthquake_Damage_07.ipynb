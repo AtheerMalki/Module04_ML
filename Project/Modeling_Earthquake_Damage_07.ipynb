{
  "nbformat": 4,
  "nbformat_minor": 0,
  "metadata": {
    "colab": {
      "name": "Modeling_Earthquake_Damage_07.ipynb",
      "provenance": [],
      "collapsed_sections": [],
      "toc_visible": true,
      "include_colab_link": true
    },
    "kernelspec": {
      "display_name": "Python 3",
      "language": "python",
      "name": "python3"
    },
    "language_info": {
      "codemirror_mode": {
        "name": "ipython",
        "version": 3
      },
      "file_extension": ".py",
      "mimetype": "text/x-python",
      "name": "python",
      "nbconvert_exporter": "python",
      "pygments_lexer": "ipython3",
      "version": "3.8.3"
    }
  },
  "cells": [
    {
      "cell_type": "markdown",
      "metadata": {
        "id": "view-in-github",
        "colab_type": "text"
      },
      "source": [
        "<a href=\"https://colab.research.google.com/github/AtheerMalki/Module04_ML/blob/main/Modeling_Earthquake_Damage_07.ipynb\" target=\"_parent\"><img src=\"https://colab.research.google.com/assets/colab-badge.svg\" alt=\"Open In Colab\"/></a>"
      ]
    },
    {
      "cell_type": "markdown",
      "metadata": {
        "id": "TM4qkHBli-iU"
      },
      "source": [
        "This notebook is part of the deliverables for my final project for Coding Dojo's Data Science Immersive Bootcamp.\n",
        "It is written as a submission to the [Richter's Predictor: Modeling Earthquake Damage](https://www.drivendata.org/competitions/57/nepal-earthquake/page/134/) competition. "
      ]
    },
    {
      "cell_type": "markdown",
      "metadata": {
        "id": "prd2xYMKyC67"
      },
      "source": [
        "![image](https://drive.google.com/uc?id=13K-jlykKEWyQl7gRTh91PrNrNLLrLahk)\n",
        "\n",
        "Image by James Wheeler via [Pexels.](https://www.pexels.com/photo/white-concrete-houses-1531660/)"
      ]
    },
    {
      "cell_type": "markdown",
      "metadata": {
        "id": "K089_9sCwug_"
      },
      "source": [
        "***Project Goal:*** predict the grade of damage inflicted upon buildings in Nepal after the 2015 earthquake."
      ]
    },
    {
      "cell_type": "markdown",
      "metadata": {
        "id": "nADUC1D49VEo"
      },
      "source": [
        "In this notebook:\n",
        "  - [Explore Nepal's 2015 earthquake data](#eda)\n",
        "  - [Visualize some feature relations using seaborn](#viz)\n",
        "  - [Handle categorical features using OneHotEncoding and OrdinalEncoding](#handle_cat)\n",
        "  - [Detect and remove outliers using IsolationForest](#outliers)\n",
        "  - [Predict damage using Gradient Boosting Classifier](#gbi)\n",
        "  - [Apply feature selection, make another prediction and compare results](#feat_imp)\n",
        "  - [Perform SMOTE to handle class imbalance, make another prediction and compare results](#SMOTE)\n",
        "  - [Upload predictions to csv files](#submit)  \n",
        "\n",
        "\n",
        "[Submit](https://www.drivendata.org/competitions/57/nepal-earthquake/submissions/) predictions to the competition!"
      ]
    },
    {
      "cell_type": "code",
      "metadata": {
        "id": "t2rM8AgTiaFC"
      },
      "source": [
        "# import packages and libraries\n",
        "import pandas as pd\n",
        "import numpy as np\n",
        "import matplotlib.pyplot as plt\n",
        "\n",
        "import seaborn as sns\n",
        "sns.set_style(\"darkgrid\")\n",
        "from sklearn.preprocessing import OneHotEncoder #?\n",
        "from sklearn.preprocessing import OrdinalEncoder\n",
        "\n",
        "from sklearn.model_selection import train_test_split\n",
        "from sklearn.ensemble import IsolationForest\n",
        "from sklearn.ensemble import GradientBoostingClassifier \n",
        "from sklearn.metrics import confusion_matrix\n",
        "\n",
        "import imblearn\n",
        "from imblearn.over_sampling import SMOTE\n",
        "from collections import Counter"
      ],
      "execution_count": null,
      "outputs": []
    },
    {
      "cell_type": "code",
      "metadata": {
        "id": "s4w4SWhJlXcI"
      },
      "source": [
        "# import data files from: https://www.drivendata.org/competitions/57/nepal-earthquake/data/\n",
        "train_values = pd.read_csv('https://raw.githubusercontent.com/AtheerMalki/Module04_ML/main/Project/data/train_values.csv')\n",
        "train_labels = pd.read_csv('https://raw.githubusercontent.com/AtheerMalki/Module04_ML/main/Project/data/train_labels.csv')\n",
        "\n",
        "test_values = pd.read_csv('https://raw.githubusercontent.com/AtheerMalki/Module04_ML/main/Project/data/test_values.csv')"
      ],
      "execution_count": null,
      "outputs": []
    },
    {
      "cell_type": "markdown",
      "metadata": {
        "id": "I1bvJuHMkxPy"
      },
      "source": [
        "<a name=\"eda\"></a>\n",
        "# EDA\n"
      ]
    },
    {
      "cell_type": "markdown",
      "metadata": {
        "id": "awTGoWRkDsTH"
      },
      "source": [
        "Observe shape and head() of each dataframe"
      ]
    },
    {
      "cell_type": "code",
      "metadata": {
        "colab": {
          "base_uri": "https://localhost:8080/"
        },
        "id": "wdxypdVM4TXy",
        "scrolled": true,
        "outputId": "3ebb6eb2-a79c-4205-d46d-0453b9a01c83"
      },
      "source": [
        "print('train_values shape:', train_values.shape)\n",
        "print('train_labels shape:', train_labels.shape)\n",
        "print('test_values shape:', test_values.shape)"
      ],
      "execution_count": null,
      "outputs": [
        {
          "output_type": "stream",
          "text": [
            "train_values shape: (260601, 39)\n",
            "train_labels shape: (260601, 2)\n",
            "test_values shape: (86868, 39)\n"
          ],
          "name": "stdout"
        }
      ]
    },
    {
      "cell_type": "code",
      "metadata": {
        "colab": {
          "base_uri": "https://localhost:8080/",
          "height": 224
        },
        "id": "UWQZF7fg0s4G",
        "outputId": "8fd9f59b-3cf3-44a6-8ccb-4cb46a8cfb2f"
      },
      "source": [
        "train_values.head()"
      ],
      "execution_count": null,
      "outputs": [
        {
          "output_type": "execute_result",
          "data": {
            "text/html": [
              "<div>\n",
              "<style scoped>\n",
              "    .dataframe tbody tr th:only-of-type {\n",
              "        vertical-align: middle;\n",
              "    }\n",
              "\n",
              "    .dataframe tbody tr th {\n",
              "        vertical-align: top;\n",
              "    }\n",
              "\n",
              "    .dataframe thead th {\n",
              "        text-align: right;\n",
              "    }\n",
              "</style>\n",
              "<table border=\"1\" class=\"dataframe\">\n",
              "  <thead>\n",
              "    <tr style=\"text-align: right;\">\n",
              "      <th></th>\n",
              "      <th>building_id</th>\n",
              "      <th>geo_level_1_id</th>\n",
              "      <th>geo_level_2_id</th>\n",
              "      <th>geo_level_3_id</th>\n",
              "      <th>count_floors_pre_eq</th>\n",
              "      <th>age</th>\n",
              "      <th>area_percentage</th>\n",
              "      <th>height_percentage</th>\n",
              "      <th>land_surface_condition</th>\n",
              "      <th>foundation_type</th>\n",
              "      <th>roof_type</th>\n",
              "      <th>ground_floor_type</th>\n",
              "      <th>other_floor_type</th>\n",
              "      <th>position</th>\n",
              "      <th>plan_configuration</th>\n",
              "      <th>has_superstructure_adobe_mud</th>\n",
              "      <th>has_superstructure_mud_mortar_stone</th>\n",
              "      <th>has_superstructure_stone_flag</th>\n",
              "      <th>has_superstructure_cement_mortar_stone</th>\n",
              "      <th>has_superstructure_mud_mortar_brick</th>\n",
              "      <th>has_superstructure_cement_mortar_brick</th>\n",
              "      <th>has_superstructure_timber</th>\n",
              "      <th>has_superstructure_bamboo</th>\n",
              "      <th>has_superstructure_rc_non_engineered</th>\n",
              "      <th>has_superstructure_rc_engineered</th>\n",
              "      <th>has_superstructure_other</th>\n",
              "      <th>legal_ownership_status</th>\n",
              "      <th>count_families</th>\n",
              "      <th>has_secondary_use</th>\n",
              "      <th>has_secondary_use_agriculture</th>\n",
              "      <th>has_secondary_use_hotel</th>\n",
              "      <th>has_secondary_use_rental</th>\n",
              "      <th>has_secondary_use_institution</th>\n",
              "      <th>has_secondary_use_school</th>\n",
              "      <th>has_secondary_use_industry</th>\n",
              "      <th>has_secondary_use_health_post</th>\n",
              "      <th>has_secondary_use_gov_office</th>\n",
              "      <th>has_secondary_use_use_police</th>\n",
              "      <th>has_secondary_use_other</th>\n",
              "    </tr>\n",
              "  </thead>\n",
              "  <tbody>\n",
              "    <tr>\n",
              "      <th>0</th>\n",
              "      <td>802906</td>\n",
              "      <td>6</td>\n",
              "      <td>487</td>\n",
              "      <td>12198</td>\n",
              "      <td>2</td>\n",
              "      <td>30</td>\n",
              "      <td>6</td>\n",
              "      <td>5</td>\n",
              "      <td>t</td>\n",
              "      <td>r</td>\n",
              "      <td>n</td>\n",
              "      <td>f</td>\n",
              "      <td>q</td>\n",
              "      <td>t</td>\n",
              "      <td>d</td>\n",
              "      <td>1</td>\n",
              "      <td>1</td>\n",
              "      <td>0</td>\n",
              "      <td>0</td>\n",
              "      <td>0</td>\n",
              "      <td>0</td>\n",
              "      <td>0</td>\n",
              "      <td>0</td>\n",
              "      <td>0</td>\n",
              "      <td>0</td>\n",
              "      <td>0</td>\n",
              "      <td>v</td>\n",
              "      <td>1</td>\n",
              "      <td>0</td>\n",
              "      <td>0</td>\n",
              "      <td>0</td>\n",
              "      <td>0</td>\n",
              "      <td>0</td>\n",
              "      <td>0</td>\n",
              "      <td>0</td>\n",
              "      <td>0</td>\n",
              "      <td>0</td>\n",
              "      <td>0</td>\n",
              "      <td>0</td>\n",
              "    </tr>\n",
              "    <tr>\n",
              "      <th>1</th>\n",
              "      <td>28830</td>\n",
              "      <td>8</td>\n",
              "      <td>900</td>\n",
              "      <td>2812</td>\n",
              "      <td>2</td>\n",
              "      <td>10</td>\n",
              "      <td>8</td>\n",
              "      <td>7</td>\n",
              "      <td>o</td>\n",
              "      <td>r</td>\n",
              "      <td>n</td>\n",
              "      <td>x</td>\n",
              "      <td>q</td>\n",
              "      <td>s</td>\n",
              "      <td>d</td>\n",
              "      <td>0</td>\n",
              "      <td>1</td>\n",
              "      <td>0</td>\n",
              "      <td>0</td>\n",
              "      <td>0</td>\n",
              "      <td>0</td>\n",
              "      <td>0</td>\n",
              "      <td>0</td>\n",
              "      <td>0</td>\n",
              "      <td>0</td>\n",
              "      <td>0</td>\n",
              "      <td>v</td>\n",
              "      <td>1</td>\n",
              "      <td>0</td>\n",
              "      <td>0</td>\n",
              "      <td>0</td>\n",
              "      <td>0</td>\n",
              "      <td>0</td>\n",
              "      <td>0</td>\n",
              "      <td>0</td>\n",
              "      <td>0</td>\n",
              "      <td>0</td>\n",
              "      <td>0</td>\n",
              "      <td>0</td>\n",
              "    </tr>\n",
              "    <tr>\n",
              "      <th>2</th>\n",
              "      <td>94947</td>\n",
              "      <td>21</td>\n",
              "      <td>363</td>\n",
              "      <td>8973</td>\n",
              "      <td>2</td>\n",
              "      <td>10</td>\n",
              "      <td>5</td>\n",
              "      <td>5</td>\n",
              "      <td>t</td>\n",
              "      <td>r</td>\n",
              "      <td>n</td>\n",
              "      <td>f</td>\n",
              "      <td>x</td>\n",
              "      <td>t</td>\n",
              "      <td>d</td>\n",
              "      <td>0</td>\n",
              "      <td>1</td>\n",
              "      <td>0</td>\n",
              "      <td>0</td>\n",
              "      <td>0</td>\n",
              "      <td>0</td>\n",
              "      <td>0</td>\n",
              "      <td>0</td>\n",
              "      <td>0</td>\n",
              "      <td>0</td>\n",
              "      <td>0</td>\n",
              "      <td>v</td>\n",
              "      <td>1</td>\n",
              "      <td>0</td>\n",
              "      <td>0</td>\n",
              "      <td>0</td>\n",
              "      <td>0</td>\n",
              "      <td>0</td>\n",
              "      <td>0</td>\n",
              "      <td>0</td>\n",
              "      <td>0</td>\n",
              "      <td>0</td>\n",
              "      <td>0</td>\n",
              "      <td>0</td>\n",
              "    </tr>\n",
              "    <tr>\n",
              "      <th>3</th>\n",
              "      <td>590882</td>\n",
              "      <td>22</td>\n",
              "      <td>418</td>\n",
              "      <td>10694</td>\n",
              "      <td>2</td>\n",
              "      <td>10</td>\n",
              "      <td>6</td>\n",
              "      <td>5</td>\n",
              "      <td>t</td>\n",
              "      <td>r</td>\n",
              "      <td>n</td>\n",
              "      <td>f</td>\n",
              "      <td>x</td>\n",
              "      <td>s</td>\n",
              "      <td>d</td>\n",
              "      <td>0</td>\n",
              "      <td>1</td>\n",
              "      <td>0</td>\n",
              "      <td>0</td>\n",
              "      <td>0</td>\n",
              "      <td>0</td>\n",
              "      <td>1</td>\n",
              "      <td>1</td>\n",
              "      <td>0</td>\n",
              "      <td>0</td>\n",
              "      <td>0</td>\n",
              "      <td>v</td>\n",
              "      <td>1</td>\n",
              "      <td>0</td>\n",
              "      <td>0</td>\n",
              "      <td>0</td>\n",
              "      <td>0</td>\n",
              "      <td>0</td>\n",
              "      <td>0</td>\n",
              "      <td>0</td>\n",
              "      <td>0</td>\n",
              "      <td>0</td>\n",
              "      <td>0</td>\n",
              "      <td>0</td>\n",
              "    </tr>\n",
              "    <tr>\n",
              "      <th>4</th>\n",
              "      <td>201944</td>\n",
              "      <td>11</td>\n",
              "      <td>131</td>\n",
              "      <td>1488</td>\n",
              "      <td>3</td>\n",
              "      <td>30</td>\n",
              "      <td>8</td>\n",
              "      <td>9</td>\n",
              "      <td>t</td>\n",
              "      <td>r</td>\n",
              "      <td>n</td>\n",
              "      <td>f</td>\n",
              "      <td>x</td>\n",
              "      <td>s</td>\n",
              "      <td>d</td>\n",
              "      <td>1</td>\n",
              "      <td>0</td>\n",
              "      <td>0</td>\n",
              "      <td>0</td>\n",
              "      <td>0</td>\n",
              "      <td>0</td>\n",
              "      <td>0</td>\n",
              "      <td>0</td>\n",
              "      <td>0</td>\n",
              "      <td>0</td>\n",
              "      <td>0</td>\n",
              "      <td>v</td>\n",
              "      <td>1</td>\n",
              "      <td>0</td>\n",
              "      <td>0</td>\n",
              "      <td>0</td>\n",
              "      <td>0</td>\n",
              "      <td>0</td>\n",
              "      <td>0</td>\n",
              "      <td>0</td>\n",
              "      <td>0</td>\n",
              "      <td>0</td>\n",
              "      <td>0</td>\n",
              "      <td>0</td>\n",
              "    </tr>\n",
              "  </tbody>\n",
              "</table>\n",
              "</div>"
            ],
            "text/plain": [
              "   building_id  ...  has_secondary_use_other\n",
              "0       802906  ...                        0\n",
              "1        28830  ...                        0\n",
              "2        94947  ...                        0\n",
              "3       590882  ...                        0\n",
              "4       201944  ...                        0\n",
              "\n",
              "[5 rows x 39 columns]"
            ]
          },
          "metadata": {
            "tags": []
          },
          "execution_count": 14
        }
      ]
    },
    {
      "cell_type": "code",
      "metadata": {
        "colab": {
          "base_uri": "https://localhost:8080/",
          "height": 204
        },
        "id": "wr7j6xw60zWH",
        "outputId": "dddb9aa2-dee7-4cc4-8224-b9ddbb3e076f"
      },
      "source": [
        "train_labels.head()"
      ],
      "execution_count": null,
      "outputs": [
        {
          "output_type": "execute_result",
          "data": {
            "text/html": [
              "<div>\n",
              "<style scoped>\n",
              "    .dataframe tbody tr th:only-of-type {\n",
              "        vertical-align: middle;\n",
              "    }\n",
              "\n",
              "    .dataframe tbody tr th {\n",
              "        vertical-align: top;\n",
              "    }\n",
              "\n",
              "    .dataframe thead th {\n",
              "        text-align: right;\n",
              "    }\n",
              "</style>\n",
              "<table border=\"1\" class=\"dataframe\">\n",
              "  <thead>\n",
              "    <tr style=\"text-align: right;\">\n",
              "      <th></th>\n",
              "      <th>building_id</th>\n",
              "      <th>damage_grade</th>\n",
              "    </tr>\n",
              "  </thead>\n",
              "  <tbody>\n",
              "    <tr>\n",
              "      <th>0</th>\n",
              "      <td>802906</td>\n",
              "      <td>3</td>\n",
              "    </tr>\n",
              "    <tr>\n",
              "      <th>1</th>\n",
              "      <td>28830</td>\n",
              "      <td>2</td>\n",
              "    </tr>\n",
              "    <tr>\n",
              "      <th>2</th>\n",
              "      <td>94947</td>\n",
              "      <td>3</td>\n",
              "    </tr>\n",
              "    <tr>\n",
              "      <th>3</th>\n",
              "      <td>590882</td>\n",
              "      <td>2</td>\n",
              "    </tr>\n",
              "    <tr>\n",
              "      <th>4</th>\n",
              "      <td>201944</td>\n",
              "      <td>3</td>\n",
              "    </tr>\n",
              "  </tbody>\n",
              "</table>\n",
              "</div>"
            ],
            "text/plain": [
              "   building_id  damage_grade\n",
              "0       802906             3\n",
              "1        28830             2\n",
              "2        94947             3\n",
              "3       590882             2\n",
              "4       201944             3"
            ]
          },
          "metadata": {
            "tags": []
          },
          "execution_count": 15
        }
      ]
    },
    {
      "cell_type": "code",
      "metadata": {
        "colab": {
          "base_uri": "https://localhost:8080/",
          "height": 224
        },
        "id": "39EzUKt60zjJ",
        "outputId": "3580155d-e0a6-4980-df12-f28a58d90663"
      },
      "source": [
        "test_values.head()"
      ],
      "execution_count": null,
      "outputs": [
        {
          "output_type": "execute_result",
          "data": {
            "text/html": [
              "<div>\n",
              "<style scoped>\n",
              "    .dataframe tbody tr th:only-of-type {\n",
              "        vertical-align: middle;\n",
              "    }\n",
              "\n",
              "    .dataframe tbody tr th {\n",
              "        vertical-align: top;\n",
              "    }\n",
              "\n",
              "    .dataframe thead th {\n",
              "        text-align: right;\n",
              "    }\n",
              "</style>\n",
              "<table border=\"1\" class=\"dataframe\">\n",
              "  <thead>\n",
              "    <tr style=\"text-align: right;\">\n",
              "      <th></th>\n",
              "      <th>building_id</th>\n",
              "      <th>geo_level_1_id</th>\n",
              "      <th>geo_level_2_id</th>\n",
              "      <th>geo_level_3_id</th>\n",
              "      <th>count_floors_pre_eq</th>\n",
              "      <th>age</th>\n",
              "      <th>area_percentage</th>\n",
              "      <th>height_percentage</th>\n",
              "      <th>land_surface_condition</th>\n",
              "      <th>foundation_type</th>\n",
              "      <th>roof_type</th>\n",
              "      <th>ground_floor_type</th>\n",
              "      <th>other_floor_type</th>\n",
              "      <th>position</th>\n",
              "      <th>plan_configuration</th>\n",
              "      <th>has_superstructure_adobe_mud</th>\n",
              "      <th>has_superstructure_mud_mortar_stone</th>\n",
              "      <th>has_superstructure_stone_flag</th>\n",
              "      <th>has_superstructure_cement_mortar_stone</th>\n",
              "      <th>has_superstructure_mud_mortar_brick</th>\n",
              "      <th>has_superstructure_cement_mortar_brick</th>\n",
              "      <th>has_superstructure_timber</th>\n",
              "      <th>has_superstructure_bamboo</th>\n",
              "      <th>has_superstructure_rc_non_engineered</th>\n",
              "      <th>has_superstructure_rc_engineered</th>\n",
              "      <th>has_superstructure_other</th>\n",
              "      <th>legal_ownership_status</th>\n",
              "      <th>count_families</th>\n",
              "      <th>has_secondary_use</th>\n",
              "      <th>has_secondary_use_agriculture</th>\n",
              "      <th>has_secondary_use_hotel</th>\n",
              "      <th>has_secondary_use_rental</th>\n",
              "      <th>has_secondary_use_institution</th>\n",
              "      <th>has_secondary_use_school</th>\n",
              "      <th>has_secondary_use_industry</th>\n",
              "      <th>has_secondary_use_health_post</th>\n",
              "      <th>has_secondary_use_gov_office</th>\n",
              "      <th>has_secondary_use_use_police</th>\n",
              "      <th>has_secondary_use_other</th>\n",
              "    </tr>\n",
              "  </thead>\n",
              "  <tbody>\n",
              "    <tr>\n",
              "      <th>0</th>\n",
              "      <td>300051</td>\n",
              "      <td>17</td>\n",
              "      <td>596</td>\n",
              "      <td>11307</td>\n",
              "      <td>3</td>\n",
              "      <td>20</td>\n",
              "      <td>7</td>\n",
              "      <td>6</td>\n",
              "      <td>t</td>\n",
              "      <td>r</td>\n",
              "      <td>n</td>\n",
              "      <td>f</td>\n",
              "      <td>q</td>\n",
              "      <td>s</td>\n",
              "      <td>d</td>\n",
              "      <td>0</td>\n",
              "      <td>1</td>\n",
              "      <td>0</td>\n",
              "      <td>0</td>\n",
              "      <td>0</td>\n",
              "      <td>0</td>\n",
              "      <td>0</td>\n",
              "      <td>0</td>\n",
              "      <td>0</td>\n",
              "      <td>0</td>\n",
              "      <td>0</td>\n",
              "      <td>v</td>\n",
              "      <td>1</td>\n",
              "      <td>0</td>\n",
              "      <td>0</td>\n",
              "      <td>0</td>\n",
              "      <td>0</td>\n",
              "      <td>0</td>\n",
              "      <td>0</td>\n",
              "      <td>0</td>\n",
              "      <td>0</td>\n",
              "      <td>0</td>\n",
              "      <td>0</td>\n",
              "      <td>0</td>\n",
              "    </tr>\n",
              "    <tr>\n",
              "      <th>1</th>\n",
              "      <td>99355</td>\n",
              "      <td>6</td>\n",
              "      <td>141</td>\n",
              "      <td>11987</td>\n",
              "      <td>2</td>\n",
              "      <td>25</td>\n",
              "      <td>13</td>\n",
              "      <td>5</td>\n",
              "      <td>t</td>\n",
              "      <td>r</td>\n",
              "      <td>n</td>\n",
              "      <td>f</td>\n",
              "      <td>q</td>\n",
              "      <td>s</td>\n",
              "      <td>d</td>\n",
              "      <td>0</td>\n",
              "      <td>1</td>\n",
              "      <td>0</td>\n",
              "      <td>0</td>\n",
              "      <td>0</td>\n",
              "      <td>0</td>\n",
              "      <td>0</td>\n",
              "      <td>0</td>\n",
              "      <td>0</td>\n",
              "      <td>0</td>\n",
              "      <td>0</td>\n",
              "      <td>v</td>\n",
              "      <td>1</td>\n",
              "      <td>1</td>\n",
              "      <td>1</td>\n",
              "      <td>0</td>\n",
              "      <td>0</td>\n",
              "      <td>0</td>\n",
              "      <td>0</td>\n",
              "      <td>0</td>\n",
              "      <td>0</td>\n",
              "      <td>0</td>\n",
              "      <td>0</td>\n",
              "      <td>0</td>\n",
              "    </tr>\n",
              "    <tr>\n",
              "      <th>2</th>\n",
              "      <td>890251</td>\n",
              "      <td>22</td>\n",
              "      <td>19</td>\n",
              "      <td>10044</td>\n",
              "      <td>2</td>\n",
              "      <td>5</td>\n",
              "      <td>4</td>\n",
              "      <td>5</td>\n",
              "      <td>t</td>\n",
              "      <td>r</td>\n",
              "      <td>n</td>\n",
              "      <td>f</td>\n",
              "      <td>q</td>\n",
              "      <td>s</td>\n",
              "      <td>d</td>\n",
              "      <td>0</td>\n",
              "      <td>1</td>\n",
              "      <td>0</td>\n",
              "      <td>0</td>\n",
              "      <td>0</td>\n",
              "      <td>0</td>\n",
              "      <td>0</td>\n",
              "      <td>0</td>\n",
              "      <td>0</td>\n",
              "      <td>0</td>\n",
              "      <td>0</td>\n",
              "      <td>v</td>\n",
              "      <td>1</td>\n",
              "      <td>0</td>\n",
              "      <td>0</td>\n",
              "      <td>0</td>\n",
              "      <td>0</td>\n",
              "      <td>0</td>\n",
              "      <td>0</td>\n",
              "      <td>0</td>\n",
              "      <td>0</td>\n",
              "      <td>0</td>\n",
              "      <td>0</td>\n",
              "      <td>0</td>\n",
              "    </tr>\n",
              "    <tr>\n",
              "      <th>3</th>\n",
              "      <td>745817</td>\n",
              "      <td>26</td>\n",
              "      <td>39</td>\n",
              "      <td>633</td>\n",
              "      <td>1</td>\n",
              "      <td>0</td>\n",
              "      <td>19</td>\n",
              "      <td>3</td>\n",
              "      <td>t</td>\n",
              "      <td>r</td>\n",
              "      <td>x</td>\n",
              "      <td>v</td>\n",
              "      <td>j</td>\n",
              "      <td>t</td>\n",
              "      <td>d</td>\n",
              "      <td>0</td>\n",
              "      <td>0</td>\n",
              "      <td>0</td>\n",
              "      <td>0</td>\n",
              "      <td>0</td>\n",
              "      <td>1</td>\n",
              "      <td>0</td>\n",
              "      <td>0</td>\n",
              "      <td>0</td>\n",
              "      <td>0</td>\n",
              "      <td>0</td>\n",
              "      <td>v</td>\n",
              "      <td>2</td>\n",
              "      <td>1</td>\n",
              "      <td>0</td>\n",
              "      <td>0</td>\n",
              "      <td>1</td>\n",
              "      <td>0</td>\n",
              "      <td>0</td>\n",
              "      <td>0</td>\n",
              "      <td>0</td>\n",
              "      <td>0</td>\n",
              "      <td>0</td>\n",
              "      <td>0</td>\n",
              "    </tr>\n",
              "    <tr>\n",
              "      <th>4</th>\n",
              "      <td>421793</td>\n",
              "      <td>17</td>\n",
              "      <td>289</td>\n",
              "      <td>7970</td>\n",
              "      <td>3</td>\n",
              "      <td>15</td>\n",
              "      <td>8</td>\n",
              "      <td>7</td>\n",
              "      <td>t</td>\n",
              "      <td>r</td>\n",
              "      <td>q</td>\n",
              "      <td>f</td>\n",
              "      <td>q</td>\n",
              "      <td>t</td>\n",
              "      <td>d</td>\n",
              "      <td>0</td>\n",
              "      <td>1</td>\n",
              "      <td>0</td>\n",
              "      <td>0</td>\n",
              "      <td>0</td>\n",
              "      <td>0</td>\n",
              "      <td>0</td>\n",
              "      <td>0</td>\n",
              "      <td>0</td>\n",
              "      <td>0</td>\n",
              "      <td>0</td>\n",
              "      <td>v</td>\n",
              "      <td>1</td>\n",
              "      <td>0</td>\n",
              "      <td>0</td>\n",
              "      <td>0</td>\n",
              "      <td>0</td>\n",
              "      <td>0</td>\n",
              "      <td>0</td>\n",
              "      <td>0</td>\n",
              "      <td>0</td>\n",
              "      <td>0</td>\n",
              "      <td>0</td>\n",
              "      <td>0</td>\n",
              "    </tr>\n",
              "  </tbody>\n",
              "</table>\n",
              "</div>"
            ],
            "text/plain": [
              "   building_id  ...  has_secondary_use_other\n",
              "0       300051  ...                        0\n",
              "1        99355  ...                        0\n",
              "2       890251  ...                        0\n",
              "3       745817  ...                        0\n",
              "4       421793  ...                        0\n",
              "\n",
              "[5 rows x 39 columns]"
            ]
          },
          "metadata": {
            "tags": []
          },
          "execution_count": 16
        }
      ]
    },
    {
      "cell_type": "markdown",
      "metadata": {
        "id": "t3evBJjaHSN4"
      },
      "source": [
        "Merge training and testing values"
      ]
    },
    {
      "cell_type": "code",
      "metadata": {
        "colab": {
          "base_uri": "https://localhost:8080/"
        },
        "id": "S8gs5JTRHRT5",
        "outputId": "ef54aa25-6761-40d5-c43d-8c0cf252c31b"
      },
      "source": [
        "# 1st: copy [train_labels]'s 'damage_grade' column to [train_values]\n",
        "train_values['damage_grade'] = train_labels['damage_grade'].values\n",
        "\n",
        "# 2nd: concatenate train_values and test_values\n",
        "frames = [train_values, test_values]\n",
        "df = pd.concat(frames)\n",
        "df.set_index='building_id'\n",
        "df.shape"
      ],
      "execution_count": null,
      "outputs": [
        {
          "output_type": "execute_result",
          "data": {
            "text/plain": [
              "(347469, 40)"
            ]
          },
          "metadata": {
            "tags": []
          },
          "execution_count": 17
        }
      ]
    },
    {
      "cell_type": "code",
      "metadata": {
        "colab": {
          "base_uri": "https://localhost:8080/",
          "height": 224
        },
        "id": "FYl4b5d5ID1K",
        "outputId": "6e41a113-acad-4f4b-aaf5-f81cf42c9b74"
      },
      "source": [
        "# observe new dataframe\n",
        "df.head()"
      ],
      "execution_count": null,
      "outputs": [
        {
          "output_type": "execute_result",
          "data": {
            "text/html": [
              "<div>\n",
              "<style scoped>\n",
              "    .dataframe tbody tr th:only-of-type {\n",
              "        vertical-align: middle;\n",
              "    }\n",
              "\n",
              "    .dataframe tbody tr th {\n",
              "        vertical-align: top;\n",
              "    }\n",
              "\n",
              "    .dataframe thead th {\n",
              "        text-align: right;\n",
              "    }\n",
              "</style>\n",
              "<table border=\"1\" class=\"dataframe\">\n",
              "  <thead>\n",
              "    <tr style=\"text-align: right;\">\n",
              "      <th></th>\n",
              "      <th>building_id</th>\n",
              "      <th>geo_level_1_id</th>\n",
              "      <th>geo_level_2_id</th>\n",
              "      <th>geo_level_3_id</th>\n",
              "      <th>count_floors_pre_eq</th>\n",
              "      <th>age</th>\n",
              "      <th>area_percentage</th>\n",
              "      <th>height_percentage</th>\n",
              "      <th>land_surface_condition</th>\n",
              "      <th>foundation_type</th>\n",
              "      <th>roof_type</th>\n",
              "      <th>ground_floor_type</th>\n",
              "      <th>other_floor_type</th>\n",
              "      <th>position</th>\n",
              "      <th>plan_configuration</th>\n",
              "      <th>has_superstructure_adobe_mud</th>\n",
              "      <th>has_superstructure_mud_mortar_stone</th>\n",
              "      <th>has_superstructure_stone_flag</th>\n",
              "      <th>has_superstructure_cement_mortar_stone</th>\n",
              "      <th>has_superstructure_mud_mortar_brick</th>\n",
              "      <th>has_superstructure_cement_mortar_brick</th>\n",
              "      <th>has_superstructure_timber</th>\n",
              "      <th>has_superstructure_bamboo</th>\n",
              "      <th>has_superstructure_rc_non_engineered</th>\n",
              "      <th>has_superstructure_rc_engineered</th>\n",
              "      <th>has_superstructure_other</th>\n",
              "      <th>legal_ownership_status</th>\n",
              "      <th>count_families</th>\n",
              "      <th>has_secondary_use</th>\n",
              "      <th>has_secondary_use_agriculture</th>\n",
              "      <th>has_secondary_use_hotel</th>\n",
              "      <th>has_secondary_use_rental</th>\n",
              "      <th>has_secondary_use_institution</th>\n",
              "      <th>has_secondary_use_school</th>\n",
              "      <th>has_secondary_use_industry</th>\n",
              "      <th>has_secondary_use_health_post</th>\n",
              "      <th>has_secondary_use_gov_office</th>\n",
              "      <th>has_secondary_use_use_police</th>\n",
              "      <th>has_secondary_use_other</th>\n",
              "      <th>damage_grade</th>\n",
              "    </tr>\n",
              "  </thead>\n",
              "  <tbody>\n",
              "    <tr>\n",
              "      <th>0</th>\n",
              "      <td>802906</td>\n",
              "      <td>6</td>\n",
              "      <td>487</td>\n",
              "      <td>12198</td>\n",
              "      <td>2</td>\n",
              "      <td>30</td>\n",
              "      <td>6</td>\n",
              "      <td>5</td>\n",
              "      <td>t</td>\n",
              "      <td>r</td>\n",
              "      <td>n</td>\n",
              "      <td>f</td>\n",
              "      <td>q</td>\n",
              "      <td>t</td>\n",
              "      <td>d</td>\n",
              "      <td>1</td>\n",
              "      <td>1</td>\n",
              "      <td>0</td>\n",
              "      <td>0</td>\n",
              "      <td>0</td>\n",
              "      <td>0</td>\n",
              "      <td>0</td>\n",
              "      <td>0</td>\n",
              "      <td>0</td>\n",
              "      <td>0</td>\n",
              "      <td>0</td>\n",
              "      <td>v</td>\n",
              "      <td>1</td>\n",
              "      <td>0</td>\n",
              "      <td>0</td>\n",
              "      <td>0</td>\n",
              "      <td>0</td>\n",
              "      <td>0</td>\n",
              "      <td>0</td>\n",
              "      <td>0</td>\n",
              "      <td>0</td>\n",
              "      <td>0</td>\n",
              "      <td>0</td>\n",
              "      <td>0</td>\n",
              "      <td>3.0</td>\n",
              "    </tr>\n",
              "    <tr>\n",
              "      <th>1</th>\n",
              "      <td>28830</td>\n",
              "      <td>8</td>\n",
              "      <td>900</td>\n",
              "      <td>2812</td>\n",
              "      <td>2</td>\n",
              "      <td>10</td>\n",
              "      <td>8</td>\n",
              "      <td>7</td>\n",
              "      <td>o</td>\n",
              "      <td>r</td>\n",
              "      <td>n</td>\n",
              "      <td>x</td>\n",
              "      <td>q</td>\n",
              "      <td>s</td>\n",
              "      <td>d</td>\n",
              "      <td>0</td>\n",
              "      <td>1</td>\n",
              "      <td>0</td>\n",
              "      <td>0</td>\n",
              "      <td>0</td>\n",
              "      <td>0</td>\n",
              "      <td>0</td>\n",
              "      <td>0</td>\n",
              "      <td>0</td>\n",
              "      <td>0</td>\n",
              "      <td>0</td>\n",
              "      <td>v</td>\n",
              "      <td>1</td>\n",
              "      <td>0</td>\n",
              "      <td>0</td>\n",
              "      <td>0</td>\n",
              "      <td>0</td>\n",
              "      <td>0</td>\n",
              "      <td>0</td>\n",
              "      <td>0</td>\n",
              "      <td>0</td>\n",
              "      <td>0</td>\n",
              "      <td>0</td>\n",
              "      <td>0</td>\n",
              "      <td>2.0</td>\n",
              "    </tr>\n",
              "    <tr>\n",
              "      <th>2</th>\n",
              "      <td>94947</td>\n",
              "      <td>21</td>\n",
              "      <td>363</td>\n",
              "      <td>8973</td>\n",
              "      <td>2</td>\n",
              "      <td>10</td>\n",
              "      <td>5</td>\n",
              "      <td>5</td>\n",
              "      <td>t</td>\n",
              "      <td>r</td>\n",
              "      <td>n</td>\n",
              "      <td>f</td>\n",
              "      <td>x</td>\n",
              "      <td>t</td>\n",
              "      <td>d</td>\n",
              "      <td>0</td>\n",
              "      <td>1</td>\n",
              "      <td>0</td>\n",
              "      <td>0</td>\n",
              "      <td>0</td>\n",
              "      <td>0</td>\n",
              "      <td>0</td>\n",
              "      <td>0</td>\n",
              "      <td>0</td>\n",
              "      <td>0</td>\n",
              "      <td>0</td>\n",
              "      <td>v</td>\n",
              "      <td>1</td>\n",
              "      <td>0</td>\n",
              "      <td>0</td>\n",
              "      <td>0</td>\n",
              "      <td>0</td>\n",
              "      <td>0</td>\n",
              "      <td>0</td>\n",
              "      <td>0</td>\n",
              "      <td>0</td>\n",
              "      <td>0</td>\n",
              "      <td>0</td>\n",
              "      <td>0</td>\n",
              "      <td>3.0</td>\n",
              "    </tr>\n",
              "    <tr>\n",
              "      <th>3</th>\n",
              "      <td>590882</td>\n",
              "      <td>22</td>\n",
              "      <td>418</td>\n",
              "      <td>10694</td>\n",
              "      <td>2</td>\n",
              "      <td>10</td>\n",
              "      <td>6</td>\n",
              "      <td>5</td>\n",
              "      <td>t</td>\n",
              "      <td>r</td>\n",
              "      <td>n</td>\n",
              "      <td>f</td>\n",
              "      <td>x</td>\n",
              "      <td>s</td>\n",
              "      <td>d</td>\n",
              "      <td>0</td>\n",
              "      <td>1</td>\n",
              "      <td>0</td>\n",
              "      <td>0</td>\n",
              "      <td>0</td>\n",
              "      <td>0</td>\n",
              "      <td>1</td>\n",
              "      <td>1</td>\n",
              "      <td>0</td>\n",
              "      <td>0</td>\n",
              "      <td>0</td>\n",
              "      <td>v</td>\n",
              "      <td>1</td>\n",
              "      <td>0</td>\n",
              "      <td>0</td>\n",
              "      <td>0</td>\n",
              "      <td>0</td>\n",
              "      <td>0</td>\n",
              "      <td>0</td>\n",
              "      <td>0</td>\n",
              "      <td>0</td>\n",
              "      <td>0</td>\n",
              "      <td>0</td>\n",
              "      <td>0</td>\n",
              "      <td>2.0</td>\n",
              "    </tr>\n",
              "    <tr>\n",
              "      <th>4</th>\n",
              "      <td>201944</td>\n",
              "      <td>11</td>\n",
              "      <td>131</td>\n",
              "      <td>1488</td>\n",
              "      <td>3</td>\n",
              "      <td>30</td>\n",
              "      <td>8</td>\n",
              "      <td>9</td>\n",
              "      <td>t</td>\n",
              "      <td>r</td>\n",
              "      <td>n</td>\n",
              "      <td>f</td>\n",
              "      <td>x</td>\n",
              "      <td>s</td>\n",
              "      <td>d</td>\n",
              "      <td>1</td>\n",
              "      <td>0</td>\n",
              "      <td>0</td>\n",
              "      <td>0</td>\n",
              "      <td>0</td>\n",
              "      <td>0</td>\n",
              "      <td>0</td>\n",
              "      <td>0</td>\n",
              "      <td>0</td>\n",
              "      <td>0</td>\n",
              "      <td>0</td>\n",
              "      <td>v</td>\n",
              "      <td>1</td>\n",
              "      <td>0</td>\n",
              "      <td>0</td>\n",
              "      <td>0</td>\n",
              "      <td>0</td>\n",
              "      <td>0</td>\n",
              "      <td>0</td>\n",
              "      <td>0</td>\n",
              "      <td>0</td>\n",
              "      <td>0</td>\n",
              "      <td>0</td>\n",
              "      <td>0</td>\n",
              "      <td>3.0</td>\n",
              "    </tr>\n",
              "  </tbody>\n",
              "</table>\n",
              "</div>"
            ],
            "text/plain": [
              "   building_id  geo_level_1_id  ...  has_secondary_use_other  damage_grade\n",
              "0       802906               6  ...                        0           3.0\n",
              "1        28830               8  ...                        0           2.0\n",
              "2        94947              21  ...                        0           3.0\n",
              "3       590882              22  ...                        0           2.0\n",
              "4       201944              11  ...                        0           3.0\n",
              "\n",
              "[5 rows x 40 columns]"
            ]
          },
          "metadata": {
            "tags": []
          },
          "execution_count": 18
        }
      ]
    },
    {
      "cell_type": "markdown",
      "metadata": {
        "id": "5CCbD4-46bcH"
      },
      "source": [
        "***Features Description*** \n",
        "\n",
        "- **geo_level_1_id, geo_level_2_id, geo_level_3_id (type: int):** geographic region in which building exists, from largest (level 1) to most specific sub-region (level 3). Possible values: level 1: 0-30, level 2: 0-1427, level 3: 0-12567.  \n",
        "\n",
        "- **count_floors_pre_eq (type: int):** number of floors in the building before the earthquake.  \n",
        "\n",
        "- **age (type: int):** age of the building in years.  \n",
        "\n",
        "- **area_percentage (type: int):** normalized area of the building footprint.  \n",
        "\n",
        "- **height_percentage (type: int):** normalized height of the building footprint.  \n",
        "\n",
        "- **land_surface_condition (type: categorical):** surface condition of the land where the building was built. Possible values: n, o, t.  \n",
        "\n",
        "- **foundation_type (type: categorical):** type of foundation used while building. Possible values: h, i, r, u, w.  \n",
        "\n",
        "- **roof_type (type: categorical):** type of roof used while building. Possible values: n, q, x.  \n",
        "\n",
        "- **ground_floor_type (type: categorical):** type of the ground floor. Possible values: f, m, v, x, z.  \n",
        "\n",
        "- **other_floor_type (type: categorical):** type of constructions used in higher than the ground floors (except of roof). Possible values: j, q, s, x.   \n",
        "\n",
        "- **position (type: categorical):** position of the building. Possible values: j, o, s, t.  \n",
        "\n",
        "- **plan_configuration (type: categorical):** building plan configuration. Possible values: a, c, d, f, m, n, o, q, s, u.   \n",
        "\n",
        "- **has_superstructure_adobe_mud (type: binary):** flag variable that indicates if the superstructure was made of Adobe/Mud.  \n",
        "\n",
        "- **has_superstructure_mud_mortar_stone (type: binary):** flag variable that indicates if the superstructure was made of Mud Mortar - Stone.  \n",
        "\n",
        "- **has_superstructure_stone_flag (type: binary):** flag variable that indicates if the superstructure was made of Stone.  \n",
        "\n",
        "- **has_superstructure_cement_mortar_stone (type: binary):** flag variable that indicates if the superstructure was made of Cement Mortar - Stone.\n",
        "\n",
        "- **has_superstructure_mud_mortar_brick (type: binary):** flag variable that indicates if the superstructure was made of Mud Mortar - Brick.  \n",
        "\n",
        "- **has_superstructure_cement_mortar_brick (type: binary):** flag variable that indicates if the superstructure was made of Cement Mortar - Brick.  \n",
        "\n",
        "- **has_superstructure_timber (type: binary):** flag variable that indicates if the superstructure was made of Timber.  \n",
        "\n",
        "- **has_superstructure_bamboo (type: binary):** flag variable that indicates if the superstructure was made of Bamboo.  \n",
        "\n",
        "- **has_superstructure_rc_non_engineered (type: binary):** flag variable that indicates if the superstructure was made of non-engineered reinforced concrete.  \n",
        "\n",
        "- **has_superstructure_rc_engineered (type: binary):** flag variable that indicates if the superstructure was made of engineered reinforced concrete.  \n",
        "\n",
        "- **has_superstructure_other (type: binary):** flag variable that indicates if the superstructure was made of any other material.  \n",
        "\n",
        "- **legal_ownership_status (type: categorical):** legal ownership status of the land where building was built. Possible values: a, r, v, w.  \n",
        "\n",
        "- **count_families (type: int):** number of families that live in the building.  \n",
        "\n",
        "- **has_secondary_use (type: binary):** flag variable that indicates if the building was used for any secondary purpose.  \n",
        "\n",
        "- **has_secondary_use_agriculture (type: binary):** flag variable that indicates if the building was used for agricultural purposes.  \n",
        "\n",
        "- **has_secondary_use_hotel (type: binary):** flag variable that indicates if the building was used as a hotel.  \n",
        "\n",
        "- **has_secondary_use_rental (type: binary):** flag variable that indicates if the building was used for rental purposes.  \n",
        "\n",
        "- **has_secondary_use_institution (type: binary):** flag variable that indicates if the building was used as a location of any institution.  \n",
        "\n",
        "- **has_secondary_use_school (type: binary):** flag variable that indicates if the building was used as a school.  \n",
        "\n",
        "- **has_secondary_use_industry (type: binary):** flag variable that indicates if the building was used for industrial purposes.  \n",
        "\n",
        "- **has_secondary_use_health_post (type: binary):** flag variable that indicates if the building was used as a health post.  \n",
        "\n",
        "- **has_secondary_use_gov_office (type: binary):** flag variable that indicates if the building was used fas a government office.  \n",
        "\n",
        "- **has_secondary_use_use_police (type: binary):** flag variable that indicates if the building was used as a police station.  \n",
        "\n",
        "- **has_secondary_use_other (type: binary):** flag variable that indicates if the building was secondarily used for other purposes.\n",
        "- **damage_grade (type: int):** represents the level of damage. 1: low damage. 2: medium damage. 3: great damage/destruction."
      ]
    },
    {
      "cell_type": "code",
      "metadata": {
        "id": "zuBWCts-7jGP"
      },
      "source": [
        "# check for missing values\n",
        "def missing_values_table(df):\n",
        "    \n",
        "    mis_val = df.isnull().sum() # total\n",
        "    \n",
        "    mis_val_percent = 100 * df.isnull().sum() / len(df) # percentage\n",
        "    \n",
        "    mis_val_table = pd.concat([mis_val, mis_val_percent], axis=1) # create a table\n",
        "    \n",
        "    mis_val_table_ren_columns = mis_val_table.rename(                  # rename columns\n",
        "    columns = {0 : 'Missing Values', 1 : '% of Total Values'})\n",
        "  \n",
        "    # .iloc[:, 1]!= 0: filter on missing values not equal to zero\n",
        "    mis_val_table_ren_columns = mis_val_table_ren_columns[        # sort by percentage (descending)\n",
        "        mis_val_table_ren_columns.iloc[:,1] != 0].sort_values(\n",
        "    '% of Total Values', ascending=False).round(2)\n",
        "    \n",
        "    print(\"Your selected dataframe has {} columns.\".format(df.shape[1]) + '\\n' + \n",
        "    \"There are {} columns that have missing values.\".format(mis_val_table_ren_columns.shape[0]))\n",
        "    \n",
        "    return mis_val_table_ren_columns"
      ],
      "execution_count": null,
      "outputs": []
    },
    {
      "cell_type": "code",
      "metadata": {
        "colab": {
          "base_uri": "https://localhost:8080/",
          "height": 114
        },
        "id": "HRCJPx0S7ipZ",
        "outputId": "95d39a61-2dc9-46a2-b6a4-68c9172ca78c"
      },
      "source": [
        "missing_values_table(df)"
      ],
      "execution_count": null,
      "outputs": [
        {
          "output_type": "stream",
          "text": [
            "Your selected dataframe has 40 columns.\n",
            "There are 1 columns that have missing values.\n"
          ],
          "name": "stdout"
        },
        {
          "output_type": "execute_result",
          "data": {
            "text/html": [
              "<div>\n",
              "<style scoped>\n",
              "    .dataframe tbody tr th:only-of-type {\n",
              "        vertical-align: middle;\n",
              "    }\n",
              "\n",
              "    .dataframe tbody tr th {\n",
              "        vertical-align: top;\n",
              "    }\n",
              "\n",
              "    .dataframe thead th {\n",
              "        text-align: right;\n",
              "    }\n",
              "</style>\n",
              "<table border=\"1\" class=\"dataframe\">\n",
              "  <thead>\n",
              "    <tr style=\"text-align: right;\">\n",
              "      <th></th>\n",
              "      <th>Missing Values</th>\n",
              "      <th>% of Total Values</th>\n",
              "    </tr>\n",
              "  </thead>\n",
              "  <tbody>\n",
              "    <tr>\n",
              "      <th>damage_grade</th>\n",
              "      <td>86868</td>\n",
              "      <td>25.0</td>\n",
              "    </tr>\n",
              "  </tbody>\n",
              "</table>\n",
              "</div>"
            ],
            "text/plain": [
              "              Missing Values  % of Total Values\n",
              "damage_grade           86868               25.0"
            ]
          },
          "metadata": {
            "tags": []
          },
          "execution_count": 20
        }
      ]
    },
    {
      "cell_type": "markdown",
      "metadata": {
        "id": "y2ZZF8JoGJ04"
      },
      "source": [
        "Theses 86868 values are in fact the *to be predected labels* = there are no missing values, nice!"
      ]
    },
    {
      "cell_type": "markdown",
      "metadata": {
        "id": "-upAWYwlDc1q"
      },
      "source": [
        "<a name=\"viz\"></a>\n",
        "## Visualization"
      ]
    },
    {
      "cell_type": "code",
      "metadata": {
        "id": "fwiuje42Mtls"
      },
      "source": [
        "#import pandas_profiling\n",
        "#pandas_profiling.ProfileReport(df)"
      ],
      "execution_count": null,
      "outputs": []
    },
    {
      "cell_type": "code",
      "metadata": {
        "colab": {
          "base_uri": "https://localhost:8080/",
          "height": 401
        },
        "id": "TNU0Mf9fLLgm",
        "outputId": "80152a07-2c7a-4eaa-ece8-af7b18b3be4e"
      },
      "source": [
        "# plot the relation between a building's area and height with distinction of the damage grade\n",
        "sns.relplot(\n",
        "    data=train_values,\n",
        "    x=\"area_percentage\", y=\"height_percentage\",\n",
        "    hue=\"damage_grade\", aspect=11.7/9\n",
        ")"
      ],
      "execution_count": null,
      "outputs": [
        {
          "output_type": "execute_result",
          "data": {
            "text/plain": [
              "<seaborn.axisgrid.FacetGrid at 0x7f2b5c4f3c18>"
            ]
          },
          "metadata": {
            "tags": []
          },
          "execution_count": 22
        },
        {
          "output_type": "display_data",
          "data": {
            "image/png": "[encoded data removed]",
            "text/plain": [
              "<Figure size 550.875x360 with 1 Axes>"
            ]
          },
          "metadata": {
            "tags": []
          }
        }
      ]
    },
    {
      "cell_type": "markdown",
      "metadata": {
        "id": "PXN_enPWHCvx"
      },
      "source": [
        "Some observations:  \n",
        "\n",
        "Majority of point are purple. Purple = damage_grade 2. This might indicate the presence of class inbalance.    \n",
        "\n",
        "Several buildings with high percentage of height and relatively smaller areas appear to be classified with damage_grade **3** (see top-left corner of plot). It seems logical to assume the higher the building, and the smaller its area, the more damage it will endure.\n",
        "\n",
        "Majority of data points are in the bottom-left side of the plot, yet there are some values that seem to be distant. This might indicate the presence of outliers. \n"
      ]
    },
    {
      "cell_type": "code",
      "metadata": {
        "colab": {
          "base_uri": "https://localhost:8080/",
          "height": 813
        },
        "id": "1l7H66uQ9z79",
        "outputId": "b9c02899-9f96-401b-fe0d-18634a1982f7"
      },
      "source": [
        "# plot the heatmap to plot correlation between features\n",
        "cold_without_flags = ['geo_level_1_id', 'geo_level_2_id', 'geo_level_3_id', 'count_floors_pre_eq',\n",
        " 'age', 'area_percentage', 'height_percentage', 'foundation_type', 'ground_floor_type',\n",
        " 'other_floor_type', 'position', 'plan_configuration', 'legal_ownership_status',\n",
        " 'count_families', 'damage_grade',]\n",
        "\n",
        "corr = df.drop('building_id', axis=1).corr()\n",
        "fig, ax = plt.subplots(figsize=(10,10)) \n",
        "sns.heatmap(corr, ax=ax)"
      ],
      "execution_count": null,
      "outputs": [
        {
          "output_type": "execute_result",
          "data": {
            "text/plain": [
              "<matplotlib.axes._subplots.AxesSubplot at 0x7f2b5c4fa4a8>"
            ]
          },
          "metadata": {
            "tags": []
          },
          "execution_count": 23
        },
        {
          "output_type": "display_data",
          "data": {
            "image/png": "[encoded data removed]",
            "text/plain": [
              "<Figure size 720x720 with 2 Axes>"
            ]
          },
          "metadata": {
            "tags": []
          }
        }
      ]
    },
    {
      "cell_type": "markdown",
      "metadata": {
        "id": "sVL-FnhXYOmC"
      },
      "source": [
        "There seems to be correlation between the features *geo_level_1_id* and *foundation_type*, intersting.  \n",
        "Also between *area_percentage* and *ground_floor_type*.  \n",
        "\n",
        "Another nice revelation is seen in the correlations of the feature *has_secondary_use*, as it seems that the most common secondary uses in order are: agriculture, hotel, rental, and institution.  \n",
        "\n",
        "Some obvious correlations can also be seen such as the one between the building's height and the count of floors."
      ]
    },
    {
      "cell_type": "code",
      "metadata": {
        "colab": {
          "base_uri": "https://localhost:8080/",
          "height": 401
        },
        "id": "Vq4WhG60GaQW",
        "outputId": "a5789e2d-dac1-4609-bd43-c8a2df97a0d3"
      },
      "source": [
        "# A barplot showing how many instances of each class there are\n",
        "sns.catplot(x='damage_grade', data=df, kind='count', palette=sns.color_palette(['green','purple', 'blue']))"
      ],
      "execution_count": null,
      "outputs": [
        {
          "output_type": "execute_result",
          "data": {
            "text/plain": [
              "<seaborn.axisgrid.FacetGrid at 0x7f2b57ed3c88>"
            ]
          },
          "metadata": {
            "tags": []
          },
          "execution_count": 24
        },
        {
          "output_type": "display_data",
          "data": {
            "image/png": "[encoded data removed]",
            "text/plain": [
              "<Figure size 360x360 with 1 Axes>"
            ]
          },
          "metadata": {
            "tags": []
          }
        }
      ]
    },
    {
      "cell_type": "markdown",
      "metadata": {
        "id": "oUhbRH3lFvnq"
      },
      "source": [
        "<a name=\"imbalance\"></a>\n",
        "According to this plot, there seems to be a multiclass imbalance. This means that in this dataset there are more instances where the damage_grade is 2, but less ones where the damage_grade is 1 or 3. This is a problem because the model is not going to be trained well to predict the classes where there is less data. \n",
        "One way to fix this is using SMOTE.  \n",
        "\n",
        "With SMOTE (Synthetic Minority Over-sampling Technique), either oversampling or undersampling can be used on certain classes.  \n",
        "\n",
        "\n",
        "SMOTE is performed [later](#SMOTE) in the notebook."
      ]
    },
    {
      "cell_type": "markdown",
      "metadata": {
        "id": "Q8x6V3YNC4Gr"
      },
      "source": [
        "<a name=\"handle_cat\"></a>\n",
        "## Handle categorical features"
      ]
    },
    {
      "cell_type": "code",
      "metadata": {
        "colab": {
          "base_uri": "https://localhost:8080/"
        },
        "id": "tzZjTiBa7Xvw",
        "outputId": "48b07ed8-450c-4b8b-f885-646081cc19e7"
      },
      "source": [
        "# observe columns and their types\n",
        "df.info()"
      ],
      "execution_count": null,
      "outputs": [
        {
          "output_type": "stream",
          "text": [
            "<class 'pandas.core.frame.DataFrame'>\n",
            "Int64Index: 347469 entries, 0 to 86867\n",
            "Data columns (total 40 columns):\n",
            " #   Column                                  Non-Null Count   Dtype  \n",
            "---  ------                                  --------------   -----  \n",
            " 0   building_id                             347469 non-null  int64  \n",
            " 1   geo_level_1_id                          347469 non-null  int64  \n",
            " 2   geo_level_2_id                          347469 non-null  int64  \n",
            " 3   geo_level_3_id                          347469 non-null  int64  \n",
            " 4   count_floors_pre_eq                     347469 non-null  int64  \n",
            " 5   age                                     347469 non-null  int64  \n",
            " 6   area_percentage                         347469 non-null  int64  \n",
            " 7   height_percentage                       347469 non-null  int64  \n",
            " 8   land_surface_condition                  347469 non-null  object \n",
            " 9   foundation_type                         347469 non-null  object \n",
            " 10  roof_type                               347469 non-null  object \n",
            " 11  ground_floor_type                       347469 non-null  object \n",
            " 12  other_floor_type                        347469 non-null  object \n",
            " 13  position                                347469 non-null  object \n",
            " 14  plan_configuration                      347469 non-null  object \n",
            " 15  has_superstructure_adobe_mud            347469 non-null  int64  \n",
            " 16  has_superstructure_mud_mortar_stone     347469 non-null  int64  \n",
            " 17  has_superstructure_stone_flag           347469 non-null  int64  \n",
            " 18  has_superstructure_cement_mortar_stone  347469 non-null  int64  \n",
            " 19  has_superstructure_mud_mortar_brick     347469 non-null  int64  \n",
            " 20  has_superstructure_cement_mortar_brick  347469 non-null  int64  \n",
            " 21  has_superstructure_timber               347469 non-null  int64  \n",
            " 22  has_superstructure_bamboo               347469 non-null  int64  \n",
            " 23  has_superstructure_rc_non_engineered    347469 non-null  int64  \n",
            " 24  has_superstructure_rc_engineered        347469 non-null  int64  \n",
            " 25  has_superstructure_other                347469 non-null  int64  \n",
            " 26  legal_ownership_status                  347469 non-null  object \n",
            " 27  count_families                          347469 non-null  int64  \n",
            " 28  has_secondary_use                       347469 non-null  int64  \n",
            " 29  has_secondary_use_agriculture           347469 non-null  int64  \n",
            " 30  has_secondary_use_hotel                 347469 non-null  int64  \n",
            " 31  has_secondary_use_rental                347469 non-null  int64  \n",
            " 32  has_secondary_use_institution           347469 non-null  int64  \n",
            " 33  has_secondary_use_school                347469 non-null  int64  \n",
            " 34  has_secondary_use_industry              347469 non-null  int64  \n",
            " 35  has_secondary_use_health_post           347469 non-null  int64  \n",
            " 36  has_secondary_use_gov_office            347469 non-null  int64  \n",
            " 37  has_secondary_use_use_police            347469 non-null  int64  \n",
            " 38  has_secondary_use_other                 347469 non-null  int64  \n",
            " 39  damage_grade                            260601 non-null  float64\n",
            "dtypes: float64(1), int64(31), object(8)\n",
            "memory usage: 118.7+ MB\n"
          ],
          "name": "stdout"
        }
      ]
    },
    {
      "cell_type": "markdown",
      "metadata": {
        "id": "s5zNbaOh1Obn"
      },
      "source": [
        "This dataframe has 31 columns of type **int64**, 8 columns of type **object**, and a single **float46** column(the target).   \n",
        ".    \n",
        ".     \n",
        ".  \n",
        "\n",
        "Next step: convert all columns to be of numerical type."
      ]
    },
    {
      "cell_type": "code",
      "metadata": {
        "colab": {
          "base_uri": "https://localhost:8080/"
        },
        "id": "Q0t4hYAx6bcN",
        "outputId": "d88d95b2-fda7-4479-e9e1-3c895e2b313e"
      },
      "source": [
        "# first, investigate the columns with type 'object'\n",
        "print(train_values['land_surface_condition'].value_counts(), '\\n')\n",
        "print(train_values['foundation_type'].value_counts(), '\\n')\n",
        "print(train_values['roof_type'].value_counts(), '\\n')\n",
        "print(train_values['ground_floor_type'].value_counts(), '\\n')\n",
        "\n",
        "print(train_values['other_floor_type'].value_counts(), '\\n')\n",
        "print(train_values['position'].value_counts(), '\\n')\n",
        "print(train_values['plan_configuration'].value_counts(), '\\n')\n",
        "print(train_values['legal_ownership_status'].value_counts(), '\\n')\n",
        "\n",
        "print(train_values['damage_grade'].value_counts(), '\\n')"
      ],
      "execution_count": null,
      "outputs": [
        {
          "output_type": "stream",
          "text": [
            "t    216757\n",
            "n     35528\n",
            "o      8316\n",
            "Name: land_surface_condition, dtype: int64 \n",
            "\n",
            "r    219196\n",
            "w     15118\n",
            "u     14260\n",
            "i     10579\n",
            "h      1448\n",
            "Name: foundation_type, dtype: int64 \n",
            "\n",
            "n    182842\n",
            "q     61576\n",
            "x     16183\n",
            "Name: roof_type, dtype: int64 \n",
            "\n",
            "f    209619\n",
            "x     24877\n",
            "v     24593\n",
            "z      1004\n",
            "m       508\n",
            "Name: ground_floor_type, dtype: int64 \n",
            "\n",
            "q    165282\n",
            "x     43448\n",
            "j     39843\n",
            "s     12028\n",
            "Name: other_floor_type, dtype: int64 \n",
            "\n",
            "s    202090\n",
            "t     42896\n",
            "j     13282\n",
            "o      2333\n",
            "Name: position, dtype: int64 \n",
            "\n",
            "d    250072\n",
            "q      5692\n",
            "u      3649\n",
            "s       346\n",
            "c       325\n",
            "a       252\n",
            "o       159\n",
            "m        46\n",
            "n        38\n",
            "f        22\n",
            "Name: plan_configuration, dtype: int64 \n",
            "\n",
            "v    250939\n",
            "a      5512\n",
            "w      2677\n",
            "r      1473\n",
            "Name: legal_ownership_status, dtype: int64 \n",
            "\n",
            "2    148259\n",
            "3     87218\n",
            "1     25124\n",
            "Name: damage_grade, dtype: int64 \n",
            "\n"
          ],
          "name": "stdout"
        }
      ]
    },
    {
      "cell_type": "markdown",
      "metadata": {
        "id": "8UnDo-aCHCvq"
      },
      "source": [
        "Deal with each column depending on the number of classes it has"
      ]
    },
    {
      "cell_type": "code",
      "metadata": {
        "id": "kJQcr_9d6bcN"
      },
      "source": [
        "# use OrdinalEncoder to deal with object columns with 4 or more classes\n",
        "four_more = ['foundation_type', 'ground_floor_type', 'plan_configuration',\n",
        "             'other_floor_type', 'position', 'legal_ownership_status']\n",
        "enc = OrdinalEncoder()\n",
        "\n",
        "df[four_more] = enc.fit_transform(df[four_more])"
      ],
      "execution_count": null,
      "outputs": []
    },
    {
      "cell_type": "code",
      "metadata": {
        "id": "wV6kHTqo6bcO"
      },
      "source": [
        "# use one hot encoding to deal with object columns with 3 or less classes\n",
        "three_less = ['land_surface_condition', 'roof_type']\n",
        "df = pd.get_dummies(df, columns=three_less)"
      ],
      "execution_count": null,
      "outputs": []
    },
    {
      "cell_type": "code",
      "metadata": {
        "id": "dusybIVn7-mA"
      },
      "source": [
        "# while at it, convert uint8 columns to int8 (helpfeul for a later operation: IsolationForest)\n",
        "uint8_cols = ['land_surface_condition_n', 'land_surface_condition_o', 'land_surface_condition_t',\n",
        "              'roof_type_n', 'roof_type_q', 'roof_type_x']\n",
        "df[uint8_cols] = np.int8(df[uint8_cols])"
      ],
      "execution_count": null,
      "outputs": []
    },
    {
      "cell_type": "code",
      "metadata": {
        "colab": {
          "base_uri": "https://localhost:8080/"
        },
        "id": "CFykC4cP6bcO",
        "outputId": "54c8da7a-6e2f-4fc8-8f4f-29972e68a049"
      },
      "source": [
        "# check everything is good and all columns are numerical\n",
        "df.info()"
      ],
      "execution_count": null,
      "outputs": [
        {
          "output_type": "stream",
          "text": [
            "<class 'pandas.core.frame.DataFrame'>\n",
            "Int64Index: 347469 entries, 0 to 86867\n",
            "Data columns (total 44 columns):\n",
            " #   Column                                  Non-Null Count   Dtype  \n",
            "---  ------                                  --------------   -----  \n",
            " 0   building_id                             347469 non-null  int64  \n",
            " 1   geo_level_1_id                          347469 non-null  int64  \n",
            " 2   geo_level_2_id                          347469 non-null  int64  \n",
            " 3   geo_level_3_id                          347469 non-null  int64  \n",
            " 4   count_floors_pre_eq                     347469 non-null  int64  \n",
            " 5   age                                     347469 non-null  int64  \n",
            " 6   area_percentage                         347469 non-null  int64  \n",
            " 7   height_percentage                       347469 non-null  int64  \n",
            " 8   foundation_type                         347469 non-null  float64\n",
            " 9   ground_floor_type                       347469 non-null  float64\n",
            " 10  other_floor_type                        347469 non-null  float64\n",
            " 11  position                                347469 non-null  float64\n",
            " 12  plan_configuration                      347469 non-null  float64\n",
            " 13  has_superstructure_adobe_mud            347469 non-null  int64  \n",
            " 14  has_superstructure_mud_mortar_stone     347469 non-null  int64  \n",
            " 15  has_superstructure_stone_flag           347469 non-null  int64  \n",
            " 16  has_superstructure_cement_mortar_stone  347469 non-null  int64  \n",
            " 17  has_superstructure_mud_mortar_brick     347469 non-null  int64  \n",
            " 18  has_superstructure_cement_mortar_brick  347469 non-null  int64  \n",
            " 19  has_superstructure_timber               347469 non-null  int64  \n",
            " 20  has_superstructure_bamboo               347469 non-null  int64  \n",
            " 21  has_superstructure_rc_non_engineered    347469 non-null  int64  \n",
            " 22  has_superstructure_rc_engineered        347469 non-null  int64  \n",
            " 23  has_superstructure_other                347469 non-null  int64  \n",
            " 24  legal_ownership_status                  347469 non-null  float64\n",
            " 25  count_families                          347469 non-null  int64  \n",
            " 26  has_secondary_use                       347469 non-null  int64  \n",
            " 27  has_secondary_use_agriculture           347469 non-null  int64  \n",
            " 28  has_secondary_use_hotel                 347469 non-null  int64  \n",
            " 29  has_secondary_use_rental                347469 non-null  int64  \n",
            " 30  has_secondary_use_institution           347469 non-null  int64  \n",
            " 31  has_secondary_use_school                347469 non-null  int64  \n",
            " 32  has_secondary_use_industry              347469 non-null  int64  \n",
            " 33  has_secondary_use_health_post           347469 non-null  int64  \n",
            " 34  has_secondary_use_gov_office            347469 non-null  int64  \n",
            " 35  has_secondary_use_use_police            347469 non-null  int64  \n",
            " 36  has_secondary_use_other                 347469 non-null  int64  \n",
            " 37  damage_grade                            260601 non-null  float64\n",
            " 38  land_surface_condition_n                347469 non-null  int64  \n",
            " 39  land_surface_condition_o                347469 non-null  int64  \n",
            " 40  land_surface_condition_t                347469 non-null  int64  \n",
            " 41  roof_type_n                             347469 non-null  int64  \n",
            " 42  roof_type_q                             347469 non-null  int64  \n",
            " 43  roof_type_x                             347469 non-null  int64  \n",
            "dtypes: float64(7), int64(37)\n",
            "memory usage: 129.3 MB\n"
          ],
          "name": "stdout"
        }
      ]
    },
    {
      "cell_type": "code",
      "metadata": {
        "colab": {
          "base_uri": "https://localhost:8080/",
          "height": 317
        },
        "id": "TfYSzH0vKT_u",
        "outputId": "6734dbf8-1a9d-41e0-f6e1-598a8171fc11"
      },
      "source": [
        "# observe some stats about the dataframe\n",
        "df.describe()"
      ],
      "execution_count": null,
      "outputs": [
        {
          "output_type": "execute_result",
          "data": {
            "text/html": [
              "<div>\n",
              "<style scoped>\n",
              "    .dataframe tbody tr th:only-of-type {\n",
              "        vertical-align: middle;\n",
              "    }\n",
              "\n",
              "    .dataframe tbody tr th {\n",
              "        vertical-align: top;\n",
              "    }\n",
              "\n",
              "    .dataframe thead th {\n",
              "        text-align: right;\n",
              "    }\n",
              "</style>\n",
              "<table border=\"1\" class=\"dataframe\">\n",
              "  <thead>\n",
              "    <tr style=\"text-align: right;\">\n",
              "      <th></th>\n",
              "      <th>building_id</th>\n",
              "      <th>geo_level_1_id</th>\n",
              "      <th>geo_level_2_id</th>\n",
              "      <th>geo_level_3_id</th>\n",
              "      <th>count_floors_pre_eq</th>\n",
              "      <th>age</th>\n",
              "      <th>area_percentage</th>\n",
              "      <th>height_percentage</th>\n",
              "      <th>foundation_type</th>\n",
              "      <th>ground_floor_type</th>\n",
              "      <th>other_floor_type</th>\n",
              "      <th>position</th>\n",
              "      <th>plan_configuration</th>\n",
              "      <th>has_superstructure_adobe_mud</th>\n",
              "      <th>has_superstructure_mud_mortar_stone</th>\n",
              "      <th>has_superstructure_stone_flag</th>\n",
              "      <th>has_superstructure_cement_mortar_stone</th>\n",
              "      <th>has_superstructure_mud_mortar_brick</th>\n",
              "      <th>has_superstructure_cement_mortar_brick</th>\n",
              "      <th>has_superstructure_timber</th>\n",
              "      <th>has_superstructure_bamboo</th>\n",
              "      <th>has_superstructure_rc_non_engineered</th>\n",
              "      <th>has_superstructure_rc_engineered</th>\n",
              "      <th>has_superstructure_other</th>\n",
              "      <th>legal_ownership_status</th>\n",
              "      <th>count_families</th>\n",
              "      <th>has_secondary_use</th>\n",
              "      <th>has_secondary_use_agriculture</th>\n",
              "      <th>has_secondary_use_hotel</th>\n",
              "      <th>has_secondary_use_rental</th>\n",
              "      <th>has_secondary_use_institution</th>\n",
              "      <th>has_secondary_use_school</th>\n",
              "      <th>has_secondary_use_industry</th>\n",
              "      <th>has_secondary_use_health_post</th>\n",
              "      <th>has_secondary_use_gov_office</th>\n",
              "      <th>has_secondary_use_use_police</th>\n",
              "      <th>has_secondary_use_other</th>\n",
              "      <th>damage_grade</th>\n",
              "      <th>land_surface_condition_n</th>\n",
              "      <th>land_surface_condition_o</th>\n",
              "      <th>land_surface_condition_t</th>\n",
              "      <th>roof_type_n</th>\n",
              "      <th>roof_type_q</th>\n",
              "      <th>roof_type_x</th>\n",
              "    </tr>\n",
              "  </thead>\n",
              "  <tbody>\n",
              "    <tr>\n",
              "      <th>count</th>\n",
              "      <td>3.474690e+05</td>\n",
              "      <td>347469.000000</td>\n",
              "      <td>347469.000000</td>\n",
              "      <td>347469.000000</td>\n",
              "      <td>347469.000000</td>\n",
              "      <td>347469.000000</td>\n",
              "      <td>347469.000000</td>\n",
              "      <td>347469.000000</td>\n",
              "      <td>347469.000000</td>\n",
              "      <td>347469.000000</td>\n",
              "      <td>347469.000000</td>\n",
              "      <td>347469.000000</td>\n",
              "      <td>347469.000000</td>\n",
              "      <td>347469.000000</td>\n",
              "      <td>347469.000000</td>\n",
              "      <td>347469.000000</td>\n",
              "      <td>347469.000000</td>\n",
              "      <td>347469.000000</td>\n",
              "      <td>347469.000000</td>\n",
              "      <td>347469.000000</td>\n",
              "      <td>347469.000000</td>\n",
              "      <td>347469.000000</td>\n",
              "      <td>347469.000000</td>\n",
              "      <td>347469.000000</td>\n",
              "      <td>347469.000000</td>\n",
              "      <td>347469.000000</td>\n",
              "      <td>347469.000000</td>\n",
              "      <td>347469.000000</td>\n",
              "      <td>347469.000000</td>\n",
              "      <td>347469.000000</td>\n",
              "      <td>347469.000000</td>\n",
              "      <td>347469.000000</td>\n",
              "      <td>347469.000000</td>\n",
              "      <td>347469.000000</td>\n",
              "      <td>347469.000000</td>\n",
              "      <td>347469.000000</td>\n",
              "      <td>347469.000000</td>\n",
              "      <td>260601.000000</td>\n",
              "      <td>347469.000000</td>\n",
              "      <td>347469.000</td>\n",
              "      <td>347469.000000</td>\n",
              "      <td>347469.000000</td>\n",
              "      <td>347469.000000</td>\n",
              "      <td>347469.000000</td>\n",
              "    </tr>\n",
              "    <tr>\n",
              "      <th>mean</th>\n",
              "      <td>5.259136e+05</td>\n",
              "      <td>13.897315</td>\n",
              "      <td>701.838052</td>\n",
              "      <td>6258.846760</td>\n",
              "      <td>2.130579</td>\n",
              "      <td>26.538814</td>\n",
              "      <td>8.017014</td>\n",
              "      <td>5.434799</td>\n",
              "      <td>2.117731</td>\n",
              "      <td>0.491638</td>\n",
              "      <td>1.228792</td>\n",
              "      <td>2.054287</td>\n",
              "      <td>2.216431</td>\n",
              "      <td>0.088972</td>\n",
              "      <td>0.762077</td>\n",
              "      <td>0.034366</td>\n",
              "      <td>0.018318</td>\n",
              "      <td>0.067980</td>\n",
              "      <td>0.074910</td>\n",
              "      <td>0.254624</td>\n",
              "      <td>0.084678</td>\n",
              "      <td>0.042568</td>\n",
              "      <td>0.015843</td>\n",
              "      <td>0.015040</td>\n",
              "      <td>1.962400</td>\n",
              "      <td>0.983740</td>\n",
              "      <td>0.111777</td>\n",
              "      <td>0.064308</td>\n",
              "      <td>0.033686</td>\n",
              "      <td>0.008136</td>\n",
              "      <td>0.000958</td>\n",
              "      <td>0.000363</td>\n",
              "      <td>0.001053</td>\n",
              "      <td>0.000167</td>\n",
              "      <td>0.000138</td>\n",
              "      <td>0.000078</td>\n",
              "      <td>0.005065</td>\n",
              "      <td>2.238272</td>\n",
              "      <td>0.136452</td>\n",
              "      <td>0.032</td>\n",
              "      <td>0.831548</td>\n",
              "      <td>0.702149</td>\n",
              "      <td>0.235719</td>\n",
              "      <td>0.062132</td>\n",
              "    </tr>\n",
              "    <tr>\n",
              "      <th>std</th>\n",
              "      <td>3.043545e+05</td>\n",
              "      <td>8.032597</td>\n",
              "      <td>412.875674</td>\n",
              "      <td>3646.950564</td>\n",
              "      <td>0.727761</td>\n",
              "      <td>73.527749</td>\n",
              "      <td>4.388646</td>\n",
              "      <td>1.915555</td>\n",
              "      <td>0.578523</td>\n",
              "      <td>1.027676</td>\n",
              "      <td>0.903132</td>\n",
              "      <td>0.611485</td>\n",
              "      <td>1.121721</td>\n",
              "      <td>0.284704</td>\n",
              "      <td>0.425813</td>\n",
              "      <td>0.182167</td>\n",
              "      <td>0.134100</td>\n",
              "      <td>0.251712</td>\n",
              "      <td>0.263247</td>\n",
              "      <td>0.435650</td>\n",
              "      <td>0.278402</td>\n",
              "      <td>0.201881</td>\n",
              "      <td>0.124869</td>\n",
              "      <td>0.121713</td>\n",
              "      <td>0.314031</td>\n",
              "      <td>0.419385</td>\n",
              "      <td>0.315092</td>\n",
              "      <td>0.245301</td>\n",
              "      <td>0.180421</td>\n",
              "      <td>0.089832</td>\n",
              "      <td>0.030943</td>\n",
              "      <td>0.019039</td>\n",
              "      <td>0.032438</td>\n",
              "      <td>0.012919</td>\n",
              "      <td>0.011753</td>\n",
              "      <td>0.008815</td>\n",
              "      <td>0.070990</td>\n",
              "      <td>0.611814</td>\n",
              "      <td>0.343269</td>\n",
              "      <td>0.176</td>\n",
              "      <td>0.374268</td>\n",
              "      <td>0.457314</td>\n",
              "      <td>0.424448</td>\n",
              "      <td>0.241396</td>\n",
              "    </tr>\n",
              "    <tr>\n",
              "      <th>min</th>\n",
              "      <td>4.000000e+00</td>\n",
              "      <td>0.000000</td>\n",
              "      <td>0.000000</td>\n",
              "      <td>0.000000</td>\n",
              "      <td>1.000000</td>\n",
              "      <td>0.000000</td>\n",
              "      <td>1.000000</td>\n",
              "      <td>2.000000</td>\n",
              "      <td>0.000000</td>\n",
              "      <td>0.000000</td>\n",
              "      <td>0.000000</td>\n",
              "      <td>0.000000</td>\n",
              "      <td>0.000000</td>\n",
              "      <td>0.000000</td>\n",
              "      <td>0.000000</td>\n",
              "      <td>0.000000</td>\n",
              "      <td>0.000000</td>\n",
              "      <td>0.000000</td>\n",
              "      <td>0.000000</td>\n",
              "      <td>0.000000</td>\n",
              "      <td>0.000000</td>\n",
              "      <td>0.000000</td>\n",
              "      <td>0.000000</td>\n",
              "      <td>0.000000</td>\n",
              "      <td>0.000000</td>\n",
              "      <td>0.000000</td>\n",
              "      <td>0.000000</td>\n",
              "      <td>0.000000</td>\n",
              "      <td>0.000000</td>\n",
              "      <td>0.000000</td>\n",
              "      <td>0.000000</td>\n",
              "      <td>0.000000</td>\n",
              "      <td>0.000000</td>\n",
              "      <td>0.000000</td>\n",
              "      <td>0.000000</td>\n",
              "      <td>0.000000</td>\n",
              "      <td>0.000000</td>\n",
              "      <td>1.000000</td>\n",
              "      <td>0.000000</td>\n",
              "      <td>0.000</td>\n",
              "      <td>0.000000</td>\n",
              "      <td>0.000000</td>\n",
              "      <td>0.000000</td>\n",
              "      <td>0.000000</td>\n",
              "    </tr>\n",
              "    <tr>\n",
              "      <th>25%</th>\n",
              "      <td>2.619990e+05</td>\n",
              "      <td>7.000000</td>\n",
              "      <td>350.000000</td>\n",
              "      <td>3073.000000</td>\n",
              "      <td>2.000000</td>\n",
              "      <td>10.000000</td>\n",
              "      <td>5.000000</td>\n",
              "      <td>4.000000</td>\n",
              "      <td>2.000000</td>\n",
              "      <td>0.000000</td>\n",
              "      <td>1.000000</td>\n",
              "      <td>2.000000</td>\n",
              "      <td>2.000000</td>\n",
              "      <td>0.000000</td>\n",
              "      <td>1.000000</td>\n",
              "      <td>0.000000</td>\n",
              "      <td>0.000000</td>\n",
              "      <td>0.000000</td>\n",
              "      <td>0.000000</td>\n",
              "      <td>0.000000</td>\n",
              "      <td>0.000000</td>\n",
              "      <td>0.000000</td>\n",
              "      <td>0.000000</td>\n",
              "      <td>0.000000</td>\n",
              "      <td>2.000000</td>\n",
              "      <td>1.000000</td>\n",
              "      <td>0.000000</td>\n",
              "      <td>0.000000</td>\n",
              "      <td>0.000000</td>\n",
              "      <td>0.000000</td>\n",
              "      <td>0.000000</td>\n",
              "      <td>0.000000</td>\n",
              "      <td>0.000000</td>\n",
              "      <td>0.000000</td>\n",
              "      <td>0.000000</td>\n",
              "      <td>0.000000</td>\n",
              "      <td>0.000000</td>\n",
              "      <td>2.000000</td>\n",
              "      <td>0.000000</td>\n",
              "      <td>0.000</td>\n",
              "      <td>1.000000</td>\n",
              "      <td>0.000000</td>\n",
              "      <td>0.000000</td>\n",
              "      <td>0.000000</td>\n",
              "    </tr>\n",
              "    <tr>\n",
              "      <th>50%</th>\n",
              "      <td>5.260710e+05</td>\n",
              "      <td>12.000000</td>\n",
              "      <td>706.000000</td>\n",
              "      <td>6271.000000</td>\n",
              "      <td>2.000000</td>\n",
              "      <td>15.000000</td>\n",
              "      <td>7.000000</td>\n",
              "      <td>5.000000</td>\n",
              "      <td>2.000000</td>\n",
              "      <td>0.000000</td>\n",
              "      <td>1.000000</td>\n",
              "      <td>2.000000</td>\n",
              "      <td>2.000000</td>\n",
              "      <td>0.000000</td>\n",
              "      <td>1.000000</td>\n",
              "      <td>0.000000</td>\n",
              "      <td>0.000000</td>\n",
              "      <td>0.000000</td>\n",
              "      <td>0.000000</td>\n",
              "      <td>0.000000</td>\n",
              "      <td>0.000000</td>\n",
              "      <td>0.000000</td>\n",
              "      <td>0.000000</td>\n",
              "      <td>0.000000</td>\n",
              "      <td>2.000000</td>\n",
              "      <td>1.000000</td>\n",
              "      <td>0.000000</td>\n",
              "      <td>0.000000</td>\n",
              "      <td>0.000000</td>\n",
              "      <td>0.000000</td>\n",
              "      <td>0.000000</td>\n",
              "      <td>0.000000</td>\n",
              "      <td>0.000000</td>\n",
              "      <td>0.000000</td>\n",
              "      <td>0.000000</td>\n",
              "      <td>0.000000</td>\n",
              "      <td>0.000000</td>\n",
              "      <td>2.000000</td>\n",
              "      <td>0.000000</td>\n",
              "      <td>0.000</td>\n",
              "      <td>1.000000</td>\n",
              "      <td>1.000000</td>\n",
              "      <td>0.000000</td>\n",
              "      <td>0.000000</td>\n",
              "    </tr>\n",
              "    <tr>\n",
              "      <th>75%</th>\n",
              "      <td>7.895880e+05</td>\n",
              "      <td>21.000000</td>\n",
              "      <td>1050.000000</td>\n",
              "      <td>9414.000000</td>\n",
              "      <td>2.000000</td>\n",
              "      <td>30.000000</td>\n",
              "      <td>9.000000</td>\n",
              "      <td>6.000000</td>\n",
              "      <td>2.000000</td>\n",
              "      <td>0.000000</td>\n",
              "      <td>1.000000</td>\n",
              "      <td>2.000000</td>\n",
              "      <td>2.000000</td>\n",
              "      <td>0.000000</td>\n",
              "      <td>1.000000</td>\n",
              "      <td>0.000000</td>\n",
              "      <td>0.000000</td>\n",
              "      <td>0.000000</td>\n",
              "      <td>0.000000</td>\n",
              "      <td>1.000000</td>\n",
              "      <td>0.000000</td>\n",
              "      <td>0.000000</td>\n",
              "      <td>0.000000</td>\n",
              "      <td>0.000000</td>\n",
              "      <td>2.000000</td>\n",
              "      <td>1.000000</td>\n",
              "      <td>0.000000</td>\n",
              "      <td>0.000000</td>\n",
              "      <td>0.000000</td>\n",
              "      <td>0.000000</td>\n",
              "      <td>0.000000</td>\n",
              "      <td>0.000000</td>\n",
              "      <td>0.000000</td>\n",
              "      <td>0.000000</td>\n",
              "      <td>0.000000</td>\n",
              "      <td>0.000000</td>\n",
              "      <td>0.000000</td>\n",
              "      <td>3.000000</td>\n",
              "      <td>0.000000</td>\n",
              "      <td>0.000</td>\n",
              "      <td>1.000000</td>\n",
              "      <td>1.000000</td>\n",
              "      <td>0.000000</td>\n",
              "      <td>0.000000</td>\n",
              "    </tr>\n",
              "    <tr>\n",
              "      <th>max</th>\n",
              "      <td>1.052934e+06</td>\n",
              "      <td>30.000000</td>\n",
              "      <td>1427.000000</td>\n",
              "      <td>12567.000000</td>\n",
              "      <td>9.000000</td>\n",
              "      <td>995.000000</td>\n",
              "      <td>100.000000</td>\n",
              "      <td>32.000000</td>\n",
              "      <td>4.000000</td>\n",
              "      <td>4.000000</td>\n",
              "      <td>3.000000</td>\n",
              "      <td>3.000000</td>\n",
              "      <td>9.000000</td>\n",
              "      <td>1.000000</td>\n",
              "      <td>1.000000</td>\n",
              "      <td>1.000000</td>\n",
              "      <td>1.000000</td>\n",
              "      <td>1.000000</td>\n",
              "      <td>1.000000</td>\n",
              "      <td>1.000000</td>\n",
              "      <td>1.000000</td>\n",
              "      <td>1.000000</td>\n",
              "      <td>1.000000</td>\n",
              "      <td>1.000000</td>\n",
              "      <td>3.000000</td>\n",
              "      <td>9.000000</td>\n",
              "      <td>1.000000</td>\n",
              "      <td>1.000000</td>\n",
              "      <td>1.000000</td>\n",
              "      <td>1.000000</td>\n",
              "      <td>1.000000</td>\n",
              "      <td>1.000000</td>\n",
              "      <td>1.000000</td>\n",
              "      <td>1.000000</td>\n",
              "      <td>1.000000</td>\n",
              "      <td>1.000000</td>\n",
              "      <td>1.000000</td>\n",
              "      <td>3.000000</td>\n",
              "      <td>1.000000</td>\n",
              "      <td>1.000</td>\n",
              "      <td>1.000000</td>\n",
              "      <td>1.000000</td>\n",
              "      <td>1.000000</td>\n",
              "      <td>1.000000</td>\n",
              "    </tr>\n",
              "  </tbody>\n",
              "</table>\n",
              "</div>"
            ],
            "text/plain": [
              "        building_id  geo_level_1_id  ...    roof_type_q    roof_type_x\n",
              "count  3.474690e+05   347469.000000  ...  347469.000000  347469.000000\n",
              "mean   5.259136e+05       13.897315  ...       0.235719       0.062132\n",
              "std    3.043545e+05        8.032597  ...       0.424448       0.241396\n",
              "min    4.000000e+00        0.000000  ...       0.000000       0.000000\n",
              "25%    2.619990e+05        7.000000  ...       0.000000       0.000000\n",
              "50%    5.260710e+05       12.000000  ...       0.000000       0.000000\n",
              "75%    7.895880e+05       21.000000  ...       0.000000       0.000000\n",
              "max    1.052934e+06       30.000000  ...       1.000000       1.000000\n",
              "\n",
              "[8 rows x 44 columns]"
            ]
          },
          "metadata": {
            "tags": []
          },
          "execution_count": 32
        }
      ]
    },
    {
      "cell_type": "markdown",
      "metadata": {
        "id": "CEWrscpx6bcP"
      },
      "source": [
        "# Predict Damage"
      ]
    },
    {
      "cell_type": "markdown",
      "metadata": {
        "id": "iNebAH3AHrHm"
      },
      "source": [
        "First, the prepare data"
      ]
    },
    {
      "cell_type": "code",
      "metadata": {
        "colab": {
          "base_uri": "https://localhost:8080/"
        },
        "id": "8D8tiFqm6bcP",
        "outputId": "cfbaee2c-ac3b-4a44-f5ad-185d3f69dc73"
      },
      "source": [
        "# unmerge and seperate training and testing data \n",
        "new_train_values = df.iloc[:260601,]  # first 260601 rows\n",
        "new_test_values = df.iloc[260601:,]   # rest of rows\n",
        "\n",
        "new_test_values = new_test_values.drop('damage_grade', axis=1)\n",
        "\n",
        "print('train_values shape:', new_train_values.shape)\n",
        "print('test _values shape:', new_test_values.shape)"
      ],
      "execution_count": null,
      "outputs": [
        {
          "output_type": "stream",
          "text": [
            "train values shape: (260601, 44)\n",
            "test values shape: (86868, 43)\n"
          ],
          "name": "stdout"
        }
      ]
    },
    {
      "cell_type": "markdown",
      "metadata": {
        "id": "cB4fZWZY6bcU"
      },
      "source": [
        "<a name=\"gbi\"></a>\n",
        "## Gradient Boosting Classifier"
      ]
    },
    {
      "cell_type": "code",
      "metadata": {
        "colab": {
          "base_uri": "https://localhost:8080/"
        },
        "id": "9chaT_ZN7ijX",
        "outputId": "fb5151b9-7c80-4acc-c1ba-0856f5313581"
      },
      "source": [
        "# split data to training and testing sets \n",
        "x=new_train_values.drop('damage_grade', axis=1)\n",
        "y=new_train_values['damage_grade']\n",
        "\n",
        "X_train, X_test, y_train, y_test = train_test_split(x, y, test_size=0.30, random_state=43) # 70:30 split\n",
        "\n",
        "print('X_train :', X_train.shape)\n",
        "print('X_test :', X_test.shape)\n",
        "print('y_train :', y_train.shape)\n",
        "print('y_test :', y_test.shape)"
      ],
      "execution_count": null,
      "outputs": [
        {
          "output_type": "stream",
          "text": [
            "X_train : (182420, 43)\n",
            "X_test : (78181, 43)\n",
            "y_train : (182420,)\n",
            "y_test : (78181,)\n"
          ],
          "name": "stdout"
        }
      ]
    },
    {
      "cell_type": "markdown",
      "metadata": {
        "id": "Whr5Qay217MY"
      },
      "source": [
        "<a name='outliers'></a>\n",
        "Detect and remove outliers from training set"
      ]
    },
    {
      "cell_type": "code",
      "metadata": {
        "colab": {
          "base_uri": "https://localhost:8080/"
        },
        "id": "Avs9FTMMncAP",
        "outputId": "5fe1d594-5162-418c-f679-a2dd6eeb614a"
      },
      "source": [
        "# print shape of training dataset before removal\n",
        "print(\"before outlier removal: \", X_train.shape, y_train.shape)\n",
        "\n",
        "# detect outliers using isloation forset\n",
        "iso = IsolationForest(contamination=0.1)\n",
        "yhat = iso.fit_predict(X_train)\n",
        "\n",
        "# select only rows that are not outliers\n",
        "mask = yhat != -1\n",
        "X_train, y_train = X_train.loc[mask, :], y_train.loc[mask]\n",
        "\n",
        "# print shape of training dataset after removal\n",
        "print(\"before outlier removal: \", X_train.shape, y_train.shape)"
      ],
      "execution_count": null,
      "outputs": [
        {
          "output_type": "stream",
          "text": [
            "before outlier removal:  (182420, 43) (182420,)\n",
            "before outlier removal:  (164178, 43) (164178,)\n"
          ],
          "name": "stdout"
        }
      ]
    },
    {
      "cell_type": "markdown",
      "metadata": {
        "id": "WFlo7CO3-Tms"
      },
      "source": [
        "18242 rows containing outlier values were detected and removed."
      ]
    },
    {
      "cell_type": "code",
      "metadata": {
        "id": "0OG-kz3e7igS"
      },
      "source": [
        "# create model object and set patrameters\n",
        "GBI = GradientBoostingClassifier(\n",
        "                                learning_rate=0.01, \n",
        "                                max_depth=4,\n",
        "                                n_estimators = 500,\n",
        "                                max_features= \"sqrt\",\n",
        "                                #random_state=42,\n",
        "                                verbose = 1\n",
        "                                )"
      ],
      "execution_count": null,
      "outputs": []
    },
    {
      "cell_type": "markdown",
      "metadata": {
        "id": "q_NTv3AcZuei"
      },
      "source": [
        "Parameter description:\n",
        "- learning_rate : shrinks the contribution of each tree by learning_rate. There is a trade-off between learning_rate and n_estimators.\n",
        "\n",
        "- max_depth :  limits the number of nodes in the tree. Tune this parameter for best performance; the best value depends on the interaction of the input variables.\n",
        "\n",
        "- n_estimators : The number of boosting stages to perform. Gradient boosting is fairly robust to over-fitting so a large number usually results in better performance.\n",
        "\n",
        "- min_samples_split : The minimum number of samples required to split an internal node.\n",
        "\n",
        "- max_features : The number of features to consider when looking for the best split\n",
        "\n",
        "- verbose:  If 1 then it prints progress and performance once in a while (the more trees the lower the frequency)."
      ]
    },
    {
      "cell_type": "code",
      "metadata": {
        "colab": {
          "base_uri": "https://localhost:8080/"
        },
        "id": "Vx3TGKCp6bcV",
        "outputId": "5d842a28-87e3-4a6b-fd55-7e35acf358e2"
      },
      "source": [
        "# fit the model with training values and labels\n",
        "GBI.fit(X_train, y_train)"
      ],
      "execution_count": null,
      "outputs": [
        {
          "output_type": "stream",
          "text": [
            "      Iter       Train Loss   Remaining Time \n",
            "         1      145702.0144            3.58m\n",
            "         2      145508.3226            3.62m\n",
            "         3      145277.5440            3.43m\n",
            "         4      145034.6578            3.53m\n",
            "         5      144864.2575            3.40m\n",
            "         6      144637.5963            3.42m\n",
            "         7      144443.5610            3.46m\n",
            "         8      144260.1933            3.49m\n",
            "         9      144077.8451            3.40m\n",
            "        10      143814.9748            3.36m\n",
            "        20      142008.3859            3.20m\n",
            "        30      140434.8512            3.14m\n",
            "        40      139004.8794            3.10m\n",
            "        50      137870.5350            3.05m\n",
            "        60      136717.3739            2.95m\n",
            "        70      135784.1802            2.87m\n",
            "        80      134855.8665            2.82m\n",
            "        90      133966.8445            2.74m\n",
            "       100      133084.2038            2.68m\n",
            "       200      127753.5739            2.02m\n",
            "       300      124470.5168            1.36m\n",
            "       400      122380.6256           40.49s\n",
            "       500      120740.5135            0.00s\n"
          ],
          "name": "stdout"
        },
        {
          "output_type": "execute_result",
          "data": {
            "text/plain": [
              "GradientBoostingClassifier(ccp_alpha=0.0, criterion='friedman_mse', init=None,\n",
              "                           learning_rate=0.01, loss='deviance', max_depth=4,\n",
              "                           max_features='sqrt', max_leaf_nodes=None,\n",
              "                           min_impurity_decrease=0.0, min_impurity_split=None,\n",
              "                           min_samples_leaf=1, min_samples_split=2,\n",
              "                           min_weight_fraction_leaf=0.0, n_estimators=500,\n",
              "                           n_iter_no_change=None, presort='deprecated',\n",
              "                           random_state=None, subsample=1.0, tol=0.0001,\n",
              "                           validation_fraction=0.1, verbose=1,\n",
              "                           warm_start=False)"
            ]
          },
          "metadata": {
            "tags": []
          },
          "execution_count": 43
        }
      ]
    },
    {
      "cell_type": "code",
      "metadata": {
        "id": "_OcVNza57idj"
      },
      "source": [
        "# predict using test dataset\n",
        "predictions = GBI.predict(X_test)"
      ],
      "execution_count": null,
      "outputs": []
    },
    {
      "cell_type": "code",
      "metadata": {
        "id": "5X3TVeaS7iZw"
      },
      "source": [
        "# function to print summary of model performance\n",
        "def prediction_result(matrix):\n",
        "\n",
        "    TP = matrix[0][0] # true positive\n",
        "    FP = matrix[0][1] # false positive\n",
        "    FN = matrix[1][0] # false nagative\n",
        "    TN = matrix[1][1] # true negative\n",
        "\n",
        "    print(\"Accuracy: __ %1.3f\" % ((TP+TN)/(TP+FP+FN+TN)))\n",
        "    print(\"Sensitivity: %1.3f\" % (TP/(TP+FN)))\n",
        "    print(\"Specificity: %1.3f\" % (TN/(FP+TN)))\n",
        "    print(\"F1-Score: __ %1.3f\" % ((2*TP)/(2*TP+FP+FN)))\n",
        "\n",
        "    print(\"Confusion matrix:\\n\", matrix)"
      ],
      "execution_count": null,
      "outputs": []
    },
    {
      "cell_type": "code",
      "metadata": {
        "colab": {
          "base_uri": "https://localhost:8080/"
        },
        "id": "_f8WtLMT7iWg",
        "outputId": "6ef5163b-7371-4a74-b780-dfe8843026fd"
      },
      "source": [
        "# print summary result of prediction\n",
        "prediction_result(confusion_matrix(y_test, predictions))"
      ],
      "execution_count": null,
      "outputs": [
        {
          "output_type": "stream",
          "text": [
            "Accuracy: __ 0.870\n",
            "Sensitivity: 0.634\n",
            "Specificity: 0.891\n",
            "F1-Score: __ 0.441\n",
            "Confusion matrix:\n",
            " [[ 2522  4937    44]\n",
            " [ 1459 40170  2874]\n",
            " [   99 17159  8917]]\n"
          ],
          "name": "stdout"
        }
      ]
    },
    {
      "cell_type": "markdown",
      "metadata": {
        "id": "5WDU5j4mi5yO"
      },
      "source": [
        "<a name='feat_imp'></a>\n",
        "## Feature Selection"
      ]
    },
    {
      "cell_type": "markdown",
      "metadata": {
        "id": "iAek8eiH_kdI"
      },
      "source": [
        "Feature Importances reveals how relevant each feature is when making a split in the model."
      ]
    },
    {
      "cell_type": "code",
      "metadata": {
        "colab": {
          "base_uri": "https://localhost:8080/",
          "height": 1000
        },
        "id": "uVpUFYS6gQXE",
        "outputId": "59e959e3-8bb7-495d-f529-4fbbc50a4213"
      },
      "source": [
        "# plot feature importance\n",
        "feature_importance = GBI.feature_importances_\n",
        "\n",
        "# make importances relative to max importance\n",
        "feature_importance = 100.0 * (feature_importance / feature_importance.max())\n",
        "sorted_idx = np.argsort(feature_importance)\n",
        "pos = np.arange(sorted_idx.shape[0]) + .5\n",
        "\n",
        "# plot\n",
        "plt.figure(figsize=(8, 18))\n",
        "plt.barh(pos, feature_importance[sorted_idx], align='center')\n",
        "plt.yticks(pos, X_train.keys()[sorted_idx])\n",
        "plt.xlabel('Relative Importance')\n",
        "plt.title('Variable Importance')\n",
        "plt.show()"
      ],
      "execution_count": null,
      "outputs": [
        {
          "output_type": "display_data",
          "data": {
            "image/png": "[encoded data removed]",
            "text/plain": [
              "<Figure size 576x1296 with 1 Axes>"
            ]
          },
          "metadata": {
            "tags": []
          }
        }
      ]
    },
    {
      "cell_type": "code",
      "metadata": {
        "id": "v4XLx7PzjDlO"
      },
      "source": [
        "# select top 26 features (arbitrary choice from looking at the graph above)\n",
        "#list(df)\n",
        "top_features = ['geo_level_1_id', 'foundation_type', 'has_superstructure_mud_mortar_stone', 'roof_type_x',\n",
        "                'has_superstructure_cement_mortar_brick', 'age', 'count_floors_pre_eq', 'ground_floor_type',\n",
        "                'geo_level_2_id', 'other_floor_type', 'has_superstructure_adobe_mud', 'has_superstructure_rc_engineered',\n",
        "                'has_superstructure_timber', 'has_superstructure_mud_mortar_brick', 'area_percentage',\n",
        "                'has_superstructure_stone_flag', 'position', 'height_percentage', 'has_superstructure_bamboo',\n",
        "                'has_superstructure_rc_non_engineered', 'geo_level_3_id', 'has_secondary_use', 'roof_type_q',\n",
        "                'roof_type_n', 'count_families', 'has_superstructure_cement_mortar_stone']"
      ],
      "execution_count": null,
      "outputs": []
    },
    {
      "cell_type": "code",
      "metadata": {
        "colab": {
          "base_uri": "https://localhost:8080/"
        },
        "id": "nE9JABF_jDgR",
        "outputId": "f5840401-fc05-4545-e4ed-372c9ca45ce5"
      },
      "source": [
        "# split data to training and testing datasets, but this time only using the top features\n",
        "X_fs = new_train_values[top_features]\n",
        "y_fs = new_train_values['damage_grade']\n",
        "\n",
        "X_train_fs, X_test_fs, y_train_fs, y_test_fs = train_test_split(X_fs, y_fs, test_size=0.30, random_state=43)\n",
        "\n",
        "print('X_train_fs :', X_train_fs.shape)\n",
        "print('X_test_fs :', X_test_fs.shape)\n",
        "print('y_train_fs :', y_train_fs.shape)\n",
        "print('y_test_fs :', y_test_fs.shape)"
      ],
      "execution_count": null,
      "outputs": [
        {
          "output_type": "stream",
          "text": [
            "X_train_fs : (182420, 26)\n",
            "X_test_fs : (78181, 26)\n",
            "y_train_fs : (182420,)\n",
            "y_test_fs : (78181,)\n"
          ],
          "name": "stdout"
        }
      ]
    },
    {
      "cell_type": "code",
      "metadata": {
        "colab": {
          "base_uri": "https://localhost:8080/"
        },
        "id": "VrAcQMFlneEf",
        "outputId": "e81b158b-4d6f-4ef4-ac5a-7bd783b05d8d"
      },
      "source": [
        "# fit model using the new datasets\n",
        "GBI.fit(X_train_fs, y_train_fs)"
      ],
      "execution_count": null,
      "outputs": [
        {
          "output_type": "stream",
          "text": [
            "      Iter       Train Loss   Remaining Time \n",
            "         1      166227.8859            3.69m\n",
            "         2      165890.3210            3.59m\n",
            "         3      165541.7095            3.59m\n",
            "         4      165230.0663            3.57m\n",
            "         5      164934.8853            3.53m\n",
            "         6      164644.3313            3.55m\n",
            "         7      164357.9005            3.51m\n",
            "         8      164030.6153            3.48m\n",
            "         9      163738.3523            3.52m\n",
            "        10      163491.1062            3.51m\n",
            "        20      160825.1522            3.40m\n",
            "        30      158623.9929            3.34m\n",
            "        40      156517.0949            3.25m\n",
            "        50      154817.1140            3.18m\n",
            "        60      153206.4145            3.12m\n",
            "        70      151673.8277            3.06m\n",
            "        80      150464.0335            2.98m\n",
            "        90      149149.6696            2.92m\n",
            "       100      148078.3875            2.84m\n",
            "       200      140556.6823            2.13m\n",
            "       300      136744.1747            1.42m\n",
            "       400      134134.6956           42.77s\n",
            "       500      132262.4779            0.00s\n"
          ],
          "name": "stdout"
        },
        {
          "output_type": "execute_result",
          "data": {
            "text/plain": [
              "GradientBoostingClassifier(ccp_alpha=0.0, criterion='friedman_mse', init=None,\n",
              "                           learning_rate=0.01, loss='deviance', max_depth=4,\n",
              "                           max_features='sqrt', max_leaf_nodes=None,\n",
              "                           min_impurity_decrease=0.0, min_impurity_split=None,\n",
              "                           min_samples_leaf=1, min_samples_split=2,\n",
              "                           min_weight_fraction_leaf=0.0, n_estimators=500,\n",
              "                           n_iter_no_change=None, presort='deprecated',\n",
              "                           random_state=None, subsample=1.0, tol=0.0001,\n",
              "                           validation_fraction=0.1, verbose=1,\n",
              "                           warm_start=False)"
            ]
          },
          "metadata": {
            "tags": []
          },
          "execution_count": 52
        }
      ]
    },
    {
      "cell_type": "code",
      "metadata": {
        "id": "7v7tAAigjDWA"
      },
      "source": [
        "# predict using the new dataset\n",
        "predictions_fs = GBI.predict(X_test_fs)"
      ],
      "execution_count": null,
      "outputs": []
    },
    {
      "cell_type": "code",
      "metadata": {
        "colab": {
          "base_uri": "https://localhost:8080/"
        },
        "id": "zW-G5H9epBi-",
        "outputId": "6b6fb3bf-1a1e-4f63-bd93-39b580f966af"
      },
      "source": [
        "# print results \n",
        "prediction_result(confusion_matrix(y_test_fs, predictions_fs))"
      ],
      "execution_count": null,
      "outputs": [
        {
          "output_type": "stream",
          "text": [
            "Accuracy: __ 0.872\n",
            "Sensitivity: 0.646\n",
            "Specificity: 0.892\n",
            "F1-Score: __ 0.449\n",
            "Confusion matrix:\n",
            " [[ 2571  4889    43]\n",
            " [ 1410 40355  2738]\n",
            " [   84 17309  8782]]\n"
          ],
          "name": "stdout"
        }
      ]
    },
    {
      "cell_type": "markdown",
      "metadata": {
        "id": "iKBuw9KSlRXS"
      },
      "source": [
        "<a name=\"SMOTE\"></a>\n",
        "## Perform SMOTE"
      ]
    },
    {
      "cell_type": "markdown",
      "metadata": {
        "id": "P--Ko7qU6bcY"
      },
      "source": [
        "As mentioned [earlier](#imbalance), the data suffers from imbalance. This will be dealt with using SMOTE."
      ]
    },
    {
      "cell_type": "code",
      "metadata": {
        "colab": {
          "base_uri": "https://localhost:8080/"
        },
        "id": "6eAEpBRp6bcZ",
        "outputId": "43846b03-377d-4c15-cc17-2cb97ef0ce7e"
      },
      "source": [
        "# print number of instances in each class and its percentage of total \n",
        "classes = df['damage_grade'].value_counts()\n",
        "tot = len(df['damage_grade'])\n",
        "\n",
        "for cl in classes:\n",
        "  print(cl, '->', round(cl/tot*100, 2), '%')"
      ],
      "execution_count": null,
      "outputs": [
        {
          "output_type": "stream",
          "text": [
            "148259 -> 42.67 %\n",
            "87218 -> 25.1 %\n",
            "25124 -> 7.23 %\n"
          ],
          "name": "stdout"
        }
      ]
    },
    {
      "cell_type": "code",
      "metadata": {
        "colab": {
          "base_uri": "https://localhost:8080/",
          "height": 401
        },
        "id": "sEiHcoc36bcZ",
        "outputId": "69cd2bb4-27e9-4bd1-eb0b-165bcc922e53"
      },
      "source": [
        "# plot this info\n",
        "sns.catplot(x='damage_grade', data=df, kind='count', palette=sns.color_palette(['green','purple', 'blue']))"
      ],
      "execution_count": null,
      "outputs": [
        {
          "output_type": "execute_result",
          "data": {
            "text/plain": [
              "<seaborn.axisgrid.FacetGrid at 0x7f2b4fe3da90>"
            ]
          },
          "metadata": {
            "tags": []
          },
          "execution_count": 58
        },
        {
          "output_type": "display_data",
          "data": {
            "image/png": "[encoded data removed]",
            "text/plain": [
              "<Figure size 360x360 with 1 Axes>"
            ]
          },
          "metadata": {
            "tags": []
          }
        }
      ]
    },
    {
      "cell_type": "code",
      "metadata": {
        "colab": {
          "base_uri": "https://localhost:8080/"
        },
        "id": "cKV4v_qF6bca",
        "outputId": "6bd92450-4162-468f-c72d-0dc089a72186"
      },
      "source": [
        "# use same dataset used for feature selection, but split it again because.. fun\n",
        "X_fs_sm = X_fs\n",
        "y_fs_sm = y_fs\n",
        "\n",
        "X_train_fs_sm, X_test_fs_sm, y_train_fs_sm, y_test_fs_sm = train_test_split(X_fs_sm, y_fs_sm, test_size=0.30, random_state=43)\n",
        "\n",
        "print('X_train :', X_train_fs_sm.shape)\n",
        "print('X_test :', X_test_fs_sm.shape)\n",
        "print('y_train :', y_train_fs_sm.shape)\n",
        "print('y_test :', y_test_fs_sm.shape)"
      ],
      "execution_count": null,
      "outputs": [
        {
          "output_type": "stream",
          "text": [
            "X_train : (182420, 26)\n",
            "X_test : (78181, 26)\n",
            "y_train : (182420,)\n",
            "y_test : (78181,)\n"
          ],
          "name": "stdout"
        }
      ]
    },
    {
      "cell_type": "code",
      "metadata": {
        "id": "I5LKjCH66bca"
      },
      "source": [
        "# create SMOTE object\n",
        "sm = SMOTE()"
      ],
      "execution_count": null,
      "outputs": []
    },
    {
      "cell_type": "code",
      "metadata": {
        "colab": {
          "base_uri": "https://localhost:8080/"
        },
        "id": "eefGOVz43qk4",
        "outputId": "e7ccc416-0866-480c-b516-ada5ee320575"
      },
      "source": [
        "# fit sample using the new data\n",
        "X_smoted, y_smoted = sm.fit_sample(X_train_fs_sm, y_train_fs_sm)"
      ],
      "execution_count": null,
      "outputs": [
        {
          "output_type": "stream",
          "text": [
            "/usr/local/lib/python3.6/dist-packages/sklearn/utils/deprecation.py:87: FutureWarning: Function safe_indexing is deprecated; safe_indexing is deprecated in version 0.22 and will be removed in version 0.24.\n",
            "  warnings.warn(msg, category=FutureWarning)\n",
            "/usr/local/lib/python3.6/dist-packages/sklearn/utils/deprecation.py:87: FutureWarning: Function safe_indexing is deprecated; safe_indexing is deprecated in version 0.22 and will be removed in version 0.24.\n",
            "  warnings.warn(msg, category=FutureWarning)\n"
          ],
          "name": "stderr"
        }
      ]
    },
    {
      "cell_type": "code",
      "metadata": {
        "colab": {
          "base_uri": "https://localhost:8080/",
          "height": 401
        },
        "id": "P4vGCnU8HCv7",
        "outputId": "046ba0ff-4d3f-447d-857c-6727bbf1a019"
      },
      "source": [
        "# plot class counts after having performed SMOTE\n",
        "temp_df = pd.DataFrame(X_smoted)\n",
        "temp_df['damage_grade'] = y_smoted\n",
        "sns.catplot(x='damage_grade', data=temp_df, kind='count', palette=sns.color_palette(['green','purple', 'blue']))"
      ],
      "execution_count": null,
      "outputs": [
        {
          "output_type": "execute_result",
          "data": {
            "text/plain": [
              "<seaborn.axisgrid.FacetGrid at 0x7f2b4f742ef0>"
            ]
          },
          "metadata": {
            "tags": []
          },
          "execution_count": 68
        },
        {
          "output_type": "display_data",
          "data": {
            "image/png": "[encoded data removed]",
            "text/plain": [
              "<Figure size 360x360 with 1 Axes>"
            ]
          },
          "metadata": {
            "tags": []
          }
        }
      ]
    },
    {
      "cell_type": "markdown",
      "metadata": {
        "id": "MOzpXDieD72J"
      },
      "source": [
        "SMOTE has synthesized new instances of classes 1 and 3 to match the number of instances of class 2."
      ]
    },
    {
      "cell_type": "code",
      "metadata": {
        "colab": {
          "background_save": true,
          "base_uri": "https://localhost:8080/"
        },
        "id": "XwN8_JQP6bca",
        "outputId": "cbe11445-8eb4-4584-e376-cb229dcdf1f1"
      },
      "source": [
        "# fit\n",
        "GBI.fit(X_smoted, y_smoted)"
      ],
      "execution_count": null,
      "outputs": [
        {
          "output_type": "stream",
          "text": [
            "      Iter       Train Loss   Remaining Time \n",
            "         1      340561.0863           11.10m\n",
            "         2      339316.6023           10.45m\n",
            "         3      337888.4734           10.41m\n",
            "         4      336468.1635           10.57m\n",
            "         5      335248.4508           10.60m\n",
            "         6      333819.4777           10.62m\n",
            "         7      332609.7212           10.57m\n",
            "         8      331265.7062           10.66m\n",
            "         9      329995.4791           10.67m\n",
            "        10      328786.5757           10.66m\n",
            "        20      317436.9644           10.33m\n",
            "        30      307462.3948           10.01m\n",
            "        40      299391.3270            9.76m\n",
            "        50      291920.6512            9.55m\n",
            "        60      285405.2133            9.32m\n",
            "        70      279566.6668            9.14m\n",
            "        80      274075.9106            8.95m\n",
            "        90      269385.8343            8.76m\n",
            "       100      265045.7509            8.56m\n",
            "       200      236614.1886            6.36m\n",
            "       300      221717.9381            4.22m\n",
            "       400      211676.6333            2.10m\n",
            "       500      204358.1362            0.00s\n"
          ],
          "name": "stdout"
        },
        {
          "output_type": "execute_result",
          "data": {
            "text/plain": [
              "GradientBoostingClassifier(ccp_alpha=0.0, criterion='friedman_mse', init=None,\n",
              "                           learning_rate=0.01, loss='deviance', max_depth=4,\n",
              "                           max_features='sqrt', max_leaf_nodes=None,\n",
              "                           min_impurity_decrease=0.0, min_impurity_split=None,\n",
              "                           min_samples_leaf=1, min_samples_split=2,\n",
              "                           min_weight_fraction_leaf=0.0, n_estimators=500,\n",
              "                           n_iter_no_change=None, presort='deprecated',\n",
              "                           random_state=None, subsample=1.0, tol=0.0001,\n",
              "                           validation_fraction=0.1, verbose=1,\n",
              "                           warm_start=False)"
            ]
          },
          "metadata": {
            "tags": []
          },
          "execution_count": 0
        }
      ]
    },
    {
      "cell_type": "code",
      "metadata": {
        "id": "l_X2SNeU6bcb"
      },
      "source": [
        "# predict\n",
        "predictions_fs_sm = GBI.predict(X_test_fs_sm)"
      ],
      "execution_count": 70,
      "outputs": []
    },
    {
      "cell_type": "code",
      "metadata": {
        "id": "gqt-4rd26bcb",
        "colab": {
          "base_uri": "https://localhost:8080/"
        },
        "outputId": "6a8fecc7-f593-46a7-d8fa-2b1c9a2155c4"
      },
      "source": [
        "# print results\n",
        "prediction_result(confusion_matrix(y_test_fs_sm, predictions_fs_sm))"
      ],
      "execution_count": 71,
      "outputs": [
        {
          "output_type": "stream",
          "text": [
            "Accuracy: __ 0.820\n",
            "Sensitivity: 0.483\n",
            "Specificity: 0.918\n",
            "F1-Score: __ 0.547\n",
            "Confusion matrix:\n",
            " [[ 4456  2614   433]\n",
            " [ 4765 29207 10531]\n",
            " [  511 10440 15224]]\n"
          ],
          "name": "stdout"
        }
      ]
    },
    {
      "cell_type": "markdown",
      "metadata": {
        "id": "2SXsI0ZdGq2c"
      },
      "source": [
        "<a name=\"submit\"></a>\n",
        "Predict unseen data and upload csv files of respective methodology.  \n",
        "  \n",
        "Personal best score: 0.6778  \n",
        "Achieved using: Gradient Boosting Classifier | NO Feature Selection & NO SMOTE\n"
      ]
    },
    {
      "cell_type": "code",
      "metadata": {
        "id": "5xtUYVkkG7wF"
      },
      "source": [
        "# Gradient Boosting Classifier | NO Feature Selection & NO SMOTE\n",
        "predictions = GBI.predict(new_test_values)\n",
        "\n",
        "result = pd.DataFrame({'building_id': new_test_values.building_id, 'damage_grade': predictions.astype(int)})\n",
        "result.to_csv('GBI_earthquake_damage_attempt_1.csv', index=False)"
      ],
      "execution_count": null,
      "outputs": []
    },
    {
      "cell_type": "code",
      "metadata": {
        "id": "fCYgV6nM6bcc"
      },
      "source": [
        "# Gradient Boosting Classifier | YES Feature Selection & NO SMOTE\n",
        "predictions_fs = GBI.predict(new_test_values[top_features])\n",
        "\n",
        "result = pd.DataFrame({'building_id': new_test_values.building_id, 'damage_grade': predictions_fs.astype(int)})\n",
        "result.to_csv('GBI_fs_earthquake_damage_attempt_1.csv', index=False)"
      ],
      "execution_count": null,
      "outputs": []
    },
    {
      "cell_type": "code",
      "metadata": {
        "id": "bNJGv32zHW-o"
      },
      "source": [
        "# Gradient Boosting Classifier | YES Feature Selection & YES SMOTE\n",
        "predictions_fs_sm = GBI.predict(new_test_values[top_features])\n",
        "\n",
        "result = pd.DataFrame({'building_id': new_test_values.building_id, 'damage_grade': predictions_fs_sm.astype(int)})\n",
        "result.to_csv('GBI_fs_sm_earthquake_damage_attempt_1.csv', index=False)"
      ],
      "execution_count": null,
      "outputs": []
    },
    {
      "cell_type": "code",
      "metadata": {
        "id": "JJmdGX7WgZHK"
      },
      "source": [
        ""
      ],
      "execution_count": null,
      "outputs": []
    }
  ]
}
