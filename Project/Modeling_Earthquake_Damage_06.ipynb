{
 "cells": [
  {
   "cell_type": "markdown",
   "metadata": {
    "id": "TM4qkHBli-iU"
   },
   "source": [
    "This notebook is a part of the deliverables for my final project for Coding Dojo's Data Science Immersive Bootcamp.\n",
    "It is in the form of a submission to the [Richter's Predictor: Modeling Earthquake Damage](https://www.drivendata.org/competitions/57/nepal-earthquake/page/134/) competition."
   ]
  },
  {
   "cell_type": "markdown",
   "metadata": {
    "id": "nADUC1D49VEo"
   },
   "source": [
    "In this notebook:\n",
    "  - [Explore the Nepal 2015 Earthquake data](#eda)\n",
    "  - [Handle categorical features using one hot encoding and OrdinalEncoding](#handle_cat)\n",
    "  - [Visualize some feature relationships using seaborn and bokeh](#viz)\n",
    "  - [Predict damage using Gradient Boosting Classifier](#gbi)\n",
    "  - [Check feature importances, make another prediction and compare results](#feat_imp)\n",
    "  - [Apply SMOTE to handle class imbalance, make another prediction and compare results](#SMOTE)\n",
    "  - [Upload csv submissions files](#submit)\n",
    "  - [Submit](https://www.drivendata.org/competitions/57/nepal-earthquake/submissions/) predictions to the competition!"
   ]
  },
  {
   "cell_type": "code",
   "execution_count": 1,
   "metadata": {
    "colab": {
     "base_uri": "https://localhost:8080/"
    },
    "id": "t2rM8AgTiaFC",
    "outputId": "2d93f09d-2f3d-4839-935c-6b4442a6290a"
   },
   "outputs": [],
   "source": [
    "# import packages and libraries\n",
    "import pandas as pd\n",
    "import numpy as np\n",
    "import matplotlib.pyplot as plt\n",
    "from sklearn.preprocessing import OneHotEncoder #?\n",
    "from sklearn.preprocessing import OrdinalEncoder\n",
    "from sklearn.model_selection import train_test_split\n",
    "from sklearn.ensemble import GradientBoostingClassifier \n",
    "from sklearn.metrics import confusion_matrix\n",
    "from imblearn.over_sampling import SMOTE\n",
    "from collections import Counter\n",
    "import seaborn as sns\n",
    "sns.set_style(\"darkgrid\")\n",
    "import imblearn"
   ]
  },
  {
   "cell_type": "code",
   "execution_count": 2,
   "metadata": {
    "id": "s4w4SWhJlXcI"
   },
   "outputs": [],
   "source": [
    "# data files from: https://www.drivendata.org/competitions/57/nepal-earthquake/data/\n",
    "train_values = pd.read_csv('https://raw.githubusercontent.com/AtheerMalki/Module04_ML/main/Project/data/train_values.csv')\n",
    "train_labels = pd.read_csv('https://raw.githubusercontent.com/AtheerMalki/Module04_ML/main/Project/data/train_labels.csv')\n",
    "\n",
    "test_values = pd.read_csv('https://raw.githubusercontent.com/AtheerMalki/Module04_ML/main/Project/data/test_values.csv')"
   ]
  },
  {
   "cell_type": "markdown",
   "metadata": {
    "id": "I1bvJuHMkxPy"
   },
   "source": [
    "<a name=\"eda\"></a>\n",
    "# EDA\n"
   ]
  },
  {
   "cell_type": "markdown",
   "metadata": {
    "id": "awTGoWRkDsTH"
   },
   "source": [
    "Observe shape of each dataframe"
   ]
  },
  {
   "cell_type": "code",
   "execution_count": 3,
   "metadata": {
    "colab": {
     "base_uri": "https://localhost:8080/"
    },
    "id": "wdxypdVM4TXy",
    "outputId": "7103db4e-87b0-44ea-dce0-887c85075ecc",
    "scrolled": true
   },
   "outputs": [
    {
     "name": "stdout",
     "output_type": "stream",
     "text": [
      "train values shape: (260601, 39)\n",
      "train labels shape: (260601, 2)\n",
      "test values shape: (86868, 39)\n"
     ]
    }
   ],
   "source": [
    "print('train values shape:', train_values.shape)\n",
    "print('train labels shape:', train_labels.shape)\n",
    "print('test values shape:', test_values.shape)"
   ]
  },
  {
   "cell_type": "markdown",
   "metadata": {
    "id": "t3evBJjaHSN4"
   },
   "source": [
    "Merge training and testing values"
   ]
  },
  {
   "cell_type": "code",
   "execution_count": 4,
   "metadata": {
    "colab": {
     "base_uri": "https://localhost:8080/"
    },
    "id": "S8gs5JTRHRT5",
    "outputId": "da402278-3aee-4072-b6ff-2e55b82bd019"
   },
   "outputs": [
    {
     "data": {
      "text/plain": [
       "(347469, 40)"
      ]
     },
     "execution_count": 4,
     "metadata": {},
     "output_type": "execute_result"
    }
   ],
   "source": [
    "# 1st: copy [train_labels]'s 'damage_grade' column to [train_values]\n",
    "train_values['damage_grade'] = train_labels['damage_grade'].values\n",
    "\n",
    "# 2nd: concatenate train_values and test_values\n",
    "frames = [train_values, test_values]\n",
    "df = pd.concat(frames)\n",
    "df.set_index='building_id'\n",
    "df.shape"
   ]
  },
  {
   "cell_type": "code",
   "execution_count": 5,
   "metadata": {
    "colab": {
     "base_uri": "https://localhost:8080/",
     "height": 224
    },
    "id": "FYl4b5d5ID1K",
    "outputId": "03092a63-1e59-4cce-9ee6-f278e6b3e849"
   },
   "outputs": [
    {
     "data": {
      "text/html": [
       "<div>\n",
       "<style scoped>\n",
       "    .dataframe tbody tr th:only-of-type {\n",
       "        vertical-align: middle;\n",
       "    }\n",
       "\n",
       "    .dataframe tbody tr th {\n",
       "        vertical-align: top;\n",
       "    }\n",
       "\n",
       "    .dataframe thead th {\n",
       "        text-align: right;\n",
       "    }\n",
       "</style>\n",
       "<table border=\"1\" class=\"dataframe\">\n",
       "  <thead>\n",
       "    <tr style=\"text-align: right;\">\n",
       "      <th></th>\n",
       "      <th>building_id</th>\n",
       "      <th>geo_level_1_id</th>\n",
       "      <th>geo_level_2_id</th>\n",
       "      <th>geo_level_3_id</th>\n",
       "      <th>count_floors_pre_eq</th>\n",
       "      <th>age</th>\n",
       "      <th>area_percentage</th>\n",
       "      <th>height_percentage</th>\n",
       "      <th>land_surface_condition</th>\n",
       "      <th>foundation_type</th>\n",
       "      <th>...</th>\n",
       "      <th>has_secondary_use_hotel</th>\n",
       "      <th>has_secondary_use_rental</th>\n",
       "      <th>has_secondary_use_institution</th>\n",
       "      <th>has_secondary_use_school</th>\n",
       "      <th>has_secondary_use_industry</th>\n",
       "      <th>has_secondary_use_health_post</th>\n",
       "      <th>has_secondary_use_gov_office</th>\n",
       "      <th>has_secondary_use_use_police</th>\n",
       "      <th>has_secondary_use_other</th>\n",
       "      <th>damage_grade</th>\n",
       "    </tr>\n",
       "  </thead>\n",
       "  <tbody>\n",
       "    <tr>\n",
       "      <th>0</th>\n",
       "      <td>802906</td>\n",
       "      <td>6</td>\n",
       "      <td>487</td>\n",
       "      <td>12198</td>\n",
       "      <td>2</td>\n",
       "      <td>30</td>\n",
       "      <td>6</td>\n",
       "      <td>5</td>\n",
       "      <td>t</td>\n",
       "      <td>r</td>\n",
       "      <td>...</td>\n",
       "      <td>0</td>\n",
       "      <td>0</td>\n",
       "      <td>0</td>\n",
       "      <td>0</td>\n",
       "      <td>0</td>\n",
       "      <td>0</td>\n",
       "      <td>0</td>\n",
       "      <td>0</td>\n",
       "      <td>0</td>\n",
       "      <td>3.0</td>\n",
       "    </tr>\n",
       "    <tr>\n",
       "      <th>1</th>\n",
       "      <td>28830</td>\n",
       "      <td>8</td>\n",
       "      <td>900</td>\n",
       "      <td>2812</td>\n",
       "      <td>2</td>\n",
       "      <td>10</td>\n",
       "      <td>8</td>\n",
       "      <td>7</td>\n",
       "      <td>o</td>\n",
       "      <td>r</td>\n",
       "      <td>...</td>\n",
       "      <td>0</td>\n",
       "      <td>0</td>\n",
       "      <td>0</td>\n",
       "      <td>0</td>\n",
       "      <td>0</td>\n",
       "      <td>0</td>\n",
       "      <td>0</td>\n",
       "      <td>0</td>\n",
       "      <td>0</td>\n",
       "      <td>2.0</td>\n",
       "    </tr>\n",
       "    <tr>\n",
       "      <th>2</th>\n",
       "      <td>94947</td>\n",
       "      <td>21</td>\n",
       "      <td>363</td>\n",
       "      <td>8973</td>\n",
       "      <td>2</td>\n",
       "      <td>10</td>\n",
       "      <td>5</td>\n",
       "      <td>5</td>\n",
       "      <td>t</td>\n",
       "      <td>r</td>\n",
       "      <td>...</td>\n",
       "      <td>0</td>\n",
       "      <td>0</td>\n",
       "      <td>0</td>\n",
       "      <td>0</td>\n",
       "      <td>0</td>\n",
       "      <td>0</td>\n",
       "      <td>0</td>\n",
       "      <td>0</td>\n",
       "      <td>0</td>\n",
       "      <td>3.0</td>\n",
       "    </tr>\n",
       "    <tr>\n",
       "      <th>3</th>\n",
       "      <td>590882</td>\n",
       "      <td>22</td>\n",
       "      <td>418</td>\n",
       "      <td>10694</td>\n",
       "      <td>2</td>\n",
       "      <td>10</td>\n",
       "      <td>6</td>\n",
       "      <td>5</td>\n",
       "      <td>t</td>\n",
       "      <td>r</td>\n",
       "      <td>...</td>\n",
       "      <td>0</td>\n",
       "      <td>0</td>\n",
       "      <td>0</td>\n",
       "      <td>0</td>\n",
       "      <td>0</td>\n",
       "      <td>0</td>\n",
       "      <td>0</td>\n",
       "      <td>0</td>\n",
       "      <td>0</td>\n",
       "      <td>2.0</td>\n",
       "    </tr>\n",
       "    <tr>\n",
       "      <th>4</th>\n",
       "      <td>201944</td>\n",
       "      <td>11</td>\n",
       "      <td>131</td>\n",
       "      <td>1488</td>\n",
       "      <td>3</td>\n",
       "      <td>30</td>\n",
       "      <td>8</td>\n",
       "      <td>9</td>\n",
       "      <td>t</td>\n",
       "      <td>r</td>\n",
       "      <td>...</td>\n",
       "      <td>0</td>\n",
       "      <td>0</td>\n",
       "      <td>0</td>\n",
       "      <td>0</td>\n",
       "      <td>0</td>\n",
       "      <td>0</td>\n",
       "      <td>0</td>\n",
       "      <td>0</td>\n",
       "      <td>0</td>\n",
       "      <td>3.0</td>\n",
       "    </tr>\n",
       "  </tbody>\n",
       "</table>\n",
       "<p>5 rows × 40 columns</p>\n",
       "</div>"
      ],
      "text/plain": [
       "   building_id  geo_level_1_id  geo_level_2_id  geo_level_3_id  \\\n",
       "0       802906               6             487           12198   \n",
       "1        28830               8             900            2812   \n",
       "2        94947              21             363            8973   \n",
       "3       590882              22             418           10694   \n",
       "4       201944              11             131            1488   \n",
       "\n",
       "   count_floors_pre_eq  age  area_percentage  height_percentage  \\\n",
       "0                    2   30                6                  5   \n",
       "1                    2   10                8                  7   \n",
       "2                    2   10                5                  5   \n",
       "3                    2   10                6                  5   \n",
       "4                    3   30                8                  9   \n",
       "\n",
       "  land_surface_condition foundation_type  ... has_secondary_use_hotel  \\\n",
       "0                      t               r  ...                       0   \n",
       "1                      o               r  ...                       0   \n",
       "2                      t               r  ...                       0   \n",
       "3                      t               r  ...                       0   \n",
       "4                      t               r  ...                       0   \n",
       "\n",
       "  has_secondary_use_rental has_secondary_use_institution  \\\n",
       "0                        0                             0   \n",
       "1                        0                             0   \n",
       "2                        0                             0   \n",
       "3                        0                             0   \n",
       "4                        0                             0   \n",
       "\n",
       "  has_secondary_use_school has_secondary_use_industry  \\\n",
       "0                        0                          0   \n",
       "1                        0                          0   \n",
       "2                        0                          0   \n",
       "3                        0                          0   \n",
       "4                        0                          0   \n",
       "\n",
       "   has_secondary_use_health_post  has_secondary_use_gov_office  \\\n",
       "0                              0                             0   \n",
       "1                              0                             0   \n",
       "2                              0                             0   \n",
       "3                              0                             0   \n",
       "4                              0                             0   \n",
       "\n",
       "   has_secondary_use_use_police  has_secondary_use_other  damage_grade  \n",
       "0                             0                        0           3.0  \n",
       "1                             0                        0           2.0  \n",
       "2                             0                        0           3.0  \n",
       "3                             0                        0           2.0  \n",
       "4                             0                        0           3.0  \n",
       "\n",
       "[5 rows x 40 columns]"
      ]
     },
     "execution_count": 5,
     "metadata": {},
     "output_type": "execute_result"
    }
   ],
   "source": [
    "df.head()"
   ]
  },
  {
   "cell_type": "markdown",
   "metadata": {
    "id": "5CCbD4-46bcH"
   },
   "source": [
    "***Features Description*** \n",
    "\n",
    "- **geo_level_1_id, geo_level_2_id, geo_level_3_id (type: int):** geographic region in which building exists, from largest (level 1) to most specific sub-region (level 3). Possible values: level 1: 0-30, level 2: 0-1427, level 3: 0-12567.  \n",
    "\n",
    "- **count_floors_pre_eq (type: int):** number of floors in the building before the earthquake.  \n",
    "\n",
    "- **age (type: int):** age of the building in years.  \n",
    "\n",
    "- **area_percentage (type: int):** normalized area of the building footprint.  \n",
    "\n",
    "- **height_percentage (type: int):** normalized height of the building footprint.  \n",
    "\n",
    "- **land_surface_condition (type: categorical):** surface condition of the land where the building was built. Possible values: n, o, t.  \n",
    "\n",
    "- **foundation_type (type: categorical):** type of foundation used while building. Possible values: h, i, r, u, w.  \n",
    "\n",
    "- **roof_type (type: categorical):** type of roof used while building. Possible values: n, q, x.  \n",
    "\n",
    "- **ground_floor_type (type: categorical):** type of the ground floor. Possible values: f, m, v, x, z.  \n",
    "\n",
    "- **other_floor_type (type: categorical):** type of constructions used in higher than the ground floors (except of roof). Possible values: j, q, s, x.   \n",
    "\n",
    "- **position (type: categorical):** position of the building. Possible values: j, o, s, t.  \n",
    "\n",
    "- **plan_configuration (type: categorical):** building plan configuration. Possible values: a, c, d, f, m, n, o, q, s, u.   \n",
    "\n",
    "- **has_superstructure_adobe_mud (type: binary):** flag variable that indicates if the superstructure was made of Adobe/Mud.  \n",
    "\n",
    "- **has_superstructure_mud_mortar_stone (type: binary):** flag variable that indicates if the superstructure was made of Mud Mortar - Stone.  \n",
    "\n",
    "- **has_superstructure_stone_flag (type: binary):** flag variable that indicates if the superstructure was made of Stone.  \n",
    "\n",
    "- **has_superstructure_cement_mortar_stone (type: binary):** flag variable that indicates if the superstructure was made of Cement Mortar - Stone.\n",
    "\n",
    "- **has_superstructure_mud_mortar_brick (type: binary):** flag variable that indicates if the superstructure was made of Mud Mortar - Brick.  \n",
    "\n",
    "- **has_superstructure_cement_mortar_brick (type: binary):** flag variable that indicates if the superstructure was made of Cement Mortar - Brick.  \n",
    "\n",
    "- **has_superstructure_timber (type: binary):** flag variable that indicates if the superstructure was made of Timber.  \n",
    "\n",
    "- **has_superstructure_bamboo (type: binary):** flag variable that indicates if the superstructure was made of Bamboo.  \n",
    "\n",
    "- **has_superstructure_rc_non_engineered (type: binary):** flag variable that indicates if the superstructure was made of non-engineered reinforced concrete.  \n",
    "\n",
    "- **has_superstructure_rc_engineered (type: binary):** flag variable that indicates if the superstructure was made of engineered reinforced concrete.  \n",
    "\n",
    "- **has_superstructure_other (type: binary):** flag variable that indicates if the superstructure was made of any other material.  \n",
    "\n",
    "- **legal_ownership_status (type: categorical):** legal ownership status of the land where building was built. Possible values: a, r, v, w.  \n",
    "\n",
    "- **count_families (type: int):** number of families that live in the building.  \n",
    "\n",
    "- **has_secondary_use (type: binary):** flag variable that indicates if the building was used for any secondary purpose.  \n",
    "\n",
    "- **has_secondary_use_agriculture (type: binary):** flag variable that indicates if the building was used for agricultural purposes.  \n",
    "\n",
    "- **has_secondary_use_hotel (type: binary):** flag variable that indicates if the building was used as a hotel.  \n",
    "\n",
    "- **has_secondary_use_rental (type: binary):** flag variable that indicates if the building was used for rental purposes.  \n",
    "\n",
    "- **has_secondary_use_institution (type: binary):** flag variable that indicates if the building was used as a location of any institution.  \n",
    "\n",
    "- **has_secondary_use_school (type: binary):** flag variable that indicates if the building was used as a school.  \n",
    "\n",
    "- **has_secondary_use_industry (type: binary):** flag variable that indicates if the building was used for industrial purposes.  \n",
    "\n",
    "- **has_secondary_use_health_post (type: binary):** flag variable that indicates if the building was used as a health post.  \n",
    "\n",
    "- **has_secondary_use_gov_office (type: binary):** flag variable that indicates if the building was used fas a government office.  \n",
    "\n",
    "- **has_secondary_use_use_police (type: binary):** flag variable that indicates if the building was used as a police station.  \n",
    "\n",
    "- **has_secondary_use_other (type: binary):** flag variable that indicates if the building was secondarily used for other purposes.\n",
    "- **damage_grade (type: int):** represents the level of damage. 1: low damage. 2: medium damage. 3: great damage/destruction."
   ]
  },
  {
   "cell_type": "code",
   "execution_count": 6,
   "metadata": {
    "id": "zuBWCts-7jGP"
   },
   "outputs": [],
   "source": [
    "# check for missing values\n",
    "# function to check missing values per column\n",
    "def missing_values_table(df):\n",
    "    # total missing values\n",
    "    mis_val = df.isnull().sum()\n",
    "    \n",
    "    # percentage of missing values\n",
    "    mis_val_percent = 100 * df.isnull().sum() / len(df)\n",
    "    \n",
    "    # make a table with the results\n",
    "    mis_val_table = pd.concat([mis_val, mis_val_percent], axis=1)\n",
    "    \n",
    "    # rename the columns\n",
    "    mis_val_table_ren_columns = mis_val_table.rename(\n",
    "    columns = {0 : 'Missing Values', 1 : '% of Total Values'})\n",
    "    \n",
    "    # sort the table by percentage of missing descending\n",
    "    # .iloc[:, 1]!= 0: filter on missing values not equal to zero\n",
    "    mis_val_table_ren_columns = mis_val_table_ren_columns[\n",
    "        mis_val_table_ren_columns.iloc[:,1] != 0].sort_values(\n",
    "    '% of Total Values', ascending=False).round(2)  # round(2), keep 2 digits\n",
    "    \n",
    "    # print some summary information\n",
    "    print(\"Your selected dataframe has {} columns.\".format(df.shape[1]) + '\\n' + \n",
    "    \"There are {} columns that have missing values.\".format(mis_val_table_ren_columns.shape[0]))\n",
    "    \n",
    "    # return the dataframe with missing information\n",
    "    return mis_val_table_ren_columns"
   ]
  },
  {
   "cell_type": "code",
   "execution_count": 7,
   "metadata": {
    "colab": {
     "base_uri": "https://localhost:8080/",
     "height": 114
    },
    "id": "HRCJPx0S7ipZ",
    "outputId": "20e0affe-49a5-415e-a492-c62d287b33a0"
   },
   "outputs": [
    {
     "name": "stdout",
     "output_type": "stream",
     "text": [
      "Your selected dataframe has 40 columns.\n",
      "There are 1 columns that have missing values.\n"
     ]
    },
    {
     "data": {
      "text/html": [
       "<div>\n",
       "<style scoped>\n",
       "    .dataframe tbody tr th:only-of-type {\n",
       "        vertical-align: middle;\n",
       "    }\n",
       "\n",
       "    .dataframe tbody tr th {\n",
       "        vertical-align: top;\n",
       "    }\n",
       "\n",
       "    .dataframe thead th {\n",
       "        text-align: right;\n",
       "    }\n",
       "</style>\n",
       "<table border=\"1\" class=\"dataframe\">\n",
       "  <thead>\n",
       "    <tr style=\"text-align: right;\">\n",
       "      <th></th>\n",
       "      <th>Missing Values</th>\n",
       "      <th>% of Total Values</th>\n",
       "    </tr>\n",
       "  </thead>\n",
       "  <tbody>\n",
       "    <tr>\n",
       "      <th>damage_grade</th>\n",
       "      <td>86868</td>\n",
       "      <td>25.0</td>\n",
       "    </tr>\n",
       "  </tbody>\n",
       "</table>\n",
       "</div>"
      ],
      "text/plain": [
       "              Missing Values  % of Total Values\n",
       "damage_grade           86868               25.0"
      ]
     },
     "execution_count": 7,
     "metadata": {},
     "output_type": "execute_result"
    }
   ],
   "source": [
    "missing_values_table(df)"
   ]
  },
  {
   "cell_type": "markdown",
   "metadata": {
    "id": "y2ZZF8JoGJ04"
   },
   "source": [
    "Theses 86868 values are in fact the *to be predected labels* = there are no missing values, nice!"
   ]
  },
  {
   "cell_type": "markdown",
   "metadata": {
    "id": "Q8x6V3YNC4Gr"
   },
   "source": [
    "<a name=\"handle_cat\"></a>\n",
    "## Handle categorical features"
   ]
  },
  {
   "cell_type": "code",
   "execution_count": 8,
   "metadata": {
    "colab": {
     "base_uri": "https://localhost:8080/"
    },
    "id": "tzZjTiBa7Xvw",
    "outputId": "be181ce6-b22a-40df-fbef-f9bb41425da6"
   },
   "outputs": [
    {
     "name": "stdout",
     "output_type": "stream",
     "text": [
      "<class 'pandas.core.frame.DataFrame'>\n",
      "Int64Index: 347469 entries, 0 to 86867\n",
      "Data columns (total 40 columns):\n",
      " #   Column                                  Non-Null Count   Dtype  \n",
      "---  ------                                  --------------   -----  \n",
      " 0   building_id                             347469 non-null  int64  \n",
      " 1   geo_level_1_id                          347469 non-null  int64  \n",
      " 2   geo_level_2_id                          347469 non-null  int64  \n",
      " 3   geo_level_3_id                          347469 non-null  int64  \n",
      " 4   count_floors_pre_eq                     347469 non-null  int64  \n",
      " 5   age                                     347469 non-null  int64  \n",
      " 6   area_percentage                         347469 non-null  int64  \n",
      " 7   height_percentage                       347469 non-null  int64  \n",
      " 8   land_surface_condition                  347469 non-null  object \n",
      " 9   foundation_type                         347469 non-null  object \n",
      " 10  roof_type                               347469 non-null  object \n",
      " 11  ground_floor_type                       347469 non-null  object \n",
      " 12  other_floor_type                        347469 non-null  object \n",
      " 13  position                                347469 non-null  object \n",
      " 14  plan_configuration                      347469 non-null  object \n",
      " 15  has_superstructure_adobe_mud            347469 non-null  int64  \n",
      " 16  has_superstructure_mud_mortar_stone     347469 non-null  int64  \n",
      " 17  has_superstructure_stone_flag           347469 non-null  int64  \n",
      " 18  has_superstructure_cement_mortar_stone  347469 non-null  int64  \n",
      " 19  has_superstructure_mud_mortar_brick     347469 non-null  int64  \n",
      " 20  has_superstructure_cement_mortar_brick  347469 non-null  int64  \n",
      " 21  has_superstructure_timber               347469 non-null  int64  \n",
      " 22  has_superstructure_bamboo               347469 non-null  int64  \n",
      " 23  has_superstructure_rc_non_engineered    347469 non-null  int64  \n",
      " 24  has_superstructure_rc_engineered        347469 non-null  int64  \n",
      " 25  has_superstructure_other                347469 non-null  int64  \n",
      " 26  legal_ownership_status                  347469 non-null  object \n",
      " 27  count_families                          347469 non-null  int64  \n",
      " 28  has_secondary_use                       347469 non-null  int64  \n",
      " 29  has_secondary_use_agriculture           347469 non-null  int64  \n",
      " 30  has_secondary_use_hotel                 347469 non-null  int64  \n",
      " 31  has_secondary_use_rental                347469 non-null  int64  \n",
      " 32  has_secondary_use_institution           347469 non-null  int64  \n",
      " 33  has_secondary_use_school                347469 non-null  int64  \n",
      " 34  has_secondary_use_industry              347469 non-null  int64  \n",
      " 35  has_secondary_use_health_post           347469 non-null  int64  \n",
      " 36  has_secondary_use_gov_office            347469 non-null  int64  \n",
      " 37  has_secondary_use_use_police            347469 non-null  int64  \n",
      " 38  has_secondary_use_other                 347469 non-null  int64  \n",
      " 39  damage_grade                            260601 non-null  float64\n",
      "dtypes: float64(1), int64(31), object(8)\n",
      "memory usage: 108.7+ MB\n"
     ]
    }
   ],
   "source": [
    "# observe columns and their types\n",
    "df.info()"
   ]
  },
  {
   "cell_type": "markdown",
   "metadata": {
    "id": "s5zNbaOh1Obn"
   },
   "source": [
    "This dataframe has 31 columns of type **int64**, 8 columns of type **object**, and a single **float46** column(the target). "
   ]
  },
  {
   "cell_type": "code",
   "execution_count": 9,
   "metadata": {
    "colab": {
     "base_uri": "https://localhost:8080/"
    },
    "id": "Q0t4hYAx6bcN",
    "outputId": "8704b46e-6f15-497a-a195-63847f710625"
   },
   "outputs": [
    {
     "name": "stdout",
     "output_type": "stream",
     "text": [
      "t    216757\n",
      "n     35528\n",
      "o      8316\n",
      "Name: land_surface_condition, dtype: int64 \n",
      "\n",
      "r    219196\n",
      "w     15118\n",
      "u     14260\n",
      "i     10579\n",
      "h      1448\n",
      "Name: foundation_type, dtype: int64 \n",
      "\n",
      "n    182842\n",
      "q     61576\n",
      "x     16183\n",
      "Name: roof_type, dtype: int64 \n",
      "\n",
      "f    209619\n",
      "x     24877\n",
      "v     24593\n",
      "z      1004\n",
      "m       508\n",
      "Name: ground_floor_type, dtype: int64 \n",
      "\n",
      "q    165282\n",
      "x     43448\n",
      "j     39843\n",
      "s     12028\n",
      "Name: other_floor_type, dtype: int64 \n",
      "\n",
      "s    202090\n",
      "t     42896\n",
      "j     13282\n",
      "o      2333\n",
      "Name: position, dtype: int64 \n",
      "\n",
      "d    250072\n",
      "q      5692\n",
      "u      3649\n",
      "s       346\n",
      "c       325\n",
      "a       252\n",
      "o       159\n",
      "m        46\n",
      "n        38\n",
      "f        22\n",
      "Name: plan_configuration, dtype: int64 \n",
      "\n",
      "v    250939\n",
      "a      5512\n",
      "w      2677\n",
      "r      1473\n",
      "Name: legal_ownership_status, dtype: int64 \n",
      "\n",
      "2    148259\n",
      "3     87218\n",
      "1     25124\n",
      "Name: damage_grade, dtype: int64 \n",
      "\n"
     ]
    }
   ],
   "source": [
    "# we want to change all columns to be of numerical type\n",
    "\n",
    "# first, let's investigate the columns with type 'object'\n",
    "print(train_values['land_surface_condition'].value_counts(), '\\n')\n",
    "print(train_values['foundation_type'].value_counts(), '\\n')\n",
    "print(train_values['roof_type'].value_counts(), '\\n')\n",
    "print(train_values['ground_floor_type'].value_counts(), '\\n')\n",
    "\n",
    "print(train_values['other_floor_type'].value_counts(), '\\n')\n",
    "print(train_values['position'].value_counts(), '\\n')\n",
    "print(train_values['plan_configuration'].value_counts(), '\\n')\n",
    "print(train_values['legal_ownership_status'].value_counts(), '\\n')\n",
    "\n",
    "print(train_values['damage_grade'].value_counts(), '\\n')"
   ]
  },
  {
   "cell_type": "markdown",
   "metadata": {},
   "source": [
    "We will deal with each column depending on the number of classes it has"
   ]
  },
  {
   "cell_type": "code",
   "execution_count": 10,
   "metadata": {
    "id": "kJQcr_9d6bcN"
   },
   "outputs": [],
   "source": [
    "# use OrdinalEncoder to deal with object columns with 4 or more classes\n",
    "four_more = ['foundation_type', 'ground_floor_type', 'plan_configuration',\n",
    "             'other_floor_type', 'position', 'legal_ownership_status']\n",
    "enc = OrdinalEncoder()\n",
    "\n",
    "df[four_more] = enc.fit_transform(df[four_more])"
   ]
  },
  {
   "cell_type": "code",
   "execution_count": 11,
   "metadata": {
    "id": "wV6kHTqo6bcO"
   },
   "outputs": [],
   "source": [
    "# use one hot encoding to deal with object columns with 3 or less classes\n",
    "three_less = ['land_surface_condition', 'roof_type']\n",
    "df = pd.get_dummies(df, columns=three_less)"
   ]
  },
  {
   "cell_type": "code",
   "execution_count": 12,
   "metadata": {
    "colab": {
     "base_uri": "https://localhost:8080/"
    },
    "id": "CFykC4cP6bcO",
    "outputId": "9c4911de-82ac-44d7-b19d-c7b98a13657b"
   },
   "outputs": [
    {
     "name": "stdout",
     "output_type": "stream",
     "text": [
      "<class 'pandas.core.frame.DataFrame'>\n",
      "Int64Index: 347469 entries, 0 to 86867\n",
      "Data columns (total 44 columns):\n",
      " #   Column                                  Non-Null Count   Dtype  \n",
      "---  ------                                  --------------   -----  \n",
      " 0   building_id                             347469 non-null  int64  \n",
      " 1   geo_level_1_id                          347469 non-null  int64  \n",
      " 2   geo_level_2_id                          347469 non-null  int64  \n",
      " 3   geo_level_3_id                          347469 non-null  int64  \n",
      " 4   count_floors_pre_eq                     347469 non-null  int64  \n",
      " 5   age                                     347469 non-null  int64  \n",
      " 6   area_percentage                         347469 non-null  int64  \n",
      " 7   height_percentage                       347469 non-null  int64  \n",
      " 8   foundation_type                         347469 non-null  float64\n",
      " 9   ground_floor_type                       347469 non-null  float64\n",
      " 10  other_floor_type                        347469 non-null  float64\n",
      " 11  position                                347469 non-null  float64\n",
      " 12  plan_configuration                      347469 non-null  float64\n",
      " 13  has_superstructure_adobe_mud            347469 non-null  int64  \n",
      " 14  has_superstructure_mud_mortar_stone     347469 non-null  int64  \n",
      " 15  has_superstructure_stone_flag           347469 non-null  int64  \n",
      " 16  has_superstructure_cement_mortar_stone  347469 non-null  int64  \n",
      " 17  has_superstructure_mud_mortar_brick     347469 non-null  int64  \n",
      " 18  has_superstructure_cement_mortar_brick  347469 non-null  int64  \n",
      " 19  has_superstructure_timber               347469 non-null  int64  \n",
      " 20  has_superstructure_bamboo               347469 non-null  int64  \n",
      " 21  has_superstructure_rc_non_engineered    347469 non-null  int64  \n",
      " 22  has_superstructure_rc_engineered        347469 non-null  int64  \n",
      " 23  has_superstructure_other                347469 non-null  int64  \n",
      " 24  legal_ownership_status                  347469 non-null  float64\n",
      " 25  count_families                          347469 non-null  int64  \n",
      " 26  has_secondary_use                       347469 non-null  int64  \n",
      " 27  has_secondary_use_agriculture           347469 non-null  int64  \n",
      " 28  has_secondary_use_hotel                 347469 non-null  int64  \n",
      " 29  has_secondary_use_rental                347469 non-null  int64  \n",
      " 30  has_secondary_use_institution           347469 non-null  int64  \n",
      " 31  has_secondary_use_school                347469 non-null  int64  \n",
      " 32  has_secondary_use_industry              347469 non-null  int64  \n",
      " 33  has_secondary_use_health_post           347469 non-null  int64  \n",
      " 34  has_secondary_use_gov_office            347469 non-null  int64  \n",
      " 35  has_secondary_use_use_police            347469 non-null  int64  \n",
      " 36  has_secondary_use_other                 347469 non-null  int64  \n",
      " 37  damage_grade                            260601 non-null  float64\n",
      " 38  land_surface_condition_n                347469 non-null  uint8  \n",
      " 39  land_surface_condition_o                347469 non-null  uint8  \n",
      " 40  land_surface_condition_t                347469 non-null  uint8  \n",
      " 41  roof_type_n                             347469 non-null  uint8  \n",
      " 42  roof_type_q                             347469 non-null  uint8  \n",
      " 43  roof_type_x                             347469 non-null  uint8  \n",
      "dtypes: float64(7), int64(31), uint8(6)\n",
      "memory usage: 105.4 MB\n"
     ]
    }
   ],
   "source": [
    "# check everything is good and all columns are numerical\n",
    "df.info()"
   ]
  },
  {
   "cell_type": "code",
   "execution_count": 13,
   "metadata": {
    "colab": {
     "base_uri": "https://localhost:8080/",
     "height": 317
    },
    "id": "TfYSzH0vKT_u",
    "outputId": "f3585f32-fa3f-4547-9239-8ac2829f2ec5"
   },
   "outputs": [
    {
     "data": {
      "text/html": [
       "<div>\n",
       "<style scoped>\n",
       "    .dataframe tbody tr th:only-of-type {\n",
       "        vertical-align: middle;\n",
       "    }\n",
       "\n",
       "    .dataframe tbody tr th {\n",
       "        vertical-align: top;\n",
       "    }\n",
       "\n",
       "    .dataframe thead th {\n",
       "        text-align: right;\n",
       "    }\n",
       "</style>\n",
       "<table border=\"1\" class=\"dataframe\">\n",
       "  <thead>\n",
       "    <tr style=\"text-align: right;\">\n",
       "      <th></th>\n",
       "      <th>building_id</th>\n",
       "      <th>geo_level_1_id</th>\n",
       "      <th>geo_level_2_id</th>\n",
       "      <th>geo_level_3_id</th>\n",
       "      <th>count_floors_pre_eq</th>\n",
       "      <th>age</th>\n",
       "      <th>area_percentage</th>\n",
       "      <th>height_percentage</th>\n",
       "      <th>foundation_type</th>\n",
       "      <th>ground_floor_type</th>\n",
       "      <th>...</th>\n",
       "      <th>has_secondary_use_gov_office</th>\n",
       "      <th>has_secondary_use_use_police</th>\n",
       "      <th>has_secondary_use_other</th>\n",
       "      <th>damage_grade</th>\n",
       "      <th>land_surface_condition_n</th>\n",
       "      <th>land_surface_condition_o</th>\n",
       "      <th>land_surface_condition_t</th>\n",
       "      <th>roof_type_n</th>\n",
       "      <th>roof_type_q</th>\n",
       "      <th>roof_type_x</th>\n",
       "    </tr>\n",
       "  </thead>\n",
       "  <tbody>\n",
       "    <tr>\n",
       "      <th>count</th>\n",
       "      <td>3.474690e+05</td>\n",
       "      <td>347469.000000</td>\n",
       "      <td>347469.000000</td>\n",
       "      <td>347469.000000</td>\n",
       "      <td>347469.000000</td>\n",
       "      <td>347469.000000</td>\n",
       "      <td>347469.000000</td>\n",
       "      <td>347469.000000</td>\n",
       "      <td>347469.000000</td>\n",
       "      <td>347469.000000</td>\n",
       "      <td>...</td>\n",
       "      <td>347469.000000</td>\n",
       "      <td>347469.000000</td>\n",
       "      <td>347469.000000</td>\n",
       "      <td>260601.000000</td>\n",
       "      <td>347469.000000</td>\n",
       "      <td>347469.000</td>\n",
       "      <td>347469.000000</td>\n",
       "      <td>347469.000000</td>\n",
       "      <td>347469.000000</td>\n",
       "      <td>347469.000000</td>\n",
       "    </tr>\n",
       "    <tr>\n",
       "      <th>mean</th>\n",
       "      <td>5.259136e+05</td>\n",
       "      <td>13.897315</td>\n",
       "      <td>701.838052</td>\n",
       "      <td>6258.846760</td>\n",
       "      <td>2.130579</td>\n",
       "      <td>26.538814</td>\n",
       "      <td>8.017014</td>\n",
       "      <td>5.434799</td>\n",
       "      <td>2.117731</td>\n",
       "      <td>0.491638</td>\n",
       "      <td>...</td>\n",
       "      <td>0.000138</td>\n",
       "      <td>0.000078</td>\n",
       "      <td>0.005065</td>\n",
       "      <td>2.238272</td>\n",
       "      <td>0.136452</td>\n",
       "      <td>0.032</td>\n",
       "      <td>0.831548</td>\n",
       "      <td>0.702149</td>\n",
       "      <td>0.235719</td>\n",
       "      <td>0.062132</td>\n",
       "    </tr>\n",
       "    <tr>\n",
       "      <th>std</th>\n",
       "      <td>3.043545e+05</td>\n",
       "      <td>8.032597</td>\n",
       "      <td>412.875674</td>\n",
       "      <td>3646.950564</td>\n",
       "      <td>0.727761</td>\n",
       "      <td>73.527749</td>\n",
       "      <td>4.388646</td>\n",
       "      <td>1.915555</td>\n",
       "      <td>0.578523</td>\n",
       "      <td>1.027676</td>\n",
       "      <td>...</td>\n",
       "      <td>0.011753</td>\n",
       "      <td>0.008815</td>\n",
       "      <td>0.070990</td>\n",
       "      <td>0.611814</td>\n",
       "      <td>0.343269</td>\n",
       "      <td>0.176</td>\n",
       "      <td>0.374268</td>\n",
       "      <td>0.457314</td>\n",
       "      <td>0.424448</td>\n",
       "      <td>0.241396</td>\n",
       "    </tr>\n",
       "    <tr>\n",
       "      <th>min</th>\n",
       "      <td>4.000000e+00</td>\n",
       "      <td>0.000000</td>\n",
       "      <td>0.000000</td>\n",
       "      <td>0.000000</td>\n",
       "      <td>1.000000</td>\n",
       "      <td>0.000000</td>\n",
       "      <td>1.000000</td>\n",
       "      <td>2.000000</td>\n",
       "      <td>0.000000</td>\n",
       "      <td>0.000000</td>\n",
       "      <td>...</td>\n",
       "      <td>0.000000</td>\n",
       "      <td>0.000000</td>\n",
       "      <td>0.000000</td>\n",
       "      <td>1.000000</td>\n",
       "      <td>0.000000</td>\n",
       "      <td>0.000</td>\n",
       "      <td>0.000000</td>\n",
       "      <td>0.000000</td>\n",
       "      <td>0.000000</td>\n",
       "      <td>0.000000</td>\n",
       "    </tr>\n",
       "    <tr>\n",
       "      <th>25%</th>\n",
       "      <td>2.619990e+05</td>\n",
       "      <td>7.000000</td>\n",
       "      <td>350.000000</td>\n",
       "      <td>3073.000000</td>\n",
       "      <td>2.000000</td>\n",
       "      <td>10.000000</td>\n",
       "      <td>5.000000</td>\n",
       "      <td>4.000000</td>\n",
       "      <td>2.000000</td>\n",
       "      <td>0.000000</td>\n",
       "      <td>...</td>\n",
       "      <td>0.000000</td>\n",
       "      <td>0.000000</td>\n",
       "      <td>0.000000</td>\n",
       "      <td>2.000000</td>\n",
       "      <td>0.000000</td>\n",
       "      <td>0.000</td>\n",
       "      <td>1.000000</td>\n",
       "      <td>0.000000</td>\n",
       "      <td>0.000000</td>\n",
       "      <td>0.000000</td>\n",
       "    </tr>\n",
       "    <tr>\n",
       "      <th>50%</th>\n",
       "      <td>5.260710e+05</td>\n",
       "      <td>12.000000</td>\n",
       "      <td>706.000000</td>\n",
       "      <td>6271.000000</td>\n",
       "      <td>2.000000</td>\n",
       "      <td>15.000000</td>\n",
       "      <td>7.000000</td>\n",
       "      <td>5.000000</td>\n",
       "      <td>2.000000</td>\n",
       "      <td>0.000000</td>\n",
       "      <td>...</td>\n",
       "      <td>0.000000</td>\n",
       "      <td>0.000000</td>\n",
       "      <td>0.000000</td>\n",
       "      <td>2.000000</td>\n",
       "      <td>0.000000</td>\n",
       "      <td>0.000</td>\n",
       "      <td>1.000000</td>\n",
       "      <td>1.000000</td>\n",
       "      <td>0.000000</td>\n",
       "      <td>0.000000</td>\n",
       "    </tr>\n",
       "    <tr>\n",
       "      <th>75%</th>\n",
       "      <td>7.895880e+05</td>\n",
       "      <td>21.000000</td>\n",
       "      <td>1050.000000</td>\n",
       "      <td>9414.000000</td>\n",
       "      <td>2.000000</td>\n",
       "      <td>30.000000</td>\n",
       "      <td>9.000000</td>\n",
       "      <td>6.000000</td>\n",
       "      <td>2.000000</td>\n",
       "      <td>0.000000</td>\n",
       "      <td>...</td>\n",
       "      <td>0.000000</td>\n",
       "      <td>0.000000</td>\n",
       "      <td>0.000000</td>\n",
       "      <td>3.000000</td>\n",
       "      <td>0.000000</td>\n",
       "      <td>0.000</td>\n",
       "      <td>1.000000</td>\n",
       "      <td>1.000000</td>\n",
       "      <td>0.000000</td>\n",
       "      <td>0.000000</td>\n",
       "    </tr>\n",
       "    <tr>\n",
       "      <th>max</th>\n",
       "      <td>1.052934e+06</td>\n",
       "      <td>30.000000</td>\n",
       "      <td>1427.000000</td>\n",
       "      <td>12567.000000</td>\n",
       "      <td>9.000000</td>\n",
       "      <td>995.000000</td>\n",
       "      <td>100.000000</td>\n",
       "      <td>32.000000</td>\n",
       "      <td>4.000000</td>\n",
       "      <td>4.000000</td>\n",
       "      <td>...</td>\n",
       "      <td>1.000000</td>\n",
       "      <td>1.000000</td>\n",
       "      <td>1.000000</td>\n",
       "      <td>3.000000</td>\n",
       "      <td>1.000000</td>\n",
       "      <td>1.000</td>\n",
       "      <td>1.000000</td>\n",
       "      <td>1.000000</td>\n",
       "      <td>1.000000</td>\n",
       "      <td>1.000000</td>\n",
       "    </tr>\n",
       "  </tbody>\n",
       "</table>\n",
       "<p>8 rows × 44 columns</p>\n",
       "</div>"
      ],
      "text/plain": [
       "        building_id  geo_level_1_id  geo_level_2_id  geo_level_3_id  \\\n",
       "count  3.474690e+05   347469.000000   347469.000000   347469.000000   \n",
       "mean   5.259136e+05       13.897315      701.838052     6258.846760   \n",
       "std    3.043545e+05        8.032597      412.875674     3646.950564   \n",
       "min    4.000000e+00        0.000000        0.000000        0.000000   \n",
       "25%    2.619990e+05        7.000000      350.000000     3073.000000   \n",
       "50%    5.260710e+05       12.000000      706.000000     6271.000000   \n",
       "75%    7.895880e+05       21.000000     1050.000000     9414.000000   \n",
       "max    1.052934e+06       30.000000     1427.000000    12567.000000   \n",
       "\n",
       "       count_floors_pre_eq            age  area_percentage  height_percentage  \\\n",
       "count        347469.000000  347469.000000    347469.000000      347469.000000   \n",
       "mean              2.130579      26.538814         8.017014           5.434799   \n",
       "std               0.727761      73.527749         4.388646           1.915555   \n",
       "min               1.000000       0.000000         1.000000           2.000000   \n",
       "25%               2.000000      10.000000         5.000000           4.000000   \n",
       "50%               2.000000      15.000000         7.000000           5.000000   \n",
       "75%               2.000000      30.000000         9.000000           6.000000   \n",
       "max               9.000000     995.000000       100.000000          32.000000   \n",
       "\n",
       "       foundation_type  ground_floor_type  ...  has_secondary_use_gov_office  \\\n",
       "count    347469.000000      347469.000000  ...                 347469.000000   \n",
       "mean          2.117731           0.491638  ...                      0.000138   \n",
       "std           0.578523           1.027676  ...                      0.011753   \n",
       "min           0.000000           0.000000  ...                      0.000000   \n",
       "25%           2.000000           0.000000  ...                      0.000000   \n",
       "50%           2.000000           0.000000  ...                      0.000000   \n",
       "75%           2.000000           0.000000  ...                      0.000000   \n",
       "max           4.000000           4.000000  ...                      1.000000   \n",
       "\n",
       "       has_secondary_use_use_police  has_secondary_use_other   damage_grade  \\\n",
       "count                 347469.000000            347469.000000  260601.000000   \n",
       "mean                       0.000078                 0.005065       2.238272   \n",
       "std                        0.008815                 0.070990       0.611814   \n",
       "min                        0.000000                 0.000000       1.000000   \n",
       "25%                        0.000000                 0.000000       2.000000   \n",
       "50%                        0.000000                 0.000000       2.000000   \n",
       "75%                        0.000000                 0.000000       3.000000   \n",
       "max                        1.000000                 1.000000       3.000000   \n",
       "\n",
       "       land_surface_condition_n  land_surface_condition_o  \\\n",
       "count             347469.000000                347469.000   \n",
       "mean                   0.136452                     0.032   \n",
       "std                    0.343269                     0.176   \n",
       "min                    0.000000                     0.000   \n",
       "25%                    0.000000                     0.000   \n",
       "50%                    0.000000                     0.000   \n",
       "75%                    0.000000                     0.000   \n",
       "max                    1.000000                     1.000   \n",
       "\n",
       "       land_surface_condition_t    roof_type_n    roof_type_q    roof_type_x  \n",
       "count             347469.000000  347469.000000  347469.000000  347469.000000  \n",
       "mean                   0.831548       0.702149       0.235719       0.062132  \n",
       "std                    0.374268       0.457314       0.424448       0.241396  \n",
       "min                    0.000000       0.000000       0.000000       0.000000  \n",
       "25%                    1.000000       0.000000       0.000000       0.000000  \n",
       "50%                    1.000000       1.000000       0.000000       0.000000  \n",
       "75%                    1.000000       1.000000       0.000000       0.000000  \n",
       "max                    1.000000       1.000000       1.000000       1.000000  \n",
       "\n",
       "[8 rows x 44 columns]"
      ]
     },
     "execution_count": 13,
     "metadata": {},
     "output_type": "execute_result"
    }
   ],
   "source": [
    "df.describe()"
   ]
  },
  {
   "cell_type": "markdown",
   "metadata": {
    "id": "-upAWYwlDc1q"
   },
   "source": [
    "<a name=\"viz\"></a>\n",
    "## Visualization"
   ]
  },
  {
   "cell_type": "code",
   "execution_count": 14,
   "metadata": {
    "id": "fwiuje42Mtls"
   },
   "outputs": [],
   "source": [
    "#import pandas_profiling\n",
    "#pandas_profiling.ProfileReport(train_values)"
   ]
  },
  {
   "cell_type": "code",
   "execution_count": 50,
   "metadata": {
    "colab": {
     "base_uri": "https://localhost:8080/",
     "height": 401
    },
    "id": "TNU0Mf9fLLgm",
    "outputId": "d69c3dc5-48ed-467a-9eea-988e3af1504d"
   },
   "outputs": [
    {
     "data": {
      "text/plain": [
       "<seaborn.axisgrid.FacetGrid at 0x28a539c8970>"
      ]
     },
     "execution_count": 50,
     "metadata": {},
     "output_type": "execute_result"
    },
    {
     "data": {
      "image/png": "[encoded data removed]",
      "text/plain": [
       "<Figure size 435.75x360 with 1 Axes>"
      ]
     },
     "metadata": {},
     "output_type": "display_data"
    }
   ],
   "source": [
    "# plot the relation between a building's area and height with distinction of the damage grade\n",
    "sns.relplot(\n",
    "    data=train_values,\n",
    "    x=\"area_percentage\", y=\"height_percentage\",\n",
    "    hue=\"damage_grade\", aspect=11.7/9\n",
    ")"
   ]
  },
  {
   "cell_type": "markdown",
   "metadata": {},
   "source": [
    "There are many purple points!  \n",
    "Top-Left: several buildings with high percentage of height and relatively smaller areas appear to be classified with damage_grade **3**. It seems fair to assume the higher the building, and the smaller its area, the more damage it will endure."
   ]
  },
  {
   "cell_type": "code",
   "execution_count": 16,
   "metadata": {
    "colab": {
     "base_uri": "https://localhost:8080/",
     "height": 297
    },
    "id": "znqkOuucLLUE",
    "outputId": "b7710041-6803-4be5-ea3c-618a8484aa4f"
   },
   "outputs": [
    {
     "data": {
      "text/plain": [
       "<matplotlib.axes._subplots.AxesSubplot at 0x28a539e4550>"
      ]
     },
     "execution_count": 16,
     "metadata": {},
     "output_type": "execute_result"
    },
    {
     "data": {
      "image/png": "[encoded data removed]",
      "text/plain": [
       "<Figure size 432x288 with 1 Axes>"
      ]
     },
     "metadata": {},
     "output_type": "display_data"
    }
   ],
   "source": [
    "# the area percentage for buildings white taking note of the roof type\n",
    "sns.violinplot(x='roof_type', y='area_percentage', data=train_values)"
   ]
  },
  {
   "cell_type": "code",
   "execution_count": 17,
   "metadata": {
    "colab": {
     "base_uri": "https://localhost:8080/",
     "height": 393
    },
    "id": "1l7H66uQ9z79",
    "outputId": "3930baec-7d9e-4a1a-9391-34e34e47bb39"
   },
   "outputs": [
    {
     "data": {
      "text/plain": [
       "<matplotlib.axes._subplots.AxesSubplot at 0x28a53b38760>"
      ]
     },
     "execution_count": 17,
     "metadata": {},
     "output_type": "execute_result"
    },
    {
     "data": {
      "image/png": "[encoded data removed]",
      "text/plain": [
       "<Figure size 432x288 with 2 Axes>"
      ]
     },
     "metadata": {},
     "output_type": "display_data"
    }
   ],
   "source": [
    "# plot the heatmap to plot correlation between features\n",
    "without_flags = [\n",
    " 'geo_level_1_id',\n",
    " 'geo_level_2_id',\n",
    " 'geo_level_3_id',\n",
    " 'count_floors_pre_eq',\n",
    " 'age',\n",
    " 'area_percentage',\n",
    " 'height_percentage',\n",
    " 'foundation_type',\n",
    " 'ground_floor_type',\n",
    " 'other_floor_type',\n",
    " 'position',\n",
    " 'plan_configuration',\n",
    " 'legal_ownership_status',\n",
    " 'count_families',\n",
    " 'damage_grade',]\n",
    "corr = df[without_flags].corr()\n",
    "sns.heatmap(corr)"
   ]
  },
  {
   "cell_type": "markdown",
   "metadata": {
    "id": "sVL-FnhXYOmC"
   },
   "source": [
    "There seems to be some correlation between the features *geo_level_1_id* and *foundation_type*, intersting. Also between *area_percentage* and *ground_floor_type*.   \n",
    "Some obvious correlations can be seen such as the one between the building's height and the count of floors."
   ]
  },
  {
   "cell_type": "code",
   "execution_count": 18,
   "metadata": {
    "colab": {
     "base_uri": "https://localhost:8080/",
     "height": 401
    },
    "id": "Vq4WhG60GaQW",
    "outputId": "b389f441-6633-4d20-a416-594d1cb12ed9"
   },
   "outputs": [
    {
     "data": {
      "text/plain": [
       "<seaborn.axisgrid.FacetGrid at 0x28a539dc460>"
      ]
     },
     "execution_count": 18,
     "metadata": {},
     "output_type": "execute_result"
    },
    {
     "data": {
      "image/png": "[encoded data removed]",
      "text/plain": [
       "<Figure size 360x360 with 1 Axes>"
      ]
     },
     "metadata": {},
     "output_type": "display_data"
    }
   ],
   "source": [
    "# A barplot showing how many instances of each class there are\n",
    "sns.catplot(x='damage_grade', data=df, kind='count', palette=sns.color_palette(['green','purple', 'blue']))"
   ]
  },
  {
   "cell_type": "markdown",
   "metadata": {
    "id": "oUhbRH3lFvnq"
   },
   "source": [
    "<a name=\"imbalance\"></a>\n",
    "According to this plot, there seems to be a multiclass imbalance. This means that in this dataset there are more instances where the damage_grade is 2, but less ones where the damage_grade is 1 or 3. This is a problem because the model is not going to be trained well to predict the classes where there is less data. \n",
    "One way to fix this is using SMOTE.  \n",
    "\n",
    "With SMOTE (Synthetic Minority Over-sampling Technique), we can either oversample or undersample certain classes.  \n",
    "\n",
    "\n",
    "We will get to performing SMOTE [later](#SMOTE) in the notebook."
   ]
  },
  {
   "cell_type": "code",
   "execution_count": 19,
   "metadata": {
    "colab": {
     "base_uri": "https://localhost:8080/",
     "height": 224
    },
    "id": "Ly7MSU486bcO",
    "outputId": "e62d0dbe-92a5-44cd-ab40-ffcd2602fd59"
   },
   "outputs": [
    {
     "data": {
      "text/html": [
       "<div>\n",
       "<style scoped>\n",
       "    .dataframe tbody tr th:only-of-type {\n",
       "        vertical-align: middle;\n",
       "    }\n",
       "\n",
       "    .dataframe tbody tr th {\n",
       "        vertical-align: top;\n",
       "    }\n",
       "\n",
       "    .dataframe thead th {\n",
       "        text-align: right;\n",
       "    }\n",
       "</style>\n",
       "<table border=\"1\" class=\"dataframe\">\n",
       "  <thead>\n",
       "    <tr style=\"text-align: right;\">\n",
       "      <th></th>\n",
       "      <th>building_id</th>\n",
       "      <th>geo_level_1_id</th>\n",
       "      <th>geo_level_2_id</th>\n",
       "      <th>geo_level_3_id</th>\n",
       "      <th>count_floors_pre_eq</th>\n",
       "      <th>age</th>\n",
       "      <th>area_percentage</th>\n",
       "      <th>height_percentage</th>\n",
       "      <th>foundation_type</th>\n",
       "      <th>ground_floor_type</th>\n",
       "      <th>...</th>\n",
       "      <th>has_secondary_use_gov_office</th>\n",
       "      <th>has_secondary_use_use_police</th>\n",
       "      <th>has_secondary_use_other</th>\n",
       "      <th>damage_grade</th>\n",
       "      <th>land_surface_condition_n</th>\n",
       "      <th>land_surface_condition_o</th>\n",
       "      <th>land_surface_condition_t</th>\n",
       "      <th>roof_type_n</th>\n",
       "      <th>roof_type_q</th>\n",
       "      <th>roof_type_x</th>\n",
       "    </tr>\n",
       "  </thead>\n",
       "  <tbody>\n",
       "    <tr>\n",
       "      <th>0</th>\n",
       "      <td>802906</td>\n",
       "      <td>6</td>\n",
       "      <td>487</td>\n",
       "      <td>12198</td>\n",
       "      <td>2</td>\n",
       "      <td>30</td>\n",
       "      <td>6</td>\n",
       "      <td>5</td>\n",
       "      <td>2.0</td>\n",
       "      <td>0.0</td>\n",
       "      <td>...</td>\n",
       "      <td>0</td>\n",
       "      <td>0</td>\n",
       "      <td>0</td>\n",
       "      <td>3.0</td>\n",
       "      <td>0</td>\n",
       "      <td>0</td>\n",
       "      <td>1</td>\n",
       "      <td>1</td>\n",
       "      <td>0</td>\n",
       "      <td>0</td>\n",
       "    </tr>\n",
       "    <tr>\n",
       "      <th>1</th>\n",
       "      <td>28830</td>\n",
       "      <td>8</td>\n",
       "      <td>900</td>\n",
       "      <td>2812</td>\n",
       "      <td>2</td>\n",
       "      <td>10</td>\n",
       "      <td>8</td>\n",
       "      <td>7</td>\n",
       "      <td>2.0</td>\n",
       "      <td>3.0</td>\n",
       "      <td>...</td>\n",
       "      <td>0</td>\n",
       "      <td>0</td>\n",
       "      <td>0</td>\n",
       "      <td>2.0</td>\n",
       "      <td>0</td>\n",
       "      <td>1</td>\n",
       "      <td>0</td>\n",
       "      <td>1</td>\n",
       "      <td>0</td>\n",
       "      <td>0</td>\n",
       "    </tr>\n",
       "    <tr>\n",
       "      <th>2</th>\n",
       "      <td>94947</td>\n",
       "      <td>21</td>\n",
       "      <td>363</td>\n",
       "      <td>8973</td>\n",
       "      <td>2</td>\n",
       "      <td>10</td>\n",
       "      <td>5</td>\n",
       "      <td>5</td>\n",
       "      <td>2.0</td>\n",
       "      <td>0.0</td>\n",
       "      <td>...</td>\n",
       "      <td>0</td>\n",
       "      <td>0</td>\n",
       "      <td>0</td>\n",
       "      <td>3.0</td>\n",
       "      <td>0</td>\n",
       "      <td>0</td>\n",
       "      <td>1</td>\n",
       "      <td>1</td>\n",
       "      <td>0</td>\n",
       "      <td>0</td>\n",
       "    </tr>\n",
       "    <tr>\n",
       "      <th>3</th>\n",
       "      <td>590882</td>\n",
       "      <td>22</td>\n",
       "      <td>418</td>\n",
       "      <td>10694</td>\n",
       "      <td>2</td>\n",
       "      <td>10</td>\n",
       "      <td>6</td>\n",
       "      <td>5</td>\n",
       "      <td>2.0</td>\n",
       "      <td>0.0</td>\n",
       "      <td>...</td>\n",
       "      <td>0</td>\n",
       "      <td>0</td>\n",
       "      <td>0</td>\n",
       "      <td>2.0</td>\n",
       "      <td>0</td>\n",
       "      <td>0</td>\n",
       "      <td>1</td>\n",
       "      <td>1</td>\n",
       "      <td>0</td>\n",
       "      <td>0</td>\n",
       "    </tr>\n",
       "    <tr>\n",
       "      <th>4</th>\n",
       "      <td>201944</td>\n",
       "      <td>11</td>\n",
       "      <td>131</td>\n",
       "      <td>1488</td>\n",
       "      <td>3</td>\n",
       "      <td>30</td>\n",
       "      <td>8</td>\n",
       "      <td>9</td>\n",
       "      <td>2.0</td>\n",
       "      <td>0.0</td>\n",
       "      <td>...</td>\n",
       "      <td>0</td>\n",
       "      <td>0</td>\n",
       "      <td>0</td>\n",
       "      <td>3.0</td>\n",
       "      <td>0</td>\n",
       "      <td>0</td>\n",
       "      <td>1</td>\n",
       "      <td>1</td>\n",
       "      <td>0</td>\n",
       "      <td>0</td>\n",
       "    </tr>\n",
       "  </tbody>\n",
       "</table>\n",
       "<p>5 rows × 44 columns</p>\n",
       "</div>"
      ],
      "text/plain": [
       "   building_id  geo_level_1_id  geo_level_2_id  geo_level_3_id  \\\n",
       "0       802906               6             487           12198   \n",
       "1        28830               8             900            2812   \n",
       "2        94947              21             363            8973   \n",
       "3       590882              22             418           10694   \n",
       "4       201944              11             131            1488   \n",
       "\n",
       "   count_floors_pre_eq  age  area_percentage  height_percentage  \\\n",
       "0                    2   30                6                  5   \n",
       "1                    2   10                8                  7   \n",
       "2                    2   10                5                  5   \n",
       "3                    2   10                6                  5   \n",
       "4                    3   30                8                  9   \n",
       "\n",
       "   foundation_type  ground_floor_type  ...  has_secondary_use_gov_office  \\\n",
       "0              2.0                0.0  ...                             0   \n",
       "1              2.0                3.0  ...                             0   \n",
       "2              2.0                0.0  ...                             0   \n",
       "3              2.0                0.0  ...                             0   \n",
       "4              2.0                0.0  ...                             0   \n",
       "\n",
       "   has_secondary_use_use_police  has_secondary_use_other  damage_grade  \\\n",
       "0                             0                        0           3.0   \n",
       "1                             0                        0           2.0   \n",
       "2                             0                        0           3.0   \n",
       "3                             0                        0           2.0   \n",
       "4                             0                        0           3.0   \n",
       "\n",
       "   land_surface_condition_n  land_surface_condition_o  \\\n",
       "0                         0                         0   \n",
       "1                         0                         1   \n",
       "2                         0                         0   \n",
       "3                         0                         0   \n",
       "4                         0                         0   \n",
       "\n",
       "   land_surface_condition_t  roof_type_n  roof_type_q  roof_type_x  \n",
       "0                         1            1            0            0  \n",
       "1                         0            1            0            0  \n",
       "2                         1            1            0            0  \n",
       "3                         1            1            0            0  \n",
       "4                         1            1            0            0  \n",
       "\n",
       "[5 rows x 44 columns]"
      ]
     },
     "execution_count": 19,
     "metadata": {},
     "output_type": "execute_result"
    }
   ],
   "source": [
    "df.head()"
   ]
  },
  {
   "cell_type": "markdown",
   "metadata": {
    "id": "CEWrscpx6bcP"
   },
   "source": [
    "# Predict Damage"
   ]
  },
  {
   "cell_type": "markdown",
   "metadata": {
    "id": "iNebAH3AHrHm"
   },
   "source": [
    "First, let's the prepare data"
   ]
  },
  {
   "cell_type": "code",
   "execution_count": 20,
   "metadata": {
    "colab": {
     "base_uri": "https://localhost:8080/"
    },
    "id": "8D8tiFqm6bcP",
    "outputId": "44b9f300-27c6-43c7-9344-851e107e332b"
   },
   "outputs": [
    {
     "name": "stdout",
     "output_type": "stream",
     "text": [
      "train values shape: (260601, 44)\n",
      "test values shape: (86868, 43)\n"
     ]
    }
   ],
   "source": [
    "# seperate training and testing data \n",
    "new_train_values = df.iloc[:260601,]\n",
    "new_test_values = df.iloc[260601:,]\n",
    "\n",
    "new_test_values = new_test_values.drop('damage_grade', axis=1)\n",
    "\n",
    "print('train values shape:', new_train_values.shape)\n",
    "print('test values shape:', new_test_values.shape)"
   ]
  },
  {
   "cell_type": "markdown",
   "metadata": {
    "id": "cB4fZWZY6bcU"
   },
   "source": [
    "<a name=\"gbi\"></a>\n",
    "## Gradient Boosting Classifier"
   ]
  },
  {
   "cell_type": "code",
   "execution_count": 21,
   "metadata": {
    "colab": {
     "base_uri": "https://localhost:8080/"
    },
    "id": "9chaT_ZN7ijX",
    "outputId": "0cee4736-e3f3-4a5e-d685-b27f1f820a66"
   },
   "outputs": [
    {
     "name": "stdout",
     "output_type": "stream",
     "text": [
      "X_train : (182420, 43)\n",
      "X_test : (78181, 43)\n",
      "y_train : (182420,)\n",
      "y_test : (78181,)\n"
     ]
    }
   ],
   "source": [
    "x=new_train_values.drop('damage_grade', axis=1)\n",
    "y=new_train_values['damage_grade']\n",
    "\n",
    "X_train, X_test, y_train, y_test = train_test_split(x, y, test_size=0.30, random_state=43)\n",
    "\n",
    "print('X_train :', X_train.shape)\n",
    "print('X_test :', X_test.shape)\n",
    "print('y_train :', y_train.shape)\n",
    "print('y_test :', y_test.shape)"
   ]
  },
  {
   "cell_type": "markdown",
   "metadata": {
    "id": "q_NTv3AcZuei"
   },
   "source": [
    "- learning_rate : shrinks the contribution of each tree by learning_rate. There is a trade-off between learning_rate and n_estimators.\n",
    "\n",
    "- max_depth :  limits the number of nodes in the tree. Tune this parameter for best performance; the best value depends on the interaction of the input variables.\n",
    "\n",
    "- n_estimators : The number of boosting stages to perform. Gradient boosting is fairly robust to over-fitting so a large number usually results in better performance.\n",
    "\n",
    "- min_samples_split : The minimum number of samples required to split an internal node.\n",
    "\n",
    "- max_features : The number of features to consider when looking for the best split\n",
    "\n",
    "- verbose:  If 1 then it prints progress and performance once in a while (the more trees the lower the frequency)."
   ]
  },
  {
   "cell_type": "code",
   "execution_count": 22,
   "metadata": {
    "id": "0OG-kz3e7igS"
   },
   "outputs": [],
   "source": [
    "GBI = GradientBoostingClassifier(\n",
    "                                learning_rate=0.01, \n",
    "                                max_depth=4,\n",
    "                                n_estimators = 500,\n",
    "                                max_features= \"sqrt\",\n",
    "                                #random_state=42,\n",
    "                                verbose = 1\n",
    "                                )"
   ]
  },
  {
   "cell_type": "code",
   "execution_count": 23,
   "metadata": {
    "colab": {
     "base_uri": "https://localhost:8080/"
    },
    "id": "Vx3TGKCp6bcV",
    "outputId": "c6a0a264-632f-4658-f018-df0d8f0e177c"
   },
   "outputs": [
    {
     "name": "stdout",
     "output_type": "stream",
     "text": [
      "      Iter       Train Loss   Remaining Time \n",
      "         1      166311.5016           20.92m\n",
      "         2      166062.2040           21.45m\n",
      "         3      165768.8950           21.78m\n",
      "         4      165420.8893           21.78m\n",
      "         5      165078.7463           22.06m\n",
      "         6      164781.1136           21.80m\n",
      "         7      164606.4587           21.76m\n",
      "         8      164354.3965           21.92m\n",
      "         9      164093.4797           21.79m\n",
      "        10      163801.2604           21.94m\n",
      "        20      161396.4391           21.50m\n",
      "        30      159207.9025           20.89m\n",
      "        40      157325.5873           20.76m\n",
      "        50      155656.6486           20.38m\n",
      "        60      154182.1866           20.02m\n",
      "        70      152929.0644           19.31m\n",
      "        80      151703.0482           18.63m\n",
      "        90      150587.2702           18.06m\n",
      "       100      149674.2475           17.46m\n",
      "       200      142572.2525           12.69m\n",
      "       300      138742.5295            8.65m\n",
      "       400      136082.4743            4.28m\n",
      "       500      134277.9089            0.00s\n"
     ]
    },
    {
     "data": {
      "text/plain": [
       "GradientBoostingClassifier(learning_rate=0.01, max_depth=4, max_features='sqrt',\n",
       "                           n_estimators=500, verbose=1)"
      ]
     },
     "execution_count": 23,
     "metadata": {},
     "output_type": "execute_result"
    }
   ],
   "source": [
    "GBI.fit(X_train, y_train)"
   ]
  },
  {
   "cell_type": "code",
   "execution_count": 24,
   "metadata": {
    "id": "_OcVNza57idj"
   },
   "outputs": [],
   "source": [
    "predictions = GBI.predict(X_test)"
   ]
  },
  {
   "cell_type": "code",
   "execution_count": 25,
   "metadata": {
    "id": "5X3TVeaS7iZw"
   },
   "outputs": [],
   "source": [
    "def prediction_result(matrix):\n",
    "\n",
    "    TP = matrix[0][0]\n",
    "    FP = matrix[0][1]\n",
    "    FN = matrix[1][0]\n",
    "    TN = matrix[1][1]\n",
    "    print(\"Accuracy: __ %1.3f\" % ((TP+TN)/(TP+FP+FN+TN)))\n",
    "    print(\"Sensitivity: %1.3f\" % (TP/(TP+FN)))\n",
    "    print(\"Specificity: %1.3f\" % (TN/(FP+TN)))\n",
    "    print(\"F1-Score: __ %1.3f\" % ((2*TP)/(2*TP+FP+FN)))\n",
    "    print(\"Confusion matrix:\\n\", matrix)"
   ]
  },
  {
   "cell_type": "code",
   "execution_count": 26,
   "metadata": {
    "colab": {
     "base_uri": "https://localhost:8080/"
    },
    "id": "_f8WtLMT7iWg",
    "outputId": "9b66d668-3685-4f3a-bb63-30666bb7b8c0"
   },
   "outputs": [
    {
     "name": "stdout",
     "output_type": "stream",
     "text": [
      "Accuracy: __ 0.872\n",
      "Sensitivity: 0.644\n",
      "Specificity: 0.891\n",
      "F1-Score: __ 0.442\n",
      "Confusion matrix:\n",
      " [[ 2512  4947    44]\n",
      " [ 1388 40470  2645]\n",
      " [   83 17541  8551]]\n"
     ]
    }
   ],
   "source": [
    "prediction_result(confusion_matrix(y_test, predictions))"
   ]
  },
  {
   "cell_type": "markdown",
   "metadata": {
    "id": "5WDU5j4mi5yO"
   },
   "source": [
    "## Feature Importances"
   ]
  },
  {
   "cell_type": "code",
   "execution_count": 27,
   "metadata": {
    "colab": {
     "base_uri": "https://localhost:8080/",
     "height": 1000
    },
    "id": "uVpUFYS6gQXE",
    "outputId": "fa933a60-31f1-4df1-ce93-74f10fd54e14"
   },
   "outputs": [
    {
     "data": {
      "image/png": "[encoded data removed]",
      "text/plain": [
       "<Figure size 576x1296 with 1 Axes>"
      ]
     },
     "metadata": {},
     "output_type": "display_data"
    }
   ],
   "source": [
    "# Plot feature importance https://scikit-learn.org/stable/modules/generated/sklearn.svm.SVR.html#sklearn.svm.SVR\n",
    "feature_importance = GBI.feature_importances_\n",
    "\n",
    "# make importances relative to max importance\n",
    "feature_importance = 100.0 * (feature_importance / feature_importance.max())\n",
    "sorted_idx = np.argsort(feature_importance)\n",
    "pos = np.arange(sorted_idx.shape[0]) + .5\n",
    "\n",
    "plt.figure(figsize=(8, 18))\n",
    "plt.barh(pos, feature_importance[sorted_idx], align='center')\n",
    "plt.yticks(pos, X_train.keys()[sorted_idx])\n",
    "plt.xlabel('Relative Importance')\n",
    "plt.title('Variable Importance')\n",
    "plt.show()"
   ]
  },
  {
   "cell_type": "code",
   "execution_count": 28,
   "metadata": {
    "id": "v4XLx7PzjDlO"
   },
   "outputs": [],
   "source": [
    "# select top 26 features (arbitrary choice from looking at the graph above)\n",
    "#list(df)\n",
    "top_features = ['geo_level_1_id', 'foundation_type', 'has_superstructure_mud_mortar_stone', 'roof_type_x',\n",
    "                'has_superstructure_cement_mortar_brick', 'age', 'count_floors_pre_eq', 'ground_floor_type',\n",
    "                'geo_level_2_id', 'other_floor_type', 'has_superstructure_adobe_mud', 'has_superstructure_rc_engineered',\n",
    "                'has_superstructure_timber', 'has_superstructure_mud_mortar_brick', 'area_percentage',\n",
    "                'has_superstructure_stone_flag', 'position', 'height_percentage', 'has_superstructure_bamboo',\n",
    "                'has_superstructure_rc_non_engineered', 'geo_level_3_id', 'has_secondary_use', 'roof_type_q',\n",
    "                'roof_type_n', 'count_families', 'has_superstructure_cement_mortar_stone']"
   ]
  },
  {
   "cell_type": "code",
   "execution_count": 29,
   "metadata": {
    "colab": {
     "base_uri": "https://localhost:8080/",
     "height": 231
    },
    "id": "nE9JABF_jDgR",
    "outputId": "0958d2b8-a980-4935-b870-62ceeb582b66"
   },
   "outputs": [
    {
     "name": "stdout",
     "output_type": "stream",
     "text": [
      "X_train : (182420, 26)\n",
      "X_test : (78181, 26)\n",
      "y_train : (182420,)\n",
      "y_test : (78181,)\n"
     ]
    }
   ],
   "source": [
    "X_fs = new_train_values[top_features]\n",
    "y_fs = new_train_values['damage_grade']\n",
    "\n",
    "X_train_fs, X_test_fs, y_train_fs, y_test_fs = train_test_split(X_fs, y_fs, test_size=0.30, random_state=43)\n",
    "\n",
    "print('X_train :', X_train_fs.shape)\n",
    "print('X_test :', X_test_fs.shape)\n",
    "print('y_train :', y_train_fs.shape)\n",
    "print('y_test :', y_test_fs.shape)"
   ]
  },
  {
   "cell_type": "code",
   "execution_count": 30,
   "metadata": {
    "id": "0uVIoKeUneMe"
   },
   "outputs": [],
   "source": [
    "GBI_fs = GradientBoostingClassifier(\n",
    "                                learning_rate=0.01, \n",
    "                                max_depth=4,\n",
    "                                n_estimators = 500,\n",
    "                                max_features= \"sqrt\",\n",
    "                                #random_state=42,\n",
    "                                verbose = 1\n",
    "                                )"
   ]
  },
  {
   "cell_type": "code",
   "execution_count": 31,
   "metadata": {
    "colab": {
     "base_uri": "https://localhost:8080/"
    },
    "id": "VrAcQMFlneEf",
    "outputId": "d949a2ef-7b7e-4069-a400-9a25f9120f02"
   },
   "outputs": [
    {
     "name": "stdout",
     "output_type": "stream",
     "text": [
      "      Iter       Train Loss   Remaining Time \n",
      "         1      166241.1281           23.13m\n",
      "         2      165930.8879           23.12m\n",
      "         3      165581.7545           22.33m\n",
      "         4      165231.7587           22.17m\n",
      "         5      164888.4777           21.80m\n",
      "         6      164556.7482           21.71m\n",
      "         7      164257.4266           21.71m\n",
      "         8      163951.7063           21.42m\n",
      "         9      163635.5117           21.43m\n",
      "        10      163370.0036           21.20m\n",
      "        20      160533.3704           20.86m\n",
      "        30      158323.8461           20.29m\n",
      "        40      156143.0824           19.89m\n",
      "        50      154284.7943           19.40m\n",
      "        60      152873.6371           19.04m\n",
      "        70      151529.5033           18.56m\n",
      "        80      150380.6419           18.02m\n",
      "        90      149088.4615           17.47m\n",
      "       100      148007.3576           16.91m\n",
      "       200      140584.2506           12.86m\n",
      "       300      136516.7903            9.00m\n",
      "       400      134107.2235            4.71m\n",
      "       500      132237.7822            0.00s\n"
     ]
    },
    {
     "data": {
      "text/plain": [
       "GradientBoostingClassifier(learning_rate=0.01, max_depth=4, max_features='sqrt',\n",
       "                           n_estimators=500, verbose=1)"
      ]
     },
     "execution_count": 31,
     "metadata": {},
     "output_type": "execute_result"
    }
   ],
   "source": [
    "GBI_fs.fit(X_train_fs, y_train_fs)"
   ]
  },
  {
   "cell_type": "code",
   "execution_count": 32,
   "metadata": {
    "id": "7v7tAAigjDWA"
   },
   "outputs": [],
   "source": [
    "predictions_fs = GBI_fs.predict(X_test_fs)"
   ]
  },
  {
   "cell_type": "code",
   "execution_count": 33,
   "metadata": {
    "colab": {
     "base_uri": "https://localhost:8080/"
    },
    "id": "zW-G5H9epBi-",
    "outputId": "8f34fe17-dd1d-4cfd-a83f-1cc53064094f"
   },
   "outputs": [
    {
     "name": "stdout",
     "output_type": "stream",
     "text": [
      "Accuracy: __ 0.872\n",
      "Sensitivity: 0.646\n",
      "Specificity: 0.892\n",
      "F1-Score: __ 0.448\n",
      "Confusion matrix:\n",
      " [[ 2555  4901    47]\n",
      " [ 1399 40374  2730]\n",
      " [   80 17286  8809]]\n"
     ]
    }
   ],
   "source": [
    "prediction_result(confusion_matrix(y_test_fs, predictions_fs))"
   ]
  },
  {
   "cell_type": "markdown",
   "metadata": {
    "id": "iKBuw9KSlRXS"
   },
   "source": [
    "<a name=\"SMOTE\"></a>\n",
    "## Perform SMOTE"
   ]
  },
  {
   "cell_type": "markdown",
   "metadata": {
    "id": "P--Ko7qU6bcY"
   },
   "source": [
    "As mentioned [earlier](#imbalance), the data suffers from imbalance. We will deal with it using SMOTE."
   ]
  },
  {
   "cell_type": "code",
   "execution_count": 34,
   "metadata": {
    "colab": {
     "base_uri": "https://localhost:8080/"
    },
    "id": "6eAEpBRp6bcZ",
    "outputId": "4d17abcf-cb74-480a-efef-27aa778983a2"
   },
   "outputs": [
    {
     "name": "stdout",
     "output_type": "stream",
     "text": [
      "148259 -> 42.67 %\n",
      "87218 -> 25.1 %\n",
      "25124 -> 7.23 %\n"
     ]
    }
   ],
   "source": [
    "classes = df['damage_grade'].value_counts()\n",
    "tot = len(df['damage_grade'])\n",
    "for cl in classes:\n",
    "  print(cl, '->', round(cl/tot*100, 2), '%')"
   ]
  },
  {
   "cell_type": "code",
   "execution_count": 51,
   "metadata": {
    "colab": {
     "base_uri": "https://localhost:8080/",
     "height": 280
    },
    "id": "sEiHcoc36bcZ",
    "outputId": "c80f42fc-c7d4-4907-af33-ab108c14e3aa"
   },
   "outputs": [
    {
     "data": {
      "text/plain": [
       "<seaborn.axisgrid.FacetGrid at 0x28a54a60c70>"
      ]
     },
     "execution_count": 51,
     "metadata": {},
     "output_type": "execute_result"
    },
    {
     "data": {
      "image/png": "[encoded data removed]",
      "text/plain": [
       "<Figure size 360x360 with 1 Axes>"
      ]
     },
     "metadata": {},
     "output_type": "display_data"
    }
   ],
   "source": [
    "sns.catplot(x='damage_grade', data=df, kind='count', palette=sns.color_palette(['green','purple', 'blue']))"
   ]
  },
  {
   "cell_type": "code",
   "execution_count": 36,
   "metadata": {
    "colab": {
     "base_uri": "https://localhost:8080/",
     "height": 231
    },
    "id": "cKV4v_qF6bca",
    "outputId": "c845110e-c8f7-4a3c-ec47-4c77aa0d9acd"
   },
   "outputs": [
    {
     "name": "stdout",
     "output_type": "stream",
     "text": [
      "X_train : (182420, 26)\n",
      "X_test : (78181, 26)\n",
      "y_train : (182420,)\n",
      "y_test : (78181,)\n"
     ]
    }
   ],
   "source": [
    "X_fs_sm = X_fs\n",
    "y_fs_sm = y_fs\n",
    "\n",
    "X_train_fs_sm, X_test_fs_sm, y_train_fs_sm, y_test_fs_sm = train_test_split(X_fs_sm, y_fs_sm, test_size=0.30, random_state=43)\n",
    "\n",
    "print('X_train :', X_train_fs_sm.shape)\n",
    "print('X_test :', X_test_fs_sm.shape)\n",
    "print('y_train :', y_train_fs_sm.shape)\n",
    "print('y_test :', y_test_fs_sm.shape)"
   ]
  },
  {
   "cell_type": "code",
   "execution_count": 37,
   "metadata": {
    "colab": {
     "base_uri": "https://localhost:8080/",
     "height": 163
    },
    "id": "I5LKjCH66bca",
    "outputId": "afe8d255-9a7a-4673-db55-09e2eac13df6"
   },
   "outputs": [],
   "source": [
    "sm = SMOTE(random_state = 2)"
   ]
  },
  {
   "cell_type": "code",
   "execution_count": 38,
   "metadata": {
    "colab": {
     "base_uri": "https://localhost:8080/",
     "height": 163
    },
    "id": "eefGOVz43qk4",
    "outputId": "17d6ad5d-2ccc-43b6-c894-d2a91c9bd999"
   },
   "outputs": [],
   "source": [
    "X_smoted, y_smoted = sm.fit_sample(X_train_fs_sm, y_train_fs_sm)"
   ]
  },
  {
   "cell_type": "code",
   "execution_count": 39,
   "metadata": {
    "id": "NDEP1q8ugCUv"
   },
   "outputs": [],
   "source": [
    "GBI_fs_sm = GradientBoostingClassifier(\n",
    "                                learning_rate=0.01, \n",
    "                                max_depth=4,\n",
    "                                n_estimators = 500,\n",
    "                                max_features= \"sqrt\",\n",
    "                                #random_state=42,\n",
    "                                verbose = 1\n",
    "                                )"
   ]
  },
  {
   "cell_type": "code",
   "execution_count": 53,
   "metadata": {},
   "outputs": [
    {
     "data": {
      "text/plain": [
       "<seaborn.axisgrid.FacetGrid at 0x28a54a631f0>"
      ]
     },
     "execution_count": 53,
     "metadata": {},
     "output_type": "execute_result"
    },
    {
     "data": {
      "image/png": "[encoded data removed]",
      "text/plain": [
       "<Figure size 360x360 with 1 Axes>"
      ]
     },
     "metadata": {},
     "output_type": "display_data"
    }
   ],
   "source": [
    "# After SMOTE\n",
    "temp_df = X_smoted\n",
    "temp_df['damage_grade'] = y_smoted\n",
    "sns.catplot(x='damage_grade', data=X_smoted, kind='count', palette=sns.color_palette(['green','purple', 'blue']))"
   ]
  },
  {
   "cell_type": "code",
   "execution_count": 40,
   "metadata": {
    "id": "XwN8_JQP6bca"
   },
   "outputs": [
    {
     "name": "stdout",
     "output_type": "stream",
     "text": [
      "      Iter       Train Loss   Remaining Time \n",
      "         1      340673.4056           37.26m\n",
      "         2      339453.0975           38.08m\n",
      "         3      338121.4028           39.14m\n",
      "         4      336773.0037           40.23m\n",
      "         5      335425.3413           39.79m\n",
      "         6      334176.0034           39.86m\n",
      "         7      332909.7286           40.07m\n",
      "         8      331609.0023           39.98m\n",
      "         9      330381.6176           40.04m\n",
      "        10      329277.8457           40.19m\n",
      "        20      318686.1643           39.38m\n",
      "        30      309762.6125           40.91m\n",
      "        40      301578.6443           42.20m\n",
      "        50      294748.5880           41.92m\n",
      "        60      288319.9727           41.18m\n",
      "        70      282693.0905           40.37m\n",
      "        80      277821.4899           39.60m\n",
      "        90      273114.5506           38.75m\n",
      "       100      268959.9134           37.88m\n",
      "       200      242367.7056           28.08m\n",
      "       300      228406.0112           18.53m\n",
      "       400      219555.7745            8.95m\n",
      "       500      212571.1047            0.00s\n"
     ]
    },
    {
     "data": {
      "text/plain": [
       "GradientBoostingClassifier(learning_rate=0.01, max_depth=4, max_features='sqrt',\n",
       "                           n_estimators=500, verbose=1)"
      ]
     },
     "execution_count": 40,
     "metadata": {},
     "output_type": "execute_result"
    }
   ],
   "source": [
    "GBI_fs_sm.fit(X_smoted, y_smoted)"
   ]
  },
  {
   "cell_type": "code",
   "execution_count": 45,
   "metadata": {
    "id": "l_X2SNeU6bcb"
   },
   "outputs": [],
   "source": [
    "predictions_fs_sm = GBI_fs_sm.predict(X_test_fs_sm)"
   ]
  },
  {
   "cell_type": "code",
   "execution_count": 46,
   "metadata": {
    "id": "gqt-4rd26bcb"
   },
   "outputs": [
    {
     "name": "stdout",
     "output_type": "stream",
     "text": [
      "Accuracy: __ 0.810\n",
      "Sensitivity: 0.475\n",
      "Specificity: 0.922\n",
      "F1-Score: __ 0.556\n",
      "Confusion matrix:\n",
      " [[ 4604  2276   623]\n",
      " [ 5086 26839 12578]\n",
      " [  595  9052 16528]]\n"
     ]
    }
   ],
   "source": [
    "prediction_result(confusion_matrix(y_test_fs_sm, predictions_fs_sm))"
   ]
  },
  {
   "cell_type": "markdown",
   "metadata": {
    "id": "2SXsI0ZdGq2c"
   },
   "source": [
    "<a name=\"submit\"></a>\n",
    "Predict and upload csv files of respective method"
   ]
  },
  {
   "cell_type": "code",
   "execution_count": 47,
   "metadata": {
    "id": "5xtUYVkkG7wF"
   },
   "outputs": [],
   "source": [
    "# Gradient Boosting Classifier | NO Feature Selection & NO SMOTE\n",
    "predictions = GBI.predict(new_test_values)\n",
    "\n",
    "result = pd.DataFrame({'building_id': new_test_values.building_id, 'damage_grade': predictions.astype(int)})\n",
    "result.to_csv('GBI_earthquake_damage_attempt_1.csv', index=False)"
   ]
  },
  {
   "cell_type": "code",
   "execution_count": 48,
   "metadata": {
    "id": "fCYgV6nM6bcc"
   },
   "outputs": [],
   "source": [
    "# Gradient Boosting Classifier | YES Feature Selection & NO SMOTE\n",
    "predictions_fs = GBI_fs.predict(new_test_values[top_features])\n",
    "\n",
    "result = pd.DataFrame({'building_id': new_test_values.building_id, 'damage_grade': predictions_fs.astype(int)})\n",
    "result.to_csv('GBI_fs_earthquake_damage_attempt_1.csv', index=False)"
   ]
  },
  {
   "cell_type": "code",
   "execution_count": 49,
   "metadata": {
    "id": "bNJGv32zHW-o"
   },
   "outputs": [],
   "source": [
    "# Gradient Boosting Classifier | YES Feature Selection & YES SMOTE\n",
    "predictions_fs_sm = GBI_fs_sm.predict(new_test_values[top_features])\n",
    "\n",
    "result = pd.DataFrame({'building_id': new_test_values.building_id, 'damage_grade': predictions_fs_sm.astype(int)})\n",
    "result.to_csv('GBI_fs_sm_earthquake_damage_attempt_1.csv', index=False)"
   ]
  },
  {
   "cell_type": "code",
   "execution_count": null,
   "metadata": {},
   "outputs": [],
   "source": []
  }
 ],
 "metadata": {
  "colab": {
   "name": "Modeling_Earthquake_Damage_05.ipynb",
   "provenance": []
  },
  "kernelspec": {
   "display_name": "Python 3",
   "language": "python",
   "name": "python3"
  },
  "language_info": {
   "codemirror_mode": {
    "name": "ipython",
    "version": 3
   },
   "file_extension": ".py",
   "mimetype": "text/x-python",
   "name": "python",
   "nbconvert_exporter": "python",
   "pygments_lexer": "ipython3",
   "version": "3.8.3"
  }
 },
 "nbformat": 4,
 "nbformat_minor": 1
}
